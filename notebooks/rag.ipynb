{
 "cells": [
  {
   "cell_type": "markdown",
   "metadata": {},
   "source": [
    "# Ollama Python Library\n",
    "\n",
    "The Ollama Python library provides the easiest way to integrate Python 3.8+ projects with Ollama.\n",
    "\n",
    "## Prerequisites\n",
    "\n",
    "- Ollama should be installed and running\n",
    "- Pull a model to use with the library: ollama pull <model> e.g. ollama pull llama3.2\n",
    "  - See Ollama.com for more information on the models available."
   ]
  },
  {
   "cell_type": "code",
   "execution_count": 1,
   "metadata": {},
   "outputs": [
    {
     "name": "stdout",
     "output_type": "stream",
     "text": [
      "Requirement already satisfied: python-dotenv in c:\\users\\rapha\\project\\005-eliza\\.venv\\lib\\site-packages (1.0.1)\n",
      "Note: you may need to restart the kernel to use updated packages.\n",
      "Collecting ollama\n",
      "  Using cached ollama-0.4.7-py3-none-any.whl.metadata (4.7 kB)\n",
      "Requirement already satisfied: httpx<0.29,>=0.27 in c:\\users\\rapha\\project\\005-eliza\\.venv\\lib\\site-packages (from ollama) (0.28.1)\n",
      "Requirement already satisfied: pydantic<3.0.0,>=2.9.0 in c:\\users\\rapha\\project\\005-eliza\\.venv\\lib\\site-packages (from ollama) (2.10.6)\n",
      "Requirement already satisfied: anyio in c:\\users\\rapha\\project\\005-eliza\\.venv\\lib\\site-packages (from httpx<0.29,>=0.27->ollama) (4.8.0)\n",
      "Requirement already satisfied: certifi in c:\\users\\rapha\\project\\005-eliza\\.venv\\lib\\site-packages (from httpx<0.29,>=0.27->ollama) (2025.1.31)\n",
      "Requirement already satisfied: httpcore==1.* in c:\\users\\rapha\\project\\005-eliza\\.venv\\lib\\site-packages (from httpx<0.29,>=0.27->ollama) (1.0.7)\n",
      "Requirement already satisfied: idna in c:\\users\\rapha\\project\\005-eliza\\.venv\\lib\\site-packages (from httpx<0.29,>=0.27->ollama) (3.10)\n",
      "Requirement already satisfied: h11<0.15,>=0.13 in c:\\users\\rapha\\project\\005-eliza\\.venv\\lib\\site-packages (from httpcore==1.*->httpx<0.29,>=0.27->ollama) (0.14.0)\n",
      "Requirement already satisfied: annotated-types>=0.6.0 in c:\\users\\rapha\\project\\005-eliza\\.venv\\lib\\site-packages (from pydantic<3.0.0,>=2.9.0->ollama) (0.7.0)\n",
      "Requirement already satisfied: pydantic-core==2.27.2 in c:\\users\\rapha\\project\\005-eliza\\.venv\\lib\\site-packages (from pydantic<3.0.0,>=2.9.0->ollama) (2.27.2)\n",
      "Requirement already satisfied: typing-extensions>=4.12.2 in c:\\users\\rapha\\project\\005-eliza\\.venv\\lib\\site-packages (from pydantic<3.0.0,>=2.9.0->ollama) (4.12.2)\n",
      "Requirement already satisfied: sniffio>=1.1 in c:\\users\\rapha\\project\\005-eliza\\.venv\\lib\\site-packages (from anyio->httpx<0.29,>=0.27->ollama) (1.3.1)\n",
      "Using cached ollama-0.4.7-py3-none-any.whl (13 kB)\n",
      "Installing collected packages: ollama\n",
      "Successfully installed ollama-0.4.7\n",
      "Note: you may need to restart the kernel to use updated packages.\n",
      "Collecting boto3\n",
      "  Downloading boto3-1.37.6-py3-none-any.whl.metadata (6.6 kB)\n",
      "Collecting botocore<1.38.0,>=1.37.6 (from boto3)\n",
      "  Downloading botocore-1.37.6-py3-none-any.whl.metadata (5.7 kB)\n",
      "Collecting jmespath<2.0.0,>=0.7.1 (from boto3)\n",
      "  Using cached jmespath-1.0.1-py3-none-any.whl.metadata (7.6 kB)\n",
      "Collecting s3transfer<0.12.0,>=0.11.0 (from boto3)\n",
      "  Downloading s3transfer-0.11.4-py3-none-any.whl.metadata (1.7 kB)\n",
      "Requirement already satisfied: python-dateutil<3.0.0,>=2.1 in c:\\users\\rapha\\project\\005-eliza\\.venv\\lib\\site-packages (from botocore<1.38.0,>=1.37.6->boto3) (2.9.0.post0)\n",
      "Collecting urllib3!=2.2.0,<3,>=1.25.4 (from botocore<1.38.0,>=1.37.6->boto3)\n",
      "  Using cached urllib3-2.3.0-py3-none-any.whl.metadata (6.5 kB)\n",
      "Requirement already satisfied: six>=1.5 in c:\\users\\rapha\\project\\005-eliza\\.venv\\lib\\site-packages (from python-dateutil<3.0.0,>=2.1->botocore<1.38.0,>=1.37.6->boto3) (1.17.0)\n",
      "Downloading boto3-1.37.6-py3-none-any.whl (139 kB)\n",
      "Downloading botocore-1.37.6-py3-none-any.whl (13.4 MB)\n",
      "   ---------------------------------------- 0.0/13.4 MB ? eta -:--:--\n",
      "   --- ------------------------------------ 1.3/13.4 MB 8.4 MB/s eta 0:00:02\n",
      "   ----------- ---------------------------- 3.9/13.4 MB 10.2 MB/s eta 0:00:01\n",
      "   --------------------- ------------------ 7.3/13.4 MB 12.2 MB/s eta 0:00:01\n",
      "   --------------------------------- ------ 11.3/13.4 MB 14.1 MB/s eta 0:00:01\n",
      "   ---------------------------------------- 13.4/13.4 MB 14.2 MB/s eta 0:00:00\n",
      "Using cached jmespath-1.0.1-py3-none-any.whl (20 kB)\n",
      "Downloading s3transfer-0.11.4-py3-none-any.whl (84 kB)\n",
      "Using cached urllib3-2.3.0-py3-none-any.whl (128 kB)\n",
      "Installing collected packages: urllib3, jmespath, botocore, s3transfer, boto3\n",
      "Successfully installed boto3-1.37.6 botocore-1.37.6 jmespath-1.0.1 s3transfer-0.11.4 urllib3-2.3.0\n",
      "Note: you may need to restart the kernel to use updated packages.\n",
      "Collecting tqdm\n",
      "  Using cached tqdm-4.67.1-py3-none-any.whl.metadata (57 kB)\n",
      "Requirement already satisfied: colorama in c:\\users\\rapha\\project\\005-eliza\\.venv\\lib\\site-packages (from tqdm) (0.4.6)\n",
      "Using cached tqdm-4.67.1-py3-none-any.whl (78 kB)\n",
      "Installing collected packages: tqdm\n",
      "Successfully installed tqdm-4.67.1\n",
      "Note: you may need to restart the kernel to use updated packages.\n"
     ]
    }
   ],
   "source": [
    "%pip install python-dotenv\n",
    "\n",
    "%pip install ollama\n",
    "%pip install boto3\n",
    "%pip install tqdm"
   ]
  },
  {
   "cell_type": "markdown",
   "metadata": {},
   "source": [
    "## Récuperation des variables d'environement\n",
    "\n",
    "Pour le notebook, obligation d'utiliser la bibliotheque python-dotenv pour récuperer les varable d'environnment dans le .env.local "
   ]
  },
  {
   "cell_type": "code",
   "execution_count": 1,
   "metadata": {},
   "outputs": [
    {
     "name": "stdout",
     "output_type": "stream",
     "text": [
      "None\n",
      "None\n",
      "None\n"
     ]
    }
   ],
   "source": [
    "import os\n",
    "from dotenv import load_dotenv\n",
    "\n",
    "load_dotenv(\"../.env.local\")\n",
    "\n",
    "print(os.getenv('AWS_ACCESS_KEY_ID'))\n",
    "print(os.getenv('AWS_SECRET_ACCESS_KEY'))\n",
    "print(os.getenv('AWS_REGION'))"
   ]
  },
  {
   "cell_type": "markdown",
   "metadata": {},
   "source": [
    "## Connexion avec AWS et intéraction avec S3"
   ]
  },
  {
   "cell_type": "code",
   "execution_count": null,
   "metadata": {},
   "outputs": [],
   "source": [
    "import os\n",
    "import boto3\n",
    "import logging\n",
    "from typing import BinaryIO, List\n",
    "from botocore.exceptions import ClientError\n",
    "\n",
    "class S3:\n",
    "    def __init__(self):\n",
    "        self.s3_client = boto3.client(\n",
    "            's3',\n",
    "            aws_access_key_id=os.getenv('AWS_ACCESS_KEY_ID'),\n",
    "            aws_secret_access_key=os.getenv('AWS_SECRET_ACCESS_KEY'),\n",
    "            region_name=os.getenv('AWS_REGION', 'eu-west-3')\n",
    "        )\n",
    "        self.s3_resource = boto3.resource(\n",
    "            's3',\n",
    "            aws_access_key_id=os.getenv('AWS_ACCESS_KEY_ID'),\n",
    "            aws_secret_access_key=os.getenv('AWS_SECRET_ACCESS_KEY'),\n",
    "            region_name=os.getenv('AWS_REGION', 'eu-west-3')\n",
    "        )\n",
    "        self.bucket_name = 'hetic-web3-groupe11-mmotors'\n",
    "        self.base_url = f\"https://{self.bucket_name}.s3.{os.getenv('AWS_REGION', 'eu-west-3')}.amazonaws.com\"\n",
    "\n",
    "    def list_tree(self) -> List[str]:\n",
    "        try:\n",
    "            bucket = self.s3_resource.Bucket(self.bucket_name)\n",
    "            return [obj.key for obj in bucket.objects.all()]\n",
    "        except ClientError as e:\n",
    "            logging.error(f\"Erreur lors de la récupération de l'arborescence : {e}\")\n",
    "            raise\n",
    "\n",
    "    def list_objects(self, folder_name: str = \"\") -> List[str]:\n",
    "        try:\n",
    "            bucket = self.s3_resource.Bucket(self.bucket_name)\n",
    "            return [obj.key for obj in bucket.objects.filter(Prefix=folder_name)]\n",
    "        except ClientError as e:\n",
    "            logging.error(f\"Erreur lors de la récupération des fichiers du dossier {folder_name} : {e}\")\n",
    "            raise\n",
    "\n",
    "    def upload_file(self, file: BinaryIO, file_name: str, folder_name: str = \"\") -> str:\n",
    "        try:\n",
    "            key = f\"{folder_name}/{file_name}\" if folder_name else file_name\n",
    "            self.s3_client.upload_fileobj(file, self.bucket_name, key)\n",
    "            return f\"{self.base_url}/{key}\"\n",
    "        except ClientError as e:\n",
    "            logging.error(f\"Erreur lors du téléversement de {file_name} : {e}\")\n",
    "            raise\n",
    "\n",
    "    def download_file(self, file_name: str, folder_name: str = \"\", local_path: str = None) -> str:\n",
    "        try:\n",
    "            key = f\"{folder_name}/{file_name}\" if folder_name else file_name\n",
    "            local_path = local_path or file_name\n",
    "            self.s3_client.download_file(self.bucket_name, key, local_path)\n",
    "            return local_path\n",
    "        except ClientError as e:\n",
    "            logging.error(f\"Erreur lors du téléchargement de {file_name} : {e}\")\n",
    "            raise\n",
    "\n",
    "    def download_all_files(self, folder: str, local_dir: str = \".\"):\n",
    "        \"\"\"\n",
    "        Télécharge tous les fichiers d'un dossier S3 vers un répertoire local.\n",
    "        :param folder: Nom du dossier (ex: 'mon-dossier/')\n",
    "        :param local_dir: Dossier local où stocker les fichiers\n",
    "        \"\"\"\n",
    "        try:\n",
    "            # Vérifier et créer le dossier avec les bonnes permissions\n",
    "            os.makedirs(local_dir, exist_ok=True)\n",
    "            os.chmod(local_dir, 0o777)  # Assurez-vous que le dossier est accessible\n",
    "\n",
    "            objects = self.list_objects(folder)\n",
    "            if not objects:\n",
    "                logging.warning(f\"Aucun fichier trouvé dans {folder}. Vérifiez le préfixe.\")\n",
    "                return\n",
    "\n",
    "            for obj in objects:\n",
    "                file_name = obj.split(\"/\")[-1]\n",
    "                file_path = os.path.join(local_dir, file_name)\n",
    "                \n",
    "                logging.info(f\"Téléchargement de {obj} vers {file_path}\")\n",
    "                self.download_file(obj, \"\", file_path)\n",
    "\n",
    "        except PermissionError:\n",
    "            logging.error(f\"Permission refusée pour écrire dans {local_dir}. Vérifiez les droits d'accès.\")\n",
    "        except ClientError as e:\n",
    "            logging.error(f\"Erreur lors du téléchargement des fichiers de {folder} : {e}\")\n",
    "            raise\n",
    "        \n",
    "    def delete(self, file_name: str = None, folder_name: str = None) -> bool:\n",
    "        try:\n",
    "            if file_name:\n",
    "                key = f\"{folder_name}/{file_name}\" if folder_name else file_name\n",
    "                self.s3_client.delete_object(Bucket=self.bucket_name, Key=key)\n",
    "                return True\n",
    "            elif folder_name:\n",
    "                for obj in self.list_objects(folder_name):\n",
    "                    self.s3_client.delete_object(Bucket=self.bucket_name, Key=obj)\n",
    "                return True\n",
    "            return False\n",
    "        except ClientError as e:\n",
    "            logging.error(f\"Erreur lors de la suppression : {e}\")\n",
    "            return False"
   ]
  },
  {
   "cell_type": "markdown",
   "metadata": {},
   "source": [
    "### Instanciation de S3"
   ]
  },
  {
   "cell_type": "code",
   "execution_count": null,
   "metadata": {},
   "outputs": [],
   "source": [
    "s3 = S3()"
   ]
  },
  {
   "cell_type": "markdown",
   "metadata": {},
   "source": [
    "### Lister tous les fichiers du bucket"
   ]
  },
  {
   "cell_type": "code",
   "execution_count": 22,
   "metadata": {},
   "outputs": [
    {
     "name": "stdout",
     "output_type": "stream",
     "text": [
      "Fichiers dans le bucket : ['development/', 'env-files/', 'env-files/aws-var.env', 'llm/', 'production/', 'test.txt']\n"
     ]
    }
   ],
   "source": [
    "files = s3.list_tree()\n",
    "print(\"Fichiers dans le bucket :\", files)"
   ]
  },
  {
   "cell_type": "markdown",
   "metadata": {},
   "source": [
    "###  Lister les fichiers dans un dossier spécifique"
   ]
  },
  {
   "cell_type": "code",
   "execution_count": 55,
   "metadata": {},
   "outputs": [
    {
     "name": "stdout",
     "output_type": "stream",
     "text": [
      "Fichiers dans le dossier 'llm/' : ['llm/', 'llm/test.pdf']\n"
     ]
    }
   ],
   "source": [
    "files_in_folder = s3.list_objects(\"llm/\")\n",
    "print(\"Fichiers dans le dossier 'llm/' :\", files_in_folder)"
   ]
  },
  {
   "cell_type": "markdown",
   "metadata": {},
   "source": [
    "### Upload d’un fichier dans un dossier spécifique"
   ]
  },
  {
   "cell_type": "code",
   "execution_count": 24,
   "metadata": {},
   "outputs": [
    {
     "name": "stdout",
     "output_type": "stream",
     "text": [
      "Fichier uploadé à : https://hetic-web3-groupe11-mmotors.s3.eu-west-3.amazonaws.com/llm/test.pdf\n"
     ]
    }
   ],
   "source": [
    "with open(\"./test.pdf\", \"rb\") as file:\n",
    "    file_url = s3.upload_file(file, \"test.pdf\", \"llm\")\n",
    "    print(f\"Fichier uploadé à : {file_url}\")"
   ]
  },
  {
   "cell_type": "markdown",
   "metadata": {},
   "source": [
    "### Télécharger un fichier depuis S3"
   ]
  },
  {
   "cell_type": "code",
   "execution_count": 26,
   "metadata": {},
   "outputs": [
    {
     "name": "stdout",
     "output_type": "stream",
     "text": [
      "Fichier téléchargé avec succès.\n"
     ]
    }
   ],
   "source": [
    "s3.download_file(\"test.pdf\", \"llm\", \"test2.pdf\")\n",
    "print(\"Fichier téléchargé avec succès.\")"
   ]
  },
  {
   "cell_type": "markdown",
   "metadata": {},
   "source": [
    "### Télécharger tous les fichiers d’un dossier S3"
   ]
  },
  {
   "cell_type": "code",
   "execution_count": 38,
   "metadata": {},
   "outputs": [
    {
     "ename": "PermissionError",
     "evalue": "[WinError 5] Accès refusé: 'local_llm/'",
     "output_type": "error",
     "traceback": [
      "\u001b[31m---------------------------------------------------------------------------\u001b[39m",
      "\u001b[31mPermissionError\u001b[39m                           Traceback (most recent call last)",
      "\u001b[36mCell\u001b[39m\u001b[36m \u001b[39m\u001b[32mIn[38]\u001b[39m\u001b[32m, line 1\u001b[39m\n\u001b[32m----> \u001b[39m\u001b[32m1\u001b[39m \u001b[43ms3\u001b[49m\u001b[43m.\u001b[49m\u001b[43mdownload_all_files\u001b[49m\u001b[43m(\u001b[49m\u001b[33;43m\"\u001b[39;49m\u001b[33;43mllm\u001b[39;49m\u001b[33;43m\"\u001b[39;49m\u001b[43m,\u001b[49m\u001b[43m \u001b[49m\u001b[33;43m\"\u001b[39;49m\u001b[33;43mlocal_llm/\u001b[39;49m\u001b[33;43m\"\u001b[39;49m\u001b[43m)\u001b[49m\n\u001b[32m      2\u001b[39m \u001b[38;5;28mprint\u001b[39m(\u001b[33m\"\u001b[39m\u001b[33mTous les fichiers du dossier \u001b[39m\u001b[33m'\u001b[39m\u001b[33mllm/\u001b[39m\u001b[33m'\u001b[39m\u001b[33m ont été téléchargés.\u001b[39m\u001b[33m\"\u001b[39m)\n",
      "\u001b[36mCell\u001b[39m\u001b[36m \u001b[39m\u001b[32mIn[19]\u001b[39m\u001b[32m, line 90\u001b[39m, in \u001b[36mS3.download_all_files\u001b[39m\u001b[34m(self, folder, local_dir)\u001b[39m\n\u001b[32m     88\u001b[39m     \u001b[38;5;28;01mfor\u001b[39;00m obj \u001b[38;5;129;01min\u001b[39;00m \u001b[38;5;28mself\u001b[39m.list_objects(folder):\n\u001b[32m     89\u001b[39m         file_name = obj.split(\u001b[33m\"\u001b[39m\u001b[33m/\u001b[39m\u001b[33m\"\u001b[39m)[-\u001b[32m1\u001b[39m]\n\u001b[32m---> \u001b[39m\u001b[32m90\u001b[39m         \u001b[38;5;28;43mself\u001b[39;49m\u001b[43m.\u001b[49m\u001b[43mdownload_file\u001b[49m\u001b[43m(\u001b[49m\u001b[43mfile_name\u001b[49m\u001b[43m,\u001b[49m\u001b[43m \u001b[49m\u001b[43mfolder\u001b[49m\u001b[43m,\u001b[49m\u001b[43m \u001b[49m\u001b[43mos\u001b[49m\u001b[43m.\u001b[49m\u001b[43mpath\u001b[49m\u001b[43m.\u001b[49m\u001b[43mjoin\u001b[49m\u001b[43m(\u001b[49m\u001b[43mlocal_dir\u001b[49m\u001b[43m,\u001b[49m\u001b[43m \u001b[49m\u001b[43mfile_name\u001b[49m\u001b[43m)\u001b[49m\u001b[43m)\u001b[49m\n\u001b[32m     91\u001b[39m \u001b[38;5;28;01mexcept\u001b[39;00m ClientError \u001b[38;5;28;01mas\u001b[39;00m e:\n\u001b[32m     92\u001b[39m     logging.error(\u001b[33mf\u001b[39m\u001b[33m\"\u001b[39m\u001b[33mErreur lors du téléchargement des fichiers de \u001b[39m\u001b[38;5;132;01m{\u001b[39;00mfolder\u001b[38;5;132;01m}\u001b[39;00m\u001b[33m : \u001b[39m\u001b[38;5;132;01m{\u001b[39;00me\u001b[38;5;132;01m}\u001b[39;00m\u001b[33m\"\u001b[39m)\n",
      "\u001b[36mCell\u001b[39m\u001b[36m \u001b[39m\u001b[32mIn[19]\u001b[39m\u001b[32m, line 74\u001b[39m, in \u001b[36mS3.download_file\u001b[39m\u001b[34m(self, filename, folder, local_path)\u001b[39m\n\u001b[32m     72\u001b[39m     key = \u001b[33mf\u001b[39m\u001b[33m\"\u001b[39m\u001b[38;5;132;01m{\u001b[39;00mfolder\u001b[38;5;132;01m}\u001b[39;00m\u001b[33m/\u001b[39m\u001b[38;5;132;01m{\u001b[39;00mfilename\u001b[38;5;132;01m}\u001b[39;00m\u001b[33m\"\u001b[39m \u001b[38;5;28;01mif\u001b[39;00m folder \u001b[38;5;28;01melse\u001b[39;00m filename\n\u001b[32m     73\u001b[39m     local_path = local_path \u001b[38;5;129;01mor\u001b[39;00m filename\n\u001b[32m---> \u001b[39m\u001b[32m74\u001b[39m     \u001b[38;5;28;43mself\u001b[39;49m\u001b[43m.\u001b[49m\u001b[43ms3_client\u001b[49m\u001b[43m.\u001b[49m\u001b[43mdownload_file\u001b[49m\u001b[43m(\u001b[49m\u001b[38;5;28;43mself\u001b[39;49m\u001b[43m.\u001b[49m\u001b[43mbucket_name\u001b[49m\u001b[43m,\u001b[49m\u001b[43m \u001b[49m\u001b[43mkey\u001b[49m\u001b[43m,\u001b[49m\u001b[43m \u001b[49m\u001b[43mlocal_path\u001b[49m\u001b[43m)\u001b[49m\n\u001b[32m     75\u001b[39m     \u001b[38;5;28;01mreturn\u001b[39;00m local_path\n\u001b[32m     76\u001b[39m \u001b[38;5;28;01mexcept\u001b[39;00m ClientError \u001b[38;5;28;01mas\u001b[39;00m e:\n",
      "\u001b[36mFile \u001b[39m\u001b[32mc:\\Users\\rapha\\Desktop\\Hetic\\web3\\python\\Motors-rent\\.venv\\Lib\\site-packages\\boto3\\s3\\inject.py:192\u001b[39m, in \u001b[36mdownload_file\u001b[39m\u001b[34m(self, Bucket, Key, Filename, ExtraArgs, Callback, Config)\u001b[39m\n\u001b[32m    157\u001b[39m \u001b[38;5;250m\u001b[39m\u001b[33;03m\"\"\"Download an S3 object to a file.\u001b[39;00m\n\u001b[32m    158\u001b[39m \n\u001b[32m    159\u001b[39m \u001b[33;03mUsage::\u001b[39;00m\n\u001b[32m   (...)\u001b[39m\u001b[32m    189\u001b[39m \u001b[33;03m    transfer.\u001b[39;00m\n\u001b[32m    190\u001b[39m \u001b[33;03m\"\"\"\u001b[39;00m\n\u001b[32m    191\u001b[39m \u001b[38;5;28;01mwith\u001b[39;00m S3Transfer(\u001b[38;5;28mself\u001b[39m, Config) \u001b[38;5;28;01mas\u001b[39;00m transfer:\n\u001b[32m--> \u001b[39m\u001b[32m192\u001b[39m     \u001b[38;5;28;01mreturn\u001b[39;00m \u001b[43mtransfer\u001b[49m\u001b[43m.\u001b[49m\u001b[43mdownload_file\u001b[49m\u001b[43m(\u001b[49m\n\u001b[32m    193\u001b[39m \u001b[43m        \u001b[49m\u001b[43mbucket\u001b[49m\u001b[43m=\u001b[49m\u001b[43mBucket\u001b[49m\u001b[43m,\u001b[49m\n\u001b[32m    194\u001b[39m \u001b[43m        \u001b[49m\u001b[43mkey\u001b[49m\u001b[43m=\u001b[49m\u001b[43mKey\u001b[49m\u001b[43m,\u001b[49m\n\u001b[32m    195\u001b[39m \u001b[43m        \u001b[49m\u001b[43mfilename\u001b[49m\u001b[43m=\u001b[49m\u001b[43mFilename\u001b[49m\u001b[43m,\u001b[49m\n\u001b[32m    196\u001b[39m \u001b[43m        \u001b[49m\u001b[43mextra_args\u001b[49m\u001b[43m=\u001b[49m\u001b[43mExtraArgs\u001b[49m\u001b[43m,\u001b[49m\n\u001b[32m    197\u001b[39m \u001b[43m        \u001b[49m\u001b[43mcallback\u001b[49m\u001b[43m=\u001b[49m\u001b[43mCallback\u001b[49m\u001b[43m,\u001b[49m\n\u001b[32m    198\u001b[39m \u001b[43m    \u001b[49m\u001b[43m)\u001b[49m\n",
      "\u001b[36mFile \u001b[39m\u001b[32mc:\\Users\\rapha\\Desktop\\Hetic\\web3\\python\\Motors-rent\\.venv\\Lib\\site-packages\\boto3\\s3\\transfer.py:406\u001b[39m, in \u001b[36mS3Transfer.download_file\u001b[39m\u001b[34m(self, bucket, key, filename, extra_args, callback)\u001b[39m\n\u001b[32m    402\u001b[39m future = \u001b[38;5;28mself\u001b[39m._manager.download(\n\u001b[32m    403\u001b[39m     bucket, key, filename, extra_args, subscribers\n\u001b[32m    404\u001b[39m )\n\u001b[32m    405\u001b[39m \u001b[38;5;28;01mtry\u001b[39;00m:\n\u001b[32m--> \u001b[39m\u001b[32m406\u001b[39m     \u001b[43mfuture\u001b[49m\u001b[43m.\u001b[49m\u001b[43mresult\u001b[49m\u001b[43m(\u001b[49m\u001b[43m)\u001b[49m\n\u001b[32m    407\u001b[39m \u001b[38;5;66;03m# This is for backwards compatibility where when retries are\u001b[39;00m\n\u001b[32m    408\u001b[39m \u001b[38;5;66;03m# exceeded we need to throw the same error from boto3 instead of\u001b[39;00m\n\u001b[32m    409\u001b[39m \u001b[38;5;66;03m# s3transfer's built in RetriesExceededError as current users are\u001b[39;00m\n\u001b[32m    410\u001b[39m \u001b[38;5;66;03m# catching the boto3 one instead of the s3transfer exception to do\u001b[39;00m\n\u001b[32m    411\u001b[39m \u001b[38;5;66;03m# their own retries.\u001b[39;00m\n\u001b[32m    412\u001b[39m \u001b[38;5;28;01mexcept\u001b[39;00m S3TransferRetriesExceededError \u001b[38;5;28;01mas\u001b[39;00m e:\n",
      "\u001b[36mFile \u001b[39m\u001b[32mc:\\Users\\rapha\\Desktop\\Hetic\\web3\\python\\Motors-rent\\.venv\\Lib\\site-packages\\s3transfer\\futures.py:103\u001b[39m, in \u001b[36mTransferFuture.result\u001b[39m\u001b[34m(self)\u001b[39m\n\u001b[32m     98\u001b[39m \u001b[38;5;28;01mdef\u001b[39;00m\u001b[38;5;250m \u001b[39m\u001b[34mresult\u001b[39m(\u001b[38;5;28mself\u001b[39m):\n\u001b[32m     99\u001b[39m     \u001b[38;5;28;01mtry\u001b[39;00m:\n\u001b[32m    100\u001b[39m         \u001b[38;5;66;03m# Usually the result() method blocks until the transfer is done,\u001b[39;00m\n\u001b[32m    101\u001b[39m         \u001b[38;5;66;03m# however if a KeyboardInterrupt is raised we want want to exit\u001b[39;00m\n\u001b[32m    102\u001b[39m         \u001b[38;5;66;03m# out of this and propagate the exception.\u001b[39;00m\n\u001b[32m--> \u001b[39m\u001b[32m103\u001b[39m         \u001b[38;5;28;01mreturn\u001b[39;00m \u001b[38;5;28;43mself\u001b[39;49m\u001b[43m.\u001b[49m\u001b[43m_coordinator\u001b[49m\u001b[43m.\u001b[49m\u001b[43mresult\u001b[49m\u001b[43m(\u001b[49m\u001b[43m)\u001b[49m\n\u001b[32m    104\u001b[39m     \u001b[38;5;28;01mexcept\u001b[39;00m \u001b[38;5;167;01mKeyboardInterrupt\u001b[39;00m \u001b[38;5;28;01mas\u001b[39;00m e:\n\u001b[32m    105\u001b[39m         \u001b[38;5;28mself\u001b[39m.cancel()\n",
      "\u001b[36mFile \u001b[39m\u001b[32mc:\\Users\\rapha\\Desktop\\Hetic\\web3\\python\\Motors-rent\\.venv\\Lib\\site-packages\\s3transfer\\futures.py:264\u001b[39m, in \u001b[36mTransferCoordinator.result\u001b[39m\u001b[34m(self)\u001b[39m\n\u001b[32m    261\u001b[39m \u001b[38;5;66;03m# Once done waiting, raise an exception if present or return the\u001b[39;00m\n\u001b[32m    262\u001b[39m \u001b[38;5;66;03m# final result.\u001b[39;00m\n\u001b[32m    263\u001b[39m \u001b[38;5;28;01mif\u001b[39;00m \u001b[38;5;28mself\u001b[39m._exception:\n\u001b[32m--> \u001b[39m\u001b[32m264\u001b[39m     \u001b[38;5;28;01mraise\u001b[39;00m \u001b[38;5;28mself\u001b[39m._exception\n\u001b[32m    265\u001b[39m \u001b[38;5;28;01mreturn\u001b[39;00m \u001b[38;5;28mself\u001b[39m._result\n",
      "\u001b[36mFile \u001b[39m\u001b[32mc:\\Users\\rapha\\Desktop\\Hetic\\web3\\python\\Motors-rent\\.venv\\Lib\\site-packages\\s3transfer\\tasks.py:135\u001b[39m, in \u001b[36mTask.__call__\u001b[39m\u001b[34m(self)\u001b[39m\n\u001b[32m    131\u001b[39m     \u001b[38;5;66;03m# If the task is not done (really only if some other related\u001b[39;00m\n\u001b[32m    132\u001b[39m     \u001b[38;5;66;03m# task to the TransferFuture had failed) then execute the task's\u001b[39;00m\n\u001b[32m    133\u001b[39m     \u001b[38;5;66;03m# main() method.\u001b[39;00m\n\u001b[32m    134\u001b[39m     \u001b[38;5;28;01mif\u001b[39;00m \u001b[38;5;129;01mnot\u001b[39;00m \u001b[38;5;28mself\u001b[39m._transfer_coordinator.done():\n\u001b[32m--> \u001b[39m\u001b[32m135\u001b[39m         \u001b[38;5;28;01mreturn\u001b[39;00m \u001b[38;5;28;43mself\u001b[39;49m\u001b[43m.\u001b[49m\u001b[43m_execute_main\u001b[49m\u001b[43m(\u001b[49m\u001b[43mkwargs\u001b[49m\u001b[43m)\u001b[49m\n\u001b[32m    136\u001b[39m \u001b[38;5;28;01mexcept\u001b[39;00m \u001b[38;5;167;01mException\u001b[39;00m \u001b[38;5;28;01mas\u001b[39;00m e:\n\u001b[32m    137\u001b[39m     \u001b[38;5;28mself\u001b[39m._log_and_set_exception(e)\n",
      "\u001b[36mFile \u001b[39m\u001b[32mc:\\Users\\rapha\\Desktop\\Hetic\\web3\\python\\Motors-rent\\.venv\\Lib\\site-packages\\s3transfer\\tasks.py:158\u001b[39m, in \u001b[36mTask._execute_main\u001b[39m\u001b[34m(self, kwargs)\u001b[39m\n\u001b[32m    155\u001b[39m \u001b[38;5;66;03m# Log what is about to be executed.\u001b[39;00m\n\u001b[32m    156\u001b[39m logger.debug(\u001b[33mf\u001b[39m\u001b[33m\"\u001b[39m\u001b[33mExecuting task \u001b[39m\u001b[38;5;132;01m{\u001b[39;00m\u001b[38;5;28mself\u001b[39m\u001b[38;5;132;01m}\u001b[39;00m\u001b[33m with kwargs \u001b[39m\u001b[38;5;132;01m{\u001b[39;00mkwargs_to_display\u001b[38;5;132;01m}\u001b[39;00m\u001b[33m\"\u001b[39m)\n\u001b[32m--> \u001b[39m\u001b[32m158\u001b[39m return_value = \u001b[38;5;28;43mself\u001b[39;49m\u001b[43m.\u001b[49m\u001b[43m_main\u001b[49m\u001b[43m(\u001b[49m\u001b[43m*\u001b[49m\u001b[43m*\u001b[49m\u001b[43mkwargs\u001b[49m\u001b[43m)\u001b[49m\n\u001b[32m    159\u001b[39m \u001b[38;5;66;03m# If the task is the final task, then set the TransferFuture's\u001b[39;00m\n\u001b[32m    160\u001b[39m \u001b[38;5;66;03m# value to the return value from main().\u001b[39;00m\n\u001b[32m    161\u001b[39m \u001b[38;5;28;01mif\u001b[39;00m \u001b[38;5;28mself\u001b[39m._is_final:\n",
      "\u001b[36mFile \u001b[39m\u001b[32mc:\\Users\\rapha\\Desktop\\Hetic\\web3\\python\\Motors-rent\\.venv\\Lib\\site-packages\\s3transfer\\download.py:671\u001b[39m, in \u001b[36mIORenameFileTask._main\u001b[39m\u001b[34m(self, fileobj, final_filename, osutil)\u001b[39m\n\u001b[32m    669\u001b[39m \u001b[38;5;28;01mdef\u001b[39;00m\u001b[38;5;250m \u001b[39m\u001b[34m_main\u001b[39m(\u001b[38;5;28mself\u001b[39m, fileobj, final_filename, osutil):\n\u001b[32m    670\u001b[39m     fileobj.close()\n\u001b[32m--> \u001b[39m\u001b[32m671\u001b[39m     \u001b[43mosutil\u001b[49m\u001b[43m.\u001b[49m\u001b[43mrename_file\u001b[49m\u001b[43m(\u001b[49m\u001b[43mfileobj\u001b[49m\u001b[43m.\u001b[49m\u001b[43mname\u001b[49m\u001b[43m,\u001b[49m\u001b[43m \u001b[49m\u001b[43mfinal_filename\u001b[49m\u001b[43m)\u001b[49m\n",
      "\u001b[36mFile \u001b[39m\u001b[32mc:\\Users\\rapha\\Desktop\\Hetic\\web3\\python\\Motors-rent\\.venv\\Lib\\site-packages\\s3transfer\\utils.py:299\u001b[39m, in \u001b[36mOSUtils.rename_file\u001b[39m\u001b[34m(self, current_filename, new_filename)\u001b[39m\n\u001b[32m    298\u001b[39m \u001b[38;5;28;01mdef\u001b[39;00m\u001b[38;5;250m \u001b[39m\u001b[34mrename_file\u001b[39m(\u001b[38;5;28mself\u001b[39m, current_filename, new_filename):\n\u001b[32m--> \u001b[39m\u001b[32m299\u001b[39m     \u001b[43mrename_file\u001b[49m\u001b[43m(\u001b[49m\u001b[43mcurrent_filename\u001b[49m\u001b[43m,\u001b[49m\u001b[43m \u001b[49m\u001b[43mnew_filename\u001b[49m\u001b[43m)\u001b[49m\n",
      "\u001b[36mFile \u001b[39m\u001b[32mc:\\Users\\rapha\\Desktop\\Hetic\\web3\\python\\Motors-rent\\.venv\\Lib\\site-packages\\s3transfer\\compat.py:24\u001b[39m, in \u001b[36mrename_file\u001b[39m\u001b[34m(current_filename, new_filename)\u001b[39m\n\u001b[32m     22\u001b[39m \u001b[38;5;28;01mdef\u001b[39;00m\u001b[38;5;250m \u001b[39m\u001b[34mrename_file\u001b[39m(current_filename, new_filename):\n\u001b[32m     23\u001b[39m     \u001b[38;5;28;01mtry\u001b[39;00m:\n\u001b[32m---> \u001b[39m\u001b[32m24\u001b[39m         \u001b[43mos\u001b[49m\u001b[43m.\u001b[49m\u001b[43mremove\u001b[49m\u001b[43m(\u001b[49m\u001b[43mnew_filename\u001b[49m\u001b[43m)\u001b[49m\n\u001b[32m     25\u001b[39m     \u001b[38;5;28;01mexcept\u001b[39;00m \u001b[38;5;167;01mOSError\u001b[39;00m \u001b[38;5;28;01mas\u001b[39;00m e:\n\u001b[32m     26\u001b[39m         \u001b[38;5;28;01mif\u001b[39;00m \u001b[38;5;129;01mnot\u001b[39;00m e.errno == errno.ENOENT:\n\u001b[32m     27\u001b[39m             \u001b[38;5;66;03m# We only want to a ignore trying to remove\u001b[39;00m\n\u001b[32m     28\u001b[39m             \u001b[38;5;66;03m# a file that does not exist.  If it fails\u001b[39;00m\n\u001b[32m     29\u001b[39m             \u001b[38;5;66;03m# for any other reason we should be propagating\u001b[39;00m\n\u001b[32m     30\u001b[39m             \u001b[38;5;66;03m# that exception.\u001b[39;00m\n",
      "\u001b[31mPermissionError\u001b[39m: [WinError 5] Accès refusé: 'local_llm/'"
     ]
    }
   ],
   "source": [
    "s3.download_all_files(\"llm\", \"local_llm/\")\n",
    "print(\"Tous les fichiers du dossier 'llm/' ont été téléchargés.\")"
   ]
  },
  {
   "cell_type": "markdown",
   "metadata": {},
   "source": [
    "### Supprimer un fichier"
   ]
  },
  {
   "cell_type": "code",
   "execution_count": null,
   "metadata": {},
   "outputs": [],
   "source": [
    "s3.delete(\"test.pdf\", \"llm\")\n",
    "print(\"Fichier supprimé.\")"
   ]
  },
  {
   "cell_type": "markdown",
   "metadata": {},
   "source": [
    "## Traitement du formats des documents\n",
    "\n",
    "1. Formats de fichiers à traiter\n",
    "\n",
    "\n",
    "| Format de fichier | Outil Python recommandé | Description |\n",
    "|------------------|------------------------|-------------|\n",
    "| **PDF** | `PyMuPDF (fitz)` | Extraction de texte et d'images à partir de fichiers PDF. |\n",
    "| **CSV** | `pandas` | Lecture, transformation et analyse de données tabulaires. |\n",
    "| **TXT** | `open()`, `io` | Lecture et manipulation simple de texte brut. |\n",
    "| **HTML** | `BeautifulSoup` | Extraction de texte structuré à partir de pages web. |\n",
    "| **JSON** | `orjson` | Parsing et manipulation de données semi-structurées. |\n",
    "| **DOCX** | `python-docx` | Extraction et modification de texte dans des fichiers Microsoft Word. |\n",
    "| **Markdown (MD)** | `mistune` | Parsing et conversion de fichiers Markdown en texte brut ou HTML. |\n",
    "| **XML** | `lxml` | Parsing et extraction de contenu depuis des fichiers XML. |\n"
   ]
  },
  {
   "cell_type": "code",
   "execution_count": 3,
   "metadata": {},
   "outputs": [
    {
     "name": "stdout",
     "output_type": "stream",
     "text": [
      "Requirement already satisfied: PyMuPDF in c:\\users\\rapha\\project\\005-eliza\\.venv\\lib\\site-packages (1.25.3)\n",
      "Note: you may need to restart the kernel to use updated packages.\n",
      "Requirement already satisfied: beautifulsoup4 in c:\\users\\rapha\\project\\005-eliza\\.venv\\lib\\site-packages (4.13.3)\n",
      "Requirement already satisfied: soupsieve>1.2 in c:\\users\\rapha\\project\\005-eliza\\.venv\\lib\\site-packages (from beautifulsoup4) (2.6)\n",
      "Requirement already satisfied: typing-extensions>=4.0.0 in c:\\users\\rapha\\project\\005-eliza\\.venv\\lib\\site-packages (from beautifulsoup4) (4.12.2)\n",
      "Note: you may need to restart the kernel to use updated packages.\n",
      "Requirement already satisfied: python-docx in c:\\users\\rapha\\project\\005-eliza\\.venv\\lib\\site-packages (1.1.2)\n",
      "Requirement already satisfied: lxml>=3.1.0 in c:\\users\\rapha\\project\\005-eliza\\.venv\\lib\\site-packages (from python-docx) (5.3.1)\n",
      "Requirement already satisfied: typing-extensions>=4.9.0 in c:\\users\\rapha\\project\\005-eliza\\.venv\\lib\\site-packages (from python-docx) (4.12.2)\n",
      "Note: you may need to restart the kernel to use updated packages.\n",
      "Requirement already satisfied: mistune in c:\\users\\rapha\\project\\005-eliza\\.venv\\lib\\site-packages (3.1.2)\n",
      "Note: you may need to restart the kernel to use updated packages.\n",
      "Requirement already satisfied: panda in c:\\users\\rapha\\project\\005-eliza\\.venv\\lib\\site-packages (0.3.1)\n",
      "Requirement already satisfied: setuptools in c:\\users\\rapha\\project\\005-eliza\\.venv\\lib\\site-packages (from panda) (75.8.2)\n",
      "Requirement already satisfied: requests in c:\\users\\rapha\\project\\005-eliza\\.venv\\lib\\site-packages (from panda) (2.32.3)\n",
      "Requirement already satisfied: charset-normalizer<4,>=2 in c:\\users\\rapha\\project\\005-eliza\\.venv\\lib\\site-packages (from requests->panda) (3.4.1)\n",
      "Requirement already satisfied: idna<4,>=2.5 in c:\\users\\rapha\\project\\005-eliza\\.venv\\lib\\site-packages (from requests->panda) (3.10)\n",
      "Requirement already satisfied: urllib3<3,>=1.21.1 in c:\\users\\rapha\\project\\005-eliza\\.venv\\lib\\site-packages (from requests->panda) (2.3.0)\n",
      "Requirement already satisfied: certifi>=2017.4.17 in c:\\users\\rapha\\project\\005-eliza\\.venv\\lib\\site-packages (from requests->panda) (2025.1.31)\n",
      "Note: you may need to restart the kernel to use updated packages.\n",
      "Requirement already satisfied: orjson in c:\\users\\rapha\\project\\005-eliza\\.venv\\lib\\site-packages (3.10.15)\n",
      "Note: you may need to restart the kernel to use updated packages.\n",
      "Requirement already satisfied: lxml in c:\\users\\rapha\\project\\005-eliza\\.venv\\lib\\site-packages (5.3.1)\n",
      "Note: you may need to restart the kernel to use updated packages.\n"
     ]
    }
   ],
   "source": [
    "%pip install PyMuPDF\n",
    "%pip install beautifulsoup4\n",
    "%pip install python-docx\n",
    "%pip install mistune\n",
    "%pip install panda\n",
    "%pip install orjson\n",
    "%pip install lxml"
   ]
  },
  {
   "cell_type": "code",
   "execution_count": 3,
   "metadata": {},
   "outputs": [
    {
     "name": "stdout",
     "output_type": "stream",
     "text": [
      "Guide d'achat et de location de voiture Introduction L'achat ou la location d'une voiture représente une décision importante qui dépend de nombreux critères : budget, usage, coûts d'entretien, valeur de revente, et préférences personnelles. Ce guide vous aidera à choisir la meilleure option en fonction de vos besoins et de votre situation financière. Partie 1 : Acheter une voiture 1.1 Avantages de l'achat - Liberté totale : Vous êtes propriétaire du véhicule et pouvez l'utiliser sans restriction. - Coûts à long terme réduits : Une fois le prêt remboursé (si achat à crédit), le coût mensuel diminue. - Valeur de revente : Possibilité de revendre le véhicule pour financer un futur achat. 1.2 Inconvénients de l'achat - Investissement initial élevé : Coût d'achat et d'immatriculation parfois importants. - Dépréciation rapide : Une voiture perd en moyenne 20 % de sa valeur la première année. - Coûts d'entretien et de réparation : À la charge du propriétaire. 1.3 Neuf ou occasion ? - Voiture neuve : Plus chère, mais garantie constructeur et technologies modernes. - Voiture d'occasion : Moins chère, mais attention à l'état général et à l'historique du véhicule. 1.4 Critères de choix - Budget total (achat + entretien + carburant + assurance) - Type de carburant (essence, diesel, hybride, électrique) - Usage (trajets courts, longues distances, ville, campagne) - Espace et confort (nombre de passagers, coffre, options) Partie 2 : Louer une voiture 2.1 Avantages de la location - Coûts mensuels prévisibles : Loyer fixe incluant souvent entretien et assurance. - Accès à des véhicules récents : Possibilité de changer de voiture tous les 2-3 ans. - Pas de souci de revente : Restitution du véhicule en fin de contrat. 2.2 Inconvénients de la location - Absence de propriété : Vous payez sans constituer un patrimoine. - Restrictions d'utilisation : Limite kilométrique et pénalités en cas de dépassement. - Dépôt de garantie et frais supplémentaires : À prévoir en cas de dommages. 2.3 Types de location - Location avec Option d'Achat (LOA) : Vous pouvez acheter le véhicule en fin de contrat. - Location Longue Durée (LLD) : Paiement d'un loyer fixe sans possibilité d'achat. Conclusion Le choix entre achat et location repose sur vos besoins financiers et votre usage du véhicule. Si vous souhaitez posséder votre voiture à long terme et limiter les coûts, l'achat est préférable. En revanche, si vous préférez changer régulièrement de voiture sans vous soucier de la revente, la location est une bonne option. Dans tous les cas, évaluez soigneusement votre budget et vos besoins avant de prendre une décision.\n"
     ]
    }
   ],
   "source": [
    "import re\n",
    "import fitz\n",
    "\n",
    "def extract_text_from_pdf(pdf_path):\n",
    "    text = \"\"\n",
    "    with fitz.open(pdf_path) as doc:\n",
    "        for page in doc:\n",
    "            text += page.get_text(\"text\") + \"\\n\"\n",
    "    text = re.sub(r'-\\n', '', text)\n",
    "    text = re.sub(r'\\s+', ' ', text)\n",
    "    return text.strip()\n",
    "\n",
    "pdf = extract_text_from_pdf('./ref/doc.pdf')\n",
    "print(pdf)"
   ]
  },
  {
   "cell_type": "code",
   "execution_count": null,
   "metadata": {},
   "outputs": [
    {
     "data": {
      "text/plain": [
       "\"Guide d'achat et de location de voiture Introduction L'achat ou la location d'une voiture représente une décision importante qui dépend de nombreux critères : budget, usage, coûts d'entretien, valeur de revente, et préférences personnelles. Ce guide vous aidera à choisir la meilleure option en fonction de vos besoins et de votre situation financière. Partie 1 : Acheter une voiture 1.1 Avantages de l'achat - Liberté totale : Vous êtes propriétaire du véhicule et pouvez l'utiliser sans restriction. - Coûts à long terme réduits : Une fois le prêt remboursé (si achat à crédit), le coût mensuel diminue. - Valeur de revente : Possibilité de revendre le véhicule pour financer un futur achat. 1.2 Inconvénients de l'achat - Investissement initial élevé : Coût d'achat et d'immatriculation parfois importants. - Dépréciation rapide : Une voiture perd en moyenne 20 % de sa valeur la première année. - Coûts d'entretien et de réparation : À la charge du propriétaire. 1.3 Neuf ou occasion ? - Voiture neuve : Plus chère, mais garantie constructeur et technologies modernes. - Voiture d'occasion : Moins chère, mais attention à l'état général et à l'historique du véhicule. 1.4 Critères de choix - Budget total (achat + entretien + carburant + assurance) - Type de carburant (essence, diesel, hybride, électrique) - Usage (trajets courts, longues distances, ville, campagne) - Espace et confort (nombre de passagers, coffre, options) Partie 2 : Louer une voiture 2.1 Avantages de la location - Coûts mensuels prévisibles : Loyer fixe incluant souvent entretien et assurance. - Accès à des véhicules récents : Possibilité de changer de voiture tous les 2-3 ans. - Pas de souci de revente : Restitution du véhicule en fin de contrat. 2.2 Inconvénients de la location - Absence de propriété : Vous payez sans constituer un patrimoine. - Restrictions d'utilisation : Limite kilométrique et pénalités en cas de dépassement. - Dépôt de garantie et frais supplémentaires : À prévoir en cas de dommages. 2.3 Types de location - Location avec Option d'Achat (LOA) : Vous pouvez acheter le véhicule en fin de contrat. - Location Longue Durée (LLD) : Paiement d'un loyer fixe sans possibilité d'achat. Conclusion Le choix entre achat et location repose sur vos besoins financiers et votre usage du véhicule. Si vous souhaitez posséder votre voiture à long terme et limiter les coûts, l'achat est préférable. En revanche, si vous préférez changer régulièrement de voiture sans vous soucier de la revente, la location est une bonne option. Dans tous les cas, évaluez soigneusement votre budget et vos besoins avant de prendre une décision.\""
      ]
     },
     "execution_count": 106,
     "metadata": {},
     "output_type": "execute_result"
    }
   ],
   "source": [
    "import re\n",
    "\n",
    "def extract_text_from_txt(txt_path):\n",
    "    with open(txt_path, \"r\", encoding=\"utf-8\") as f:\n",
    "        text = f.read()\n",
    "    text = re.sub(r'\\s+', ' ', text)\n",
    "    return text.strip()\n",
    "\n",
    "txt = extract_text_from_txt('./ref/doc.txt')\n",
    "print(txt)"
   ]
  },
  {
   "cell_type": "code",
   "execution_count": null,
   "metadata": {},
   "outputs": [
    {
     "data": {
      "text/plain": [
       "\"Guide d'achat et de location de voiture Guide d'achat et de location de voiture Introduction L'achat ou la location d'une voiture représente une décision importante qui dépend de nombreux critères : budget, usage, coûts d'entretien, valeur de revente, et préférences personnelles. Ce guide vous aidera à choisir la meilleure option en fonction de vos besoins et de votre situation financière. Partie 1 : Acheter une voiture 1.1 Avantages de l'achat Liberté totale : Vous êtes propriétaire du véhicule et pouvez l'utiliser sans restriction. Coûts à long terme réduits : Une fois le prêt remboursé (si achat à crédit), le coût mensuel diminue. Valeur de revente : Possibilité de revendre le véhicule pour financer un futur achat. 1.2 Inconvénients de l'achat Investissement initial élevé : Coût d'achat et d'immatriculation parfois importants. Dépréciation rapide : Une voiture perd en moyenne 20 % de sa valeur la première année. Coûts d'entretien et de réparation : À la charge du propriétaire. 1.3 Neuf ou occasion ? Voiture neuve : Plus chère, mais garantie constructeur et technologies modernes. Voiture d'occasion : Moins chère, mais attention à l'état général et à l'historique du véhicule. 1.4 Critères de choix Budget total (achat + entretien + carburant + assurance) Type de carburant (essence, diesel, hybride, électrique) Usage (trajets courts, longues distances, ville, campagne) Espace et confort (nombre de passagers, coffre, options) Partie 2 : Louer une voiture 2.1 Avantages de la location Coûts mensuels prévisibles : Loyer fixe incluant souvent entretien et assurance. Accès à des véhicules récents : Possibilité de changer de voiture tous les 2-3 ans. Pas de souci de revente : Restitution du véhicule en fin de contrat. 2.2 Inconvénients de la location Absence de propriété : Vous payez sans constituer un patrimoine. Restrictions d'utilisation : Limite kilométrique et pénalités en cas de dépassement. Dépôt de garantie et frais supplémentaires : À prévoir en cas de dommages. 2.3 Types de location Location avec Option d'Achat (LOA) : Vous pouvez acheter le véhicule en fin de contrat. Location Longue Durée (LLD) : Paiement d'un loyer fixe sans possibilité d'achat. Conclusion Le choix entre achat et location repose sur vos besoins financiers et votre usage du véhicule. Si vous souhaitez posséder votre voiture à long terme et limiter les coûts, l'achat est préférable. En revanche, si vous préférez changer régulièrement de voiture sans vous soucier de la revente, la location est une bonne option. Dans tous les cas, évaluez soigneusement votre budget et vos besoins avant de prendre une décision.\""
      ]
     },
     "execution_count": 126,
     "metadata": {},
     "output_type": "execute_result"
    }
   ],
   "source": [
    "import re\n",
    "from bs4 import BeautifulSoup\n",
    "\n",
    "def extract_text_from_html(html_path):\n",
    "    with open(html_path, \"r\", encoding=\"utf-8\") as f:\n",
    "        soup = BeautifulSoup(f, \"html.parser\")\n",
    "    text = soup.get_text(separator=\" \")\n",
    "    text = re.sub(r'\\s+', ' ', text)\n",
    "    return text.strip()\n",
    "\n",
    "\n",
    "html = extract_text_from_html('./ref/doc.html')\n",
    "print(html)"
   ]
  },
  {
   "cell_type": "code",
   "execution_count": null,
   "metadata": {},
   "outputs": [
    {
     "data": {
      "text/plain": [
       "\"Guide d'achat et de location de voiture Introduction L'achat ou la location d'une voiture représente une décision importante qui dépend de nombreux critères : budget, usage, coûts d'entretien, valeur de revente, et préférences personnelles. Ce guide vous aidera à choisir la meilleure option en fonction de vos besoins et de votre situation financière. Partie 1 : Acheter une voiture 1.1 Avantages de l'achat • Liberté totale : Vous êtes propriétaire du véhicule et pouvez l'utiliser sans restriction. • Coûts à long terme réduits : Une fois le prêt remboursé (si achat à crédit), le coût mensuel diminue. • Valeur de revente : Possibilité de revendre le véhicule pour financer un futur achat. 1.2 Inconvénients de l'achat • Investissement initial élevé : Coût d'achat et d'immatriculation parfois importants. • Dépréciation rapide : Une voiture perd en moyenne 20 % de sa valeur la première année. • Coûts d'entretien et de réparation : À la charge du propriétaire. 1.3 Neuf ou occasion ? • Voiture neuve : Plus chère, mais garantie constructeur et technologies modernes. • Voiture d'occasion : Moins chère, mais attention à l'état général et à l'historique du véhicule. 1.4 Critères de choix • Budget total (achat + entretien + carburant + assurance) • Type de carburant (essence, diesel, hybride, électrique) • Usage (trajets courts, longues distances, ville, campagne) • Espace et confort (nombre de passagers, coffre, options) Partie 2 : Louer une voiture 2.1 Avantages de la location • Coûts mensuels prévisibles : Loyer fixe incluant souvent entretien et assurance. • Accès à des véhicules récents : Possibilité de changer de voiture tous les 2-3 ans. • Pas de souci de revente : Restitution du véhicule en fin de contrat. 2.2 Inconvénients de la location • Absence de propriété : Vous payez sans constituer un patrimoine. • Restrictions d'utilisation : Limite kilométrique et pénalités en cas de dépassement. • Dépôt de garantie et frais supplémentaires : À prévoir en cas de dommages. 2.3 Types de location • Location avec Option d'Achat (LOA) : Vous pouvez acheter le véhicule en fin de contrat. • Location Longue Durée (LLD) : Paiement d'un loyer fixe sans possibilité d'achat. Conclusion Le choix entre achat et location repose sur vos besoins financiers et votre usage du véhicule. Si vous souhaitez posséder votre voiture à long terme et limiter les coûts, l'achat est préférable. En revanche, si vous préférez changer régulièrement de voiture sans vous soucier de la revente, la location est une bonne option. Dans tous les cas, évaluez soigneusement votre budget et vos besoins avant de prendre une décision.\""
      ]
     },
     "execution_count": 139,
     "metadata": {},
     "output_type": "execute_result"
    }
   ],
   "source": [
    "import re\n",
    "from docx import Document\n",
    "\n",
    "def extract_text_from_docx(docx_path):\n",
    "    doc = Document(docx_path)\n",
    "    text = \"\\n\".join([p.text for p in doc.paragraphs if p.text.strip()])\n",
    "    text = re.sub(r'\\s+', ' ', text)\n",
    "    return text.strip()\n",
    "\n",
    "docs = extract_text_from_docx('./ref/doc.docx')\n",
    "print(docs)"
   ]
  },
  {
   "cell_type": "code",
   "execution_count": 4,
   "metadata": {},
   "outputs": [
    {
     "name": "stdout",
     "output_type": "stream",
     "text": [
      "Create the .env.local File with Secrets M-Motors: A Success Story M-Motors was founded in 1987 as a specialist in selling used vehicles. The company has achieved significant success and reputation. After 30 years, it became one of the top 10 companies nationwide. This success stems from several factors, all centered around customer satisfaction. A Diverse Offering and High-Quality Customer Service The company offers a wide range of: Brands Models Engine types Mileage options Prices This allows it to cater to all customer needs and budgets. Additionally, the vehicles are of high quality, ensuring good mechanical condition and regular maintenance to guarantee reliability and safety. This includes: Thorough technical inspections Repairs and refurbishments Warranty options The company also has a commercial service and after-sales service that support customers with personalized advice. The goal is to provide high-quality customer service by understanding their needs and guiding them toward the most suitable vehicle. Additional Services Test Drive : Allows customers to try vehicles before purchasing. Financing Service : Offers budget-friendly solutions in partnership with financial institutions. Trade-in Service : Simplifies the buying process by accepting the customer's old vehicle. Structure and Workforce The company employs 800 staff members and serves approximately one million customers nationwide. New Service: Long-Term Leasing with Purchase Option Following a market study conducted by the commercial department, a new service was proposed to the company: Long-Term Leasing with Purchase Option (LLD/LOA) This service includes several options within the rental subscription: Comprehensive insurance Breakdown assistance Maintenance and after-sales service Technical inspections A detailed study, including a ROI business plan , was conducted. The project was approved by management, and a large budget was allocated to revamp the current web application, which facilitates the purchase of used cars. Web Application Revamp A meeting was held between management, the commercial department, and the IT department. A Product Owner from the commercial team was appointed. New Features Client Side Vehicle search with two options: purchase or rental Registration and submission of purchase or rental application Document upload via the interface ( 100% paperless process ) Application progress tracking via a customer space Back Office Adding vehicles for rental Adding vehicles for sale Switching a vehicle between rental ↔ sale Viewing rental/purchase applications Approving or rejecting rental/purchase applications IT Department's Technical Requirements Define RPO (Recovery Point Objective) and RTO (Recovery Time Objective) values with the Product Owner Redesign the software architecture based on these values Migrate current data to a new database Cloud hosting as part of the \"Move to Cloud\" operation Project Architecture Frontend Backend Database Necessary files for database initialization Technology Stack Backend API Flask Frontend React DevOps Docker Deployment on AWS ECS ?? Lambda ?? EC2 ?? Lightsail RDS ?? S3 ?? Links https://trello.com/b/9OujogUZ/motors-rent https://github.com/Makhtar99/Motors-rent Team Members DIOUF Makhtar Charlery Malcolm RENÉ Marie BENGUIGUI Avidan RENEVIER Joachim REKIK Kylian BERNARD Anne-Flore Environment Set the ENV_MODE In .env , set => ENV_MODE=\"development\" Set Environment Variables .env = Default variables without secrets => Versioned .env.local = Secrets => Not versioned During container creation, environment variables from .env are overwritten by those in .env.local Create the .env.local File with Secrets Start the Application docker compose up --build The backend takes the longest to initialize. We wait for the database to be ready before proceeding. Migration files are added to prevent database regression. OR WITH LLM (OLLAMA) docker-compose -f docker-compose.yml -f docker-compose.llm.yml up -d PLEASE READ THE MAKEFILE: make help Connecting to PGAdmin via Web If you do not have the PGAdmin application installed, you can access it directly from your web browser. Web Interface Access: URL : localhost:8080 Email / Username : admin@admin.fr Password : ChangeMe Navigating in PGAdmin: In the left panel, expand Servers . When prompted for a password, use: ChangeMe . To view tables: Servers → Databases → groupe11 → Schemas → Tables .\n"
     ]
    }
   ],
   "source": [
    "import re\n",
    "import mistune\n",
    "from bs4 import BeautifulSoup\n",
    "\n",
    "def extract_text_from_md(md_path):\n",
    "    with open(md_path, \"r\", encoding=\"utf-8\") as f:\n",
    "        md_content = f.read()\n",
    "    html = mistune.html(md_content)\n",
    "    soup = BeautifulSoup(html, \"html.parser\")\n",
    "    text = soup.get_text(separator=\" \")\n",
    "    text = re.sub(r'\\s+', ' ', text)\n",
    "    return text.strip()\n",
    "\n",
    "md = extract_text_from_md('./ref/doc.md')\n",
    "print(md)"
   ]
  },
  {
   "cell_type": "code",
   "execution_count": null,
   "metadata": {},
   "outputs": [
    {
     "data": {
      "text/plain": [
       "\"Introduction nan L'achat ou la location d'une voiture dépend du budget, de l'usage et des coûts d'entretien. Achat Avantages Liberté totale, coûts réduits à long terme, possibilité de revente. Achat Inconvénients Investissement initial élevé, dépréciation rapide, coûts d'entretien. Achat Neuf ou Occasion Neuf : plus cher mais garantie. Occasion : moins cher mais vérifier l'historique. Achat Critères Budget, type de carburant, usage, espace et confort. Location Avantages Coût mensuel prévisible, accès à des véhicules récents, pas de souci de revente. Location Inconvénients Absence de propriété, restrictions d'utilisation, dépôt de garantie. Location Types LOA : achat possible en fin de contrat. LLD : pas d'achat. Conclusion nan L'achat est préférable pour le long terme, la location pour changer régulièrement de voiture.\""
      ]
     },
     "execution_count": 149,
     "metadata": {},
     "output_type": "execute_result"
    }
   ],
   "source": [
    "import pandas as pd\n",
    "\n",
    "def extract_text_from_csv(csv_path):\n",
    "    df = pd.read_csv(csv_path, encoding='utf-8')\n",
    "    text_data = df.astype(str).apply(lambda x: \" \".join(x), axis=1)\n",
    "    return \" \".join(text_data)\n",
    "\n",
    "csv = extract_text_from_csv('./ref/doc.csv')\n",
    "print(csv)"
   ]
  },
  {
   "cell_type": "code",
   "execution_count": null,
   "metadata": {},
   "outputs": [
    {
     "data": {
      "text/plain": [
       "\"Introduction: L'achat ou la location d'une voiture dépend du budget, de l'usage et des coûts d'entretien. Achat: Avantages: Liberté totale Achat: Avantages: Coûts réduits à long terme Achat: Avantages: Possibilité de revente Achat: Inconvénients: Investissement initial élevé Achat: Inconvénients: Dépréciation rapide Achat: Inconvénients: Coûts d'entretien Achat: Neuf ou Occasion: Neuf: Plus cher mais garantie constructeur et technologies modernes. Achat: Neuf ou Occasion: Occasion: Moins cher mais attention à l'état général et à l'historique du véhicule. Achat: Critères: Budget Achat: Critères: Type de carburant Achat: Critères: Usage Achat: Critères: Espace et confort Location: Avantages: Coût mensuel prévisible Location: Avantages: Accès à des véhicules récents Location: Avantages: Pas de souci de revente Location: Inconvénients: Absence de propriété Location: Inconvénients: Restrictions d'utilisation Location: Inconvénients: Dépôt de garantie et frais supplémentaires Location: Types: LOA: Achat possible en fin de contrat. Location: Types: LLD: Pas d'achat possible, seulement la location longue durée. Conclusion: L'achat est préférable pour le long terme, la location pour changer régulièrement de voiture.\""
      ]
     },
     "execution_count": 153,
     "metadata": {},
     "output_type": "execute_result"
    }
   ],
   "source": [
    "import orjson\n",
    "\n",
    "def extract_text_from_json(json_path):\n",
    "    with open(json_path, \"r\", encoding=\"utf-8\") as f:\n",
    "        data = orjson.loads(f.read())\n",
    "\n",
    "    def recursive_extract(data, prefix=\"\"):\n",
    "        if isinstance(data, dict):\n",
    "            return \" \".join([recursive_extract(v, f\"{prefix}{k}: \") for k, v in data.items()])\n",
    "        elif isinstance(data, list):\n",
    "            return \" \".join([recursive_extract(v, prefix) for v in data])\n",
    "        elif isinstance(data, (int, float, str)):\n",
    "            return f\"{prefix}{data}\"\n",
    "        return \"\"\n",
    "\n",
    "    return recursive_extract(data).strip()\n",
    "\n",
    "json = extract_text_from_json('./ref/doc.json')\n",
    "print(json)"
   ]
  },
  {
   "cell_type": "code",
   "execution_count": null,
   "metadata": {},
   "outputs": [
    {
     "data": {
      "text/plain": [
       "\"L'achat ou la location d'une voiture dépend du budget, de l'usage et des coûts d'entretien. Liberté totale Coûts réduits à long terme Possibilité de revente Investissement initial élevé Dépréciation rapide Coûts d'entretien Plus cher mais garantie constructeur et technologies modernes. Moins cher mais attention à l'état général et à l'historique du véhicule. Budget Type de carburant Usage Espace et confort Coût mensuel prévisible Accès à des véhicules récents Pas de souci de revente Absence de propriété Restrictions d'utilisation Dépôt de garantie et frais supplémentaires Achat possible en fin de contrat. Pas d'achat possible, seulement la location longue durée. L'achat est préférable pour le long terme, la location pour changer régulièrement de voiture.\""
      ]
     },
     "execution_count": 154,
     "metadata": {},
     "output_type": "execute_result"
    }
   ],
   "source": [
    "import lxml.etree as ET\n",
    "\n",
    "def extract_text_from_xml(xml_path):\n",
    "    tree = ET.parse(xml_path)\n",
    "    root = tree.getroot()\n",
    "    text = \" \".join([elem.text for elem in root.iter() if elem.text])\n",
    "    return text.strip()\n",
    "\n",
    "xml = extract_text_from_xml('./ref/doc.xml')\n",
    "print(xml)"
   ]
  },
  {
   "cell_type": "markdown",
   "metadata": {},
   "source": [
    "## Netoyage Avancé"
   ]
  },
  {
   "cell_type": "code",
   "execution_count": null,
   "metadata": {},
   "outputs": [],
   "source": [
    "def remove_invisible_ascii(text):\n",
    "    return ''.join(c for c in text if c.isprintable())"
   ]
  },
  {
   "cell_type": "code",
   "execution_count": 74,
   "metadata": {},
   "outputs": [
    {
     "data": {
      "text/html": [
       "<div>\n",
       "<style scoped>\n",
       "    .dataframe tbody tr th:only-of-type {\n",
       "        vertical-align: middle;\n",
       "    }\n",
       "\n",
       "    .dataframe tbody tr th {\n",
       "        vertical-align: top;\n",
       "    }\n",
       "\n",
       "    .dataframe thead th {\n",
       "        text-align: right;\n",
       "    }\n",
       "</style>\n",
       "<table border=\"1\" class=\"dataframe\">\n",
       "  <thead>\n",
       "    <tr style=\"text-align: right;\">\n",
       "      <th></th>\n",
       "      <th>page_number</th>\n",
       "      <th>page_char_count</th>\n",
       "      <th>page_word_count</th>\n",
       "      <th>page_sentence_count_raw</th>\n",
       "      <th>page_token_count</th>\n",
       "    </tr>\n",
       "  </thead>\n",
       "  <tbody>\n",
       "    <tr>\n",
       "      <th>count</th>\n",
       "      <td>4.00</td>\n",
       "      <td>4.00</td>\n",
       "      <td>4.00</td>\n",
       "      <td>4.00</td>\n",
       "      <td>4.00</td>\n",
       "    </tr>\n",
       "    <tr>\n",
       "      <th>mean</th>\n",
       "      <td>2.50</td>\n",
       "      <td>3526.25</td>\n",
       "      <td>703.75</td>\n",
       "      <td>9.75</td>\n",
       "      <td>881.56</td>\n",
       "    </tr>\n",
       "    <tr>\n",
       "      <th>std</th>\n",
       "      <td>1.29</td>\n",
       "      <td>1104.34</td>\n",
       "      <td>90.74</td>\n",
       "      <td>1.89</td>\n",
       "      <td>276.09</td>\n",
       "    </tr>\n",
       "    <tr>\n",
       "      <th>min</th>\n",
       "      <td>1.00</td>\n",
       "      <td>1949.00</td>\n",
       "      <td>585.00</td>\n",
       "      <td>7.00</td>\n",
       "      <td>487.25</td>\n",
       "    </tr>\n",
       "    <tr>\n",
       "      <th>25%</th>\n",
       "      <td>1.75</td>\n",
       "      <td>3228.50</td>\n",
       "      <td>678.75</td>\n",
       "      <td>9.25</td>\n",
       "      <td>807.12</td>\n",
       "    </tr>\n",
       "    <tr>\n",
       "      <th>50%</th>\n",
       "      <td>2.50</td>\n",
       "      <td>3838.00</td>\n",
       "      <td>712.00</td>\n",
       "      <td>10.50</td>\n",
       "      <td>959.50</td>\n",
       "    </tr>\n",
       "    <tr>\n",
       "      <th>75%</th>\n",
       "      <td>3.25</td>\n",
       "      <td>4135.75</td>\n",
       "      <td>737.00</td>\n",
       "      <td>11.00</td>\n",
       "      <td>1033.94</td>\n",
       "    </tr>\n",
       "    <tr>\n",
       "      <th>max</th>\n",
       "      <td>4.00</td>\n",
       "      <td>4480.00</td>\n",
       "      <td>806.00</td>\n",
       "      <td>11.00</td>\n",
       "      <td>1120.00</td>\n",
       "    </tr>\n",
       "  </tbody>\n",
       "</table>\n",
       "</div>"
      ],
      "text/plain": [
       "       page_number  page_char_count  page_word_count  page_sentence_count_raw  \\\n",
       "count         4.00             4.00             4.00                     4.00   \n",
       "mean          2.50          3526.25           703.75                     9.75   \n",
       "std           1.29          1104.34            90.74                     1.89   \n",
       "min           1.00          1949.00           585.00                     7.00   \n",
       "25%           1.75          3228.50           678.75                     9.25   \n",
       "50%           2.50          3838.00           712.00                    10.50   \n",
       "75%           3.25          4135.75           737.00                    11.00   \n",
       "max           4.00          4480.00           806.00                    11.00   \n",
       "\n",
       "       page_token_count  \n",
       "count              4.00  \n",
       "mean             881.56  \n",
       "std              276.09  \n",
       "min              487.25  \n",
       "25%              807.12  \n",
       "50%              959.50  \n",
       "75%             1033.94  \n",
       "max             1120.00  "
      ]
     },
     "execution_count": 74,
     "metadata": {},
     "output_type": "execute_result"
    }
   ],
   "source": [
    "import pandas as pd\n",
    "\n",
    "df = pd.DataFrame(pages_and_texts)\n",
    "df.head()\n",
    "df.describe().round(2)"
   ]
  },
  {
   "cell_type": "code",
   "execution_count": 79,
   "metadata": {},
   "outputs": [
    {
     "name": "stdout",
     "output_type": "stream",
     "text": [
      "Collecting en-core-web-sm==3.8.0\n",
      "  Downloading https://github.com/explosion/spacy-models/releases/download/en_core_web_sm-3.8.0/en_core_web_sm-3.8.0-py3-none-any.whl (12.8 MB)\n",
      "     ---------------------------------------- 0.0/12.8 MB ? eta -:--:--\n",
      "     -------------- ------------------------- 4.7/12.8 MB 28.6 MB/s eta 0:00:01\n",
      "     ----------------------------------- --- 11.8/12.8 MB 32.0 MB/s eta 0:00:01\n",
      "     --------------------------------------- 12.8/12.8 MB 28.6 MB/s eta 0:00:00\n",
      "Installing collected packages: en-core-web-sm\n",
      "Successfully installed en-core-web-sm-3.8.0\n",
      "\u001b[38;5;2m✔ Download and installation successful\u001b[0m\n",
      "You can now load the package via spacy.load('en_core_web_sm')\n",
      "Collecting fr-core-news-sm==3.8.0\n",
      "  Downloading https://github.com/explosion/spacy-models/releases/download/fr_core_news_sm-3.8.0/fr_core_news_sm-3.8.0-py3-none-any.whl (16.3 MB)\n",
      "     ---------------------------------------- 0.0/16.3 MB ? eta -:--:--\n",
      "     ----------- ---------------------------- 4.7/16.3 MB 28.6 MB/s eta 0:00:01\n",
      "     ------------------------------ -------- 12.8/16.3 MB 32.3 MB/s eta 0:00:01\n",
      "     --------------------------------------- 16.3/16.3 MB 30.1 MB/s eta 0:00:00\n",
      "Installing collected packages: fr-core-news-sm\n",
      "Successfully installed fr-core-news-sm-3.8.0\n",
      "\u001b[38;5;2m✔ Download and installation successful\u001b[0m\n",
      "You can now load the package via spacy.load('fr_core_news_sm')\n"
     ]
    }
   ],
   "source": [
    "!python -m spacy download en_core_web_sm\n",
    "!python -m spacy download fr_core_news_sm"
   ]
  },
  {
   "cell_type": "code",
   "execution_count": 87,
   "metadata": {},
   "outputs": [
    {
     "data": {
      "text/plain": [
       "[This is a sentence., This another sentence.]"
      ]
     },
     "execution_count": 87,
     "metadata": {},
     "output_type": "execute_result"
    }
   ],
   "source": [
    "\n",
    "\n",
    "\n",
    "from spacy.lang.fr import French # see https://spacy.io/usage for install instructions\n",
    "\n",
    "nlp = French()\n",
    "\n",
    "nlp.add_pipe(\"sentencizer\")\n",
    "\n",
    "doc = nlp(\"This is a sentence. This another sentence.\")\n",
    "assert len(list(doc.sents)) == 2\n",
    "\n",
    "list(doc.sents)"
   ]
  },
  {
   "cell_type": "code",
   "execution_count": null,
   "metadata": {},
   "outputs": [],
   "source": [
    "from ollama import chat\n",
    "from ollama import ChatResponse\n",
    "\n",
    "query_text = 'Why is the sky blue?'\n",
    "\n",
    "print(f\"Testing with model llama3.2:1b\")\n",
    "\n",
    "response: ChatResponse = chat(\n",
    "    model='llama3.2:1b',\n",
    "    messages=[{'role': 'user', 'content': query_text}],\n",
    "    stream=False\n",
    ")\n",
    "print(response['message']['content'])"
   ]
  },
  {
   "cell_type": "markdown",
   "metadata": {},
   "source": [
    "- `seed` : Nombre aléatoire pour l'initialisation du générateur de nombres aléatoires  \n",
    "  min : 0 / max : 2147483647 (selon les limites des entiers 32 bits) / default : Aucune valeur définie (généré aléatoirement)\n",
    "\n",
    "- `num_predict` : Nombre maximal de tokens à prédire  \n",
    "  min : 1 / max : Limite du vocabulaire du modèle (environ 50000 pour Llama3.2:1b) / default : 256\n",
    "\n",
    "- `top_k` : Nombre de tokens parmi les meilleurs à choisir lors de la génération  \n",
    "  min : 1 / max : Taille du vocabulaire du modèle (environ 50000 pour Llama3.2:1b) / default : 50\n",
    "\n",
    "- `top_p` : Contrôle la diversité des prédictions en fonction de la probabilité cumulative des tokens  \n",
    "  min : 0.0 / max : 1.0 / default : 1.0\n",
    "\n",
    "- `min_p` : Utilisé pour ajuster la probabilité minimale des tokens en fonction de la probabilité du token de top  \n",
    "  min : 0.0 / max : 1.0 / default : 0.0\n",
    "\n",
    "- `num_ctx` : Nombre de contextes (tokens) à prendre en compte pour l'inférence  \n",
    "  min : 1 / max : 4096 / default : 4096\n",
    "\n",
    "- `temperature` : Niveau de créativité de la réponse générée. Une température plus basse produit des réponses plus déterministes  \n",
    "  min : 0.0 / max : 2.0 / default : 1.0\n",
    "\n",
    "- `repeat_penalty` : Force avec laquelle les répétitions sont pénalisées pendant la génération  \n",
    "  min : 1.0 / max : 2.0 / default : 1.1\n",
    "\n",
    "- `repeat_last_n` : Nombre de tokens passés à prendre en compte pour la pénalisation des répétitions  \n",
    "  min : 1 / max : 100 / default : 64\n",
    "\n",
    "- `num_gpu` : Nombre de GPU à utiliser pour l'inférence  \n",
    "  min : 1 / max : Nombre total de GPU disponibles / default : 1\n",
    "\n",
    "- `stop` : Liste de chaînes de caractères où le modèle s'arrête dès l'une d'elles est rencontrée  \n",
    "  min : Aucun / max : Liste de chaînes / default : Aucun"
   ]
  },
  {
   "cell_type": "code",
   "execution_count": null,
   "metadata": {},
   "outputs": [],
   "source": [
    "from ollama import chat\n",
    "from ollama import ChatResponse\n",
    "\n",
    "query_text = 'Qui est le dernier président des Etat-Unis?'\n",
    "\n",
    "params_list = [\n",
    "    {\n",
    "        'temperature': 1.5,\n",
    "        'top_k': 100,\n",
    "        'top_p': 0.9,\n",
    "        'num_predict': 512,\n",
    "        'num_ctx': 2048,\n",
    "        'repeat_penalty': 1.1,\n",
    "        'repeat_last_n': 64,\n",
    "        'num_gpu': 1,\n",
    "        'stop': ['\\n'],\n",
    "        'seed': 12345\n",
    "    },\n",
    "    {\n",
    "        'temperature': 0.3,\n",
    "        'top_k': 20,\n",
    "        'top_p': 0.8,\n",
    "        'num_predict': 150,\n",
    "        'num_ctx': 1024,\n",
    "        'repeat_penalty': 1.2,\n",
    "        'repeat_last_n': 32,\n",
    "        'num_gpu': 1,\n",
    "        'stop': ['.'],\n",
    "        'seed': 67890\n",
    "    },\n",
    "    {\n",
    "        'temperature': 0.8,\n",
    "        'top_k': 50,\n",
    "        'top_p': 0.95,\n",
    "        'num_predict': 256,\n",
    "        'num_ctx': 1024,\n",
    "        'repeat_penalty': 1.0,\n",
    "        'repeat_last_n': 32,\n",
    "        'num_gpu': 1,\n",
    "        'stop': ['\\n'],\n",
    "        'seed': 112233\n",
    "    }\n",
    "]\n",
    "for params in params_list:\n",
    "    print(f\"Testing with: temperature={params['temperature']} | top_p={params['top_p']}\")\n",
    "\n",
    "    response: ChatResponse = chat (\n",
    "        model='llama3.2:1b',\n",
    "        messages=[{'role': 'user', 'content': query_text}],\n",
    "        stream=False,\n",
    "        options=params \n",
    "    )\n",
    "    print(response['message']['content'], '\\n\\n')"
   ]
  },
  {
   "cell_type": "markdown",
   "metadata": {},
   "source": [
    "#### Configuration 1 \n",
    "\n",
    "```python\n",
    "  'temperature': 1.5,\n",
    "  'top_k': 100,\n",
    "  'top_p': 0.9,\n",
    "  'num_predict': 512,\n",
    "  'num_ctx': 2048,\n",
    "  'repeat_penalty': 1.1,\n",
    "  'repeat_last_n': 64,\n",
    "  'num_gpu': 1,\n",
    "  'stop': ['\\n'],\n",
    "  'seed': 12345\n",
    "```\n",
    "\n",
    "##### Résultat : \n",
    "\n",
    "Actuellement, Barack Obama, qui était le 44e président des États-Unis, c'est-à-dire depuis janvier 2017, succède à Joe Biden, qui est actuellement le 46e président. Barack Obama est un politologue et scénariste américain célèbre pour son campagnede présidentielle en 2008 et sa nomination comme 44e président des États-Unis par le conseil de dirigeance républicain en novembre 2007. \n",
    "\n",
    "##### Conclusion : \n",
    "\n",
    "**Créative et longue**\n",
    "\n",
    "---\n",
    "\n",
    "#### Configuration 2\n",
    "\n",
    "```python\n",
    "  'temperature': 0.3,\n",
    "  'top_k': 20,\n",
    "  'top_p': 0.8,\n",
    "  'num_predict': 150,\n",
    "  'num_ctx': 1024,\n",
    "  'repeat_penalty': 1.2,\n",
    "  'repeat_last_n': 32,\n",
    "  'num_gpu': 1,\n",
    "  'stop': ['.'],\n",
    "  'seed': 67890\n",
    "```\n",
    "##### Résultat : \n",
    "\n",
    "Testing with: temperature=0.3 | top_p=0.8\n",
    "Le dernier président des États-Unis est Joe Biden \n",
    "\n",
    "##### Conclusion : \n",
    "\n",
    "**Déterministe et concis**\n",
    "\n",
    "---\n",
    "\n",
    "#### Configuration 3\n",
    "\n",
    "```python\n",
    "  'temperature': 1.5,\n",
    "  'top_k': 100,\n",
    "  'top_p': 0.9,\n",
    "  'num_predict': 512,\n",
    "  'num_ctx': 2048,\n",
    "  'repeat_penalty': 1.1,\n",
    "  'repeat_last_n': 64,\n",
    "  'num_gpu': 1,\n",
    "  'stop': ['\\n'],\n",
    "  'seed': 12345\n",
    "```\n",
    "\n",
    "##### Résultat : \n",
    "\n",
    "Testing with: temperature=0.8 | top_p=0.95\n",
    "En fait, les États-Unis ont eu plusieurs présidents depuis 1789 jusqu'à l'actualité. L'État actuel du président des États-Unis est Joe Biden, qui a occupé ce titre depuis le 20 décembre 2021. \n",
    "\n",
    "##### Conclusion : \n",
    "\n",
    "**Equilibré**\n",
    "\n",
    "---"
   ]
  }
 ],
 "metadata": {
  "kernelspec": {
   "display_name": ".venv",
   "language": "python",
   "name": "python3"
  },
  "language_info": {
   "codemirror_mode": {
    "name": "ipython",
    "version": 3
   },
   "file_extension": ".py",
   "mimetype": "text/x-python",
   "name": "python",
   "nbconvert_exporter": "python",
   "pygments_lexer": "ipython3",
   "version": "3.12.7"
  }
 },
 "nbformat": 4,
 "nbformat_minor": 2
}
