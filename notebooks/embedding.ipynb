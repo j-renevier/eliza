{
 "cells": [
  {
   "cell_type": "code",
   "execution_count": 21,
   "metadata": {},
   "outputs": [
    {
     "name": "stdout",
     "output_type": "stream",
     "text": [
      "Requirement already satisfied: torch in c:\\users\\rapha\\project\\005-eliza\\.venv\\lib\\site-packages (2.6.0)\n",
      "Requirement already satisfied: transformers in c:\\users\\rapha\\project\\005-eliza\\.venv\\lib\\site-packages (4.49.0)\n",
      "Requirement already satisfied: numpy in c:\\users\\rapha\\project\\005-eliza\\.venv\\lib\\site-packages (2.2.3)\n",
      "Requirement already satisfied: matplotlib in c:\\users\\rapha\\project\\005-eliza\\.venv\\lib\\site-packages (3.10.1)\n",
      "Requirement already satisfied: scikit-learn in c:\\users\\rapha\\project\\005-eliza\\.venv\\lib\\site-packages (1.6.1)\n",
      "Requirement already satisfied: pandas in c:\\users\\rapha\\project\\005-eliza\\.venv\\lib\\site-packages (2.2.3)\n",
      "Requirement already satisfied: plotly in c:\\users\\rapha\\project\\005-eliza\\.venv\\lib\\site-packages (6.0.0)\n",
      "Collecting nbformat\n",
      "  Using cached nbformat-5.10.4-py3-none-any.whl.metadata (3.6 kB)\n",
      "Requirement already satisfied: filelock in c:\\users\\rapha\\project\\005-eliza\\.venv\\lib\\site-packages (from torch) (3.17.0)\n",
      "Requirement already satisfied: typing-extensions>=4.10.0 in c:\\users\\rapha\\project\\005-eliza\\.venv\\lib\\site-packages (from torch) (4.12.2)\n",
      "Requirement already satisfied: networkx in c:\\users\\rapha\\project\\005-eliza\\.venv\\lib\\site-packages (from torch) (3.4.2)\n",
      "Requirement already satisfied: jinja2 in c:\\users\\rapha\\project\\005-eliza\\.venv\\lib\\site-packages (from torch) (3.1.5)\n",
      "Requirement already satisfied: fsspec in c:\\users\\rapha\\project\\005-eliza\\.venv\\lib\\site-packages (from torch) (2025.3.0)\n",
      "Requirement already satisfied: setuptools in c:\\users\\rapha\\project\\005-eliza\\.venv\\lib\\site-packages (from torch) (75.8.2)\n",
      "Requirement already satisfied: sympy==1.13.1 in c:\\users\\rapha\\project\\005-eliza\\.venv\\lib\\site-packages (from torch) (1.13.1)\n",
      "Requirement already satisfied: mpmath<1.4,>=1.1.0 in c:\\users\\rapha\\project\\005-eliza\\.venv\\lib\\site-packages (from sympy==1.13.1->torch) (1.3.0)\n",
      "Requirement already satisfied: huggingface-hub<1.0,>=0.26.0 in c:\\users\\rapha\\project\\005-eliza\\.venv\\lib\\site-packages (from transformers) (0.29.2)\n",
      "Requirement already satisfied: packaging>=20.0 in c:\\users\\rapha\\project\\005-eliza\\.venv\\lib\\site-packages (from transformers) (24.2)\n",
      "Requirement already satisfied: pyyaml>=5.1 in c:\\users\\rapha\\project\\005-eliza\\.venv\\lib\\site-packages (from transformers) (6.0.2)\n",
      "Requirement already satisfied: regex!=2019.12.17 in c:\\users\\rapha\\project\\005-eliza\\.venv\\lib\\site-packages (from transformers) (2024.11.6)\n",
      "Requirement already satisfied: requests in c:\\users\\rapha\\project\\005-eliza\\.venv\\lib\\site-packages (from transformers) (2.32.3)\n",
      "Requirement already satisfied: tokenizers<0.22,>=0.21 in c:\\users\\rapha\\project\\005-eliza\\.venv\\lib\\site-packages (from transformers) (0.21.0)\n",
      "Requirement already satisfied: safetensors>=0.4.1 in c:\\users\\rapha\\project\\005-eliza\\.venv\\lib\\site-packages (from transformers) (0.5.3)\n",
      "Requirement already satisfied: tqdm>=4.27 in c:\\users\\rapha\\project\\005-eliza\\.venv\\lib\\site-packages (from transformers) (4.67.1)\n",
      "Requirement already satisfied: contourpy>=1.0.1 in c:\\users\\rapha\\project\\005-eliza\\.venv\\lib\\site-packages (from matplotlib) (1.3.1)\n",
      "Requirement already satisfied: cycler>=0.10 in c:\\users\\rapha\\project\\005-eliza\\.venv\\lib\\site-packages (from matplotlib) (0.12.1)\n",
      "Requirement already satisfied: fonttools>=4.22.0 in c:\\users\\rapha\\project\\005-eliza\\.venv\\lib\\site-packages (from matplotlib) (4.56.0)\n",
      "Requirement already satisfied: kiwisolver>=1.3.1 in c:\\users\\rapha\\project\\005-eliza\\.venv\\lib\\site-packages (from matplotlib) (1.4.8)\n",
      "Requirement already satisfied: pillow>=8 in c:\\users\\rapha\\project\\005-eliza\\.venv\\lib\\site-packages (from matplotlib) (11.1.0)\n",
      "Requirement already satisfied: pyparsing>=2.3.1 in c:\\users\\rapha\\project\\005-eliza\\.venv\\lib\\site-packages (from matplotlib) (3.2.1)\n",
      "Requirement already satisfied: python-dateutil>=2.7 in c:\\users\\rapha\\project\\005-eliza\\.venv\\lib\\site-packages (from matplotlib) (2.9.0.post0)\n",
      "Requirement already satisfied: scipy>=1.6.0 in c:\\users\\rapha\\project\\005-eliza\\.venv\\lib\\site-packages (from scikit-learn) (1.15.2)\n",
      "Requirement already satisfied: joblib>=1.2.0 in c:\\users\\rapha\\project\\005-eliza\\.venv\\lib\\site-packages (from scikit-learn) (1.4.2)\n",
      "Requirement already satisfied: threadpoolctl>=3.1.0 in c:\\users\\rapha\\project\\005-eliza\\.venv\\lib\\site-packages (from scikit-learn) (3.5.0)\n",
      "Requirement already satisfied: pytz>=2020.1 in c:\\users\\rapha\\project\\005-eliza\\.venv\\lib\\site-packages (from pandas) (2025.1)\n",
      "Requirement already satisfied: tzdata>=2022.7 in c:\\users\\rapha\\project\\005-eliza\\.venv\\lib\\site-packages (from pandas) (2025.1)\n",
      "Requirement already satisfied: narwhals>=1.15.1 in c:\\users\\rapha\\project\\005-eliza\\.venv\\lib\\site-packages (from plotly) (1.29.1)\n",
      "Collecting fastjsonschema>=2.15 (from nbformat)\n",
      "  Using cached fastjsonschema-2.21.1-py3-none-any.whl.metadata (2.2 kB)\n",
      "Collecting jsonschema>=2.6 (from nbformat)\n",
      "  Using cached jsonschema-4.23.0-py3-none-any.whl.metadata (7.9 kB)\n",
      "Requirement already satisfied: jupyter-core!=5.0.*,>=4.12 in c:\\users\\rapha\\project\\005-eliza\\.venv\\lib\\site-packages (from nbformat) (5.7.2)\n",
      "Requirement already satisfied: traitlets>=5.1 in c:\\users\\rapha\\project\\005-eliza\\.venv\\lib\\site-packages (from nbformat) (5.14.3)\n",
      "Requirement already satisfied: attrs>=22.2.0 in c:\\users\\rapha\\project\\005-eliza\\.venv\\lib\\site-packages (from jsonschema>=2.6->nbformat) (25.1.0)\n",
      "Collecting jsonschema-specifications>=2023.03.6 (from jsonschema>=2.6->nbformat)\n",
      "  Using cached jsonschema_specifications-2024.10.1-py3-none-any.whl.metadata (3.0 kB)\n",
      "Collecting referencing>=0.28.4 (from jsonschema>=2.6->nbformat)\n",
      "  Downloading referencing-0.36.2-py3-none-any.whl.metadata (2.8 kB)\n",
      "Collecting rpds-py>=0.7.1 (from jsonschema>=2.6->nbformat)\n",
      "  Downloading rpds_py-0.23.1-cp312-cp312-win_amd64.whl.metadata (4.2 kB)\n",
      "Requirement already satisfied: platformdirs>=2.5 in c:\\users\\rapha\\project\\005-eliza\\.venv\\lib\\site-packages (from jupyter-core!=5.0.*,>=4.12->nbformat) (4.3.6)\n",
      "Requirement already satisfied: pywin32>=300 in c:\\users\\rapha\\project\\005-eliza\\.venv\\lib\\site-packages (from jupyter-core!=5.0.*,>=4.12->nbformat) (308)\n",
      "Requirement already satisfied: six>=1.5 in c:\\users\\rapha\\project\\005-eliza\\.venv\\lib\\site-packages (from python-dateutil>=2.7->matplotlib) (1.17.0)\n",
      "Requirement already satisfied: colorama in c:\\users\\rapha\\project\\005-eliza\\.venv\\lib\\site-packages (from tqdm>=4.27->transformers) (0.4.6)\n",
      "Requirement already satisfied: MarkupSafe>=2.0 in c:\\users\\rapha\\project\\005-eliza\\.venv\\lib\\site-packages (from jinja2->torch) (3.0.2)\n",
      "Requirement already satisfied: charset-normalizer<4,>=2 in c:\\users\\rapha\\project\\005-eliza\\.venv\\lib\\site-packages (from requests->transformers) (3.4.1)\n",
      "Requirement already satisfied: idna<4,>=2.5 in c:\\users\\rapha\\project\\005-eliza\\.venv\\lib\\site-packages (from requests->transformers) (3.10)\n",
      "Requirement already satisfied: urllib3<3,>=1.21.1 in c:\\users\\rapha\\project\\005-eliza\\.venv\\lib\\site-packages (from requests->transformers) (2.3.0)\n",
      "Requirement already satisfied: certifi>=2017.4.17 in c:\\users\\rapha\\project\\005-eliza\\.venv\\lib\\site-packages (from requests->transformers) (2025.1.31)\n",
      "Using cached nbformat-5.10.4-py3-none-any.whl (78 kB)\n",
      "Using cached fastjsonschema-2.21.1-py3-none-any.whl (23 kB)\n",
      "Using cached jsonschema-4.23.0-py3-none-any.whl (88 kB)\n",
      "Using cached jsonschema_specifications-2024.10.1-py3-none-any.whl (18 kB)\n",
      "Downloading referencing-0.36.2-py3-none-any.whl (26 kB)\n",
      "Downloading rpds_py-0.23.1-cp312-cp312-win_amd64.whl (237 kB)\n",
      "Installing collected packages: fastjsonschema, rpds-py, referencing, jsonschema-specifications, jsonschema, nbformat\n",
      "Successfully installed fastjsonschema-2.21.1 jsonschema-4.23.0 jsonschema-specifications-2024.10.1 nbformat-5.10.4 referencing-0.36.2 rpds-py-0.23.1\n",
      "Note: you may need to restart the kernel to use updated packages.\n"
     ]
    }
   ],
   "source": [
    "%pip install torch transformers numpy matplotlib scikit-learn pandas plotly nbformat"
   ]
  },
  {
   "cell_type": "code",
   "execution_count": 25,
   "metadata": {},
   "outputs": [
    {
     "name": "stdout",
     "output_type": "stream",
     "text": [
      "Requirement already satisfied: nbformat in c:\\users\\rapha\\project\\005-eliza\\.venv\\lib\\site-packages (5.10.4)\n",
      "Requirement already satisfied: fastjsonschema>=2.15 in c:\\users\\rapha\\project\\005-eliza\\.venv\\lib\\site-packages (from nbformat) (2.21.1)\n",
      "Requirement already satisfied: jsonschema>=2.6 in c:\\users\\rapha\\project\\005-eliza\\.venv\\lib\\site-packages (from nbformat) (4.23.0)\n",
      "Requirement already satisfied: jupyter-core!=5.0.*,>=4.12 in c:\\users\\rapha\\project\\005-eliza\\.venv\\lib\\site-packages (from nbformat) (5.7.2)\n",
      "Requirement already satisfied: traitlets>=5.1 in c:\\users\\rapha\\project\\005-eliza\\.venv\\lib\\site-packages (from nbformat) (5.14.3)\n",
      "Requirement already satisfied: attrs>=22.2.0 in c:\\users\\rapha\\project\\005-eliza\\.venv\\lib\\site-packages (from jsonschema>=2.6->nbformat) (25.1.0)\n",
      "Requirement already satisfied: jsonschema-specifications>=2023.03.6 in c:\\users\\rapha\\project\\005-eliza\\.venv\\lib\\site-packages (from jsonschema>=2.6->nbformat) (2024.10.1)\n",
      "Requirement already satisfied: referencing>=0.28.4 in c:\\users\\rapha\\project\\005-eliza\\.venv\\lib\\site-packages (from jsonschema>=2.6->nbformat) (0.36.2)\n",
      "Requirement already satisfied: rpds-py>=0.7.1 in c:\\users\\rapha\\project\\005-eliza\\.venv\\lib\\site-packages (from jsonschema>=2.6->nbformat) (0.23.1)\n",
      "Requirement already satisfied: platformdirs>=2.5 in c:\\users\\rapha\\project\\005-eliza\\.venv\\lib\\site-packages (from jupyter-core!=5.0.*,>=4.12->nbformat) (4.3.6)\n",
      "Requirement already satisfied: pywin32>=300 in c:\\users\\rapha\\project\\005-eliza\\.venv\\lib\\site-packages (from jupyter-core!=5.0.*,>=4.12->nbformat) (308)\n",
      "Requirement already satisfied: typing-extensions>=4.4.0 in c:\\users\\rapha\\project\\005-eliza\\.venv\\lib\\site-packages (from referencing>=0.28.4->jsonschema>=2.6->nbformat) (4.12.2)\n",
      "Note: you may need to restart the kernel to use updated packages.\n"
     ]
    }
   ],
   "source": [
    "%pip install --upgrade nbformat"
   ]
  },
  {
   "cell_type": "code",
   "execution_count": null,
   "metadata": {},
   "outputs": [
    {
     "name": "stdout",
     "output_type": "stream",
     "text": [
      "Mot: king\n",
      "Tokens lisibles: ['[CLS]', 'king', '[SEP]']\n",
      "Tokens: {'input_ids': tensor([[ 101, 2332,  102]]), 'token_type_ids': tensor([[0, 0, 0]]), 'attention_mask': tensor([[1, 1, 1]])}\n",
      "Shape de la sortie du modèle: torch.Size([1, 3, 768])\n",
      "Embedding du token [CLS] avant déconnexion des gradients: tensor([[-1.3184e-01,  1.9966e-01,  5.9325e-02,  8.0516e-02, -4.2527e-02,\n",
      "         -9.0917e-02,  2.8986e-01,  7.0219e-02, -1.7479e-01, -2.3499e-01,\n",
      "         -7.8909e-02,  4.3450e-02, -3.5087e-02,  2.3391e-01,  2.8623e-01,\n",
      "          6.7021e-02, -1.9082e-01,  6.6607e-02,  3.2998e-01, -4.6192e-01,\n",
      "         -5.0473e-02, -1.2404e-01, -1.0474e-01, -2.0417e-01,  1.2156e-01,\n",
      "         -9.2246e-02, -4.6252e-02, -3.1221e-03,  3.3819e-02,  1.5295e-01,\n",
      "          3.9030e-02,  2.5014e-01, -1.9153e-01,  1.5212e-01, -8.3758e-02,\n",
      "         -5.6380e-02,  3.5943e-02, -8.4768e-02, -3.3302e-02,  7.5488e-03,\n",
      "          1.5911e-01, -6.9021e-02,  1.8661e-01, -3.8404e-02, -1.2238e-01,\n",
      "         -2.9652e-01, -1.5762e+00, -9.4744e-02, -7.0038e-02, -1.1890e-01,\n",
      "          1.6552e-01,  2.4033e-01,  4.3240e-02,  1.0965e-01,  1.7204e-01,\n",
      "          2.7590e-01, -1.1241e-01,  5.7682e-01,  6.4704e-02,  6.4798e-02,\n",
      "         -1.0556e-02, -1.7328e-01, -1.7364e-01, -8.9570e-02, -2.4913e-02,\n",
      "          1.6757e-01,  6.0088e-02,  1.3894e-01, -8.3425e-02,  3.7852e-01,\n",
      "         -2.7379e-01,  1.4667e-02,  3.3464e-01,  1.0352e-01, -2.7174e-02,\n",
      "         -1.3584e-01, -1.3813e-02,  9.7815e-02,  4.0895e-02, -1.9665e-01,\n",
      "          2.1766e-01, -1.0724e-01,  1.5927e-01,  4.0779e-01, -3.7193e-02,\n",
      "          2.3801e-01, -1.4939e-01, -2.7361e-01,  4.2524e-02,  4.2150e-01,\n",
      "          4.1938e-02,  2.0289e-01,  1.3659e-01,  2.2397e-01, -1.8115e-02,\n",
      "         -4.3297e-01,  9.0450e-03,  3.4210e-02, -3.3819e-02,  1.4976e-01,\n",
      "         -3.4918e-01, -4.5448e-02,  1.2773e-01, -1.3450e-01, -2.5995e-01,\n",
      "          1.1319e-01, -9.0065e-02, -2.1714e-02, -7.5944e-02, -2.9587e+00,\n",
      "          1.5656e-01,  9.8797e-02,  4.0814e-02,  7.8899e-02,  1.0897e-01,\n",
      "          5.2029e-01,  1.7470e-01,  8.2531e-02, -2.1055e-01,  3.4985e-02,\n",
      "         -1.1106e-01,  5.2117e-01, -7.6769e-02,  1.6517e-01,  2.1260e-01,\n",
      "          2.8410e-01,  2.8185e-01, -1.8159e-01,  1.9807e-01,  1.4208e-01,\n",
      "         -1.9752e-02,  1.2673e-01, -1.7070e-02,  1.4004e-03, -1.2496e-01,\n",
      "         -9.5058e-02,  2.8729e-01, -3.7931e-02, -1.9609e-02,  1.8661e-02,\n",
      "         -3.1280e-01, -2.0989e-01, -3.5582e+00,  1.3015e-01,  4.0043e-01,\n",
      "         -1.8703e-01, -2.5489e-02,  2.3317e-01,  1.2825e-01,  2.2950e-01,\n",
      "         -2.4699e-01, -1.8029e-02,  1.5297e-02,  9.4269e-02, -2.0965e-01,\n",
      "         -1.5956e-01, -9.0116e-02, -1.1721e-01, -1.7557e-03,  3.3323e-01,\n",
      "         -1.5523e-01,  1.0553e-01, -3.1689e-02, -3.2152e-01, -7.6339e-02,\n",
      "         -2.4761e-01,  2.5292e-01,  1.5067e-01,  1.0015e-01, -1.0384e-01,\n",
      "         -3.0045e-01, -1.0294e-02, -1.9026e-01,  1.2811e-01,  2.7580e-01,\n",
      "         -1.5292e-01,  3.0947e-01,  7.0577e-02, -1.5332e-01, -1.2632e-01,\n",
      "          5.2034e-02,  2.1991e-01,  1.1886e-02,  7.3322e-02,  1.8009e-01,\n",
      "          9.3512e-03,  2.6514e-01, -1.4620e-01,  7.4755e-02,  1.7302e-01,\n",
      "         -2.9371e-03,  1.6378e-01,  1.9823e-01,  5.3323e-02,  2.9917e-01,\n",
      "          8.0019e-02,  8.9026e-02, -2.7453e-01,  2.6673e-01,  3.6277e-01,\n",
      "          9.8472e-02, -1.2950e-02,  3.6065e-02, -4.2544e-02,  1.4181e-01,\n",
      "          3.8447e+00, -1.0387e-01, -3.1777e-01,  2.4828e-01,  2.1718e-01,\n",
      "          1.2564e-01,  2.8180e-01,  5.9971e-02,  3.5287e-02,  1.1387e-01,\n",
      "         -2.7603e-01,  4.2765e-01,  1.7543e-01, -1.5458e-01, -5.1830e-02,\n",
      "          2.7917e-01,  7.4812e-02, -1.6429e-02,  1.8077e-01, -1.6078e-01,\n",
      "          2.6138e-01,  2.3371e-01, -1.6669e-01, -4.5341e-01, -4.9936e-01,\n",
      "         -4.2471e-02, -2.7642e-01, -3.7473e-01,  2.5444e-01, -2.7777e-01,\n",
      "          1.7043e-01, -4.8765e-02, -1.6342e-01, -3.0199e-04,  8.9295e-03,\n",
      "          1.1897e-02,  3.3229e-02,  1.9775e-01,  2.7731e-01, -2.3241e-01,\n",
      "          1.6921e-01,  2.2888e-01,  6.9013e-02,  8.2942e-03, -3.0477e-02,\n",
      "          2.4043e-01, -4.5328e-01, -1.0276e-01, -3.8888e-02, -1.0456e-01,\n",
      "         -2.3130e-01,  1.7456e-01,  2.3198e-02, -1.8885e-01,  1.9369e-02,\n",
      "         -1.9104e-01,  2.6776e-01,  1.6389e-01, -8.8574e-02,  9.1983e-02,\n",
      "          7.2573e-02,  1.0793e-02, -2.5759e-01,  1.9256e-01,  3.5905e-02,\n",
      "         -2.7567e-02, -3.6352e-02, -8.7803e-02, -5.1726e+00,  5.6575e-02,\n",
      "          1.3488e-01,  3.6206e-01,  3.1855e-01, -4.9645e-02, -8.3135e-02,\n",
      "          4.4626e-01,  6.9814e-02, -1.6059e-01,  8.5018e-02, -1.6309e-01,\n",
      "         -2.6470e-01,  1.8484e-01, -3.8959e-01,  8.0010e-02, -4.5018e-02,\n",
      "          1.8253e-01,  3.4257e-02, -6.6687e-02,  2.0691e-01,  2.9257e-01,\n",
      "         -8.6250e-02, -1.5864e-02,  2.3681e-02, -2.7141e-02, -1.1097e-01,\n",
      "         -1.7628e-01,  2.4266e-01, -3.4501e-01, -1.7358e-01,  1.1822e-01,\n",
      "         -4.3620e-02, -1.1151e-01,  4.2837e-02, -1.8937e+00, -8.1107e-02,\n",
      "          7.1386e-02, -1.6068e-01,  3.2810e-01, -1.7287e-01,  2.2128e-01,\n",
      "          4.5001e-02,  1.1709e-01,  2.0051e-01,  5.5683e-02,  5.3137e-02,\n",
      "          4.7888e-02, -1.8235e-03,  7.1812e-03,  5.6452e-02, -4.0735e-02,\n",
      "          2.1732e-01, -2.2849e-02,  1.0874e-01,  1.5660e-01,  1.6597e-02,\n",
      "         -2.0440e-01,  5.9848e-02, -9.9391e-02,  4.0512e-01, -3.2210e-01,\n",
      "         -1.2309e-01, -3.6842e-01,  1.0524e-02, -1.4531e-01,  7.1801e-02,\n",
      "          2.1598e-01, -2.9235e-01, -1.0110e-01, -8.7425e-02,  3.5292e-01,\n",
      "          3.6375e-01,  3.3442e-01,  2.3569e-01,  9.3981e-02,  1.5552e-01,\n",
      "         -2.6649e-02,  1.7056e-01,  2.4547e-01,  8.2742e-02, -3.7889e-01,\n",
      "         -1.6700e-01, -3.1383e-02, -1.2067e-02, -5.4355e-02,  5.6383e-02,\n",
      "          9.5681e-01, -1.6924e-01,  2.6580e-01,  4.5499e-02,  1.6388e-01,\n",
      "          2.3367e-01,  2.3007e-01,  8.8458e-02,  4.1194e-01,  1.2177e-02,\n",
      "          2.0585e-01,  2.6256e-02,  1.3741e-01, -2.6557e-01,  1.7639e-01,\n",
      "         -1.9956e-01,  1.8926e-02,  4.9748e-02,  5.1383e-02,  1.3507e-01,\n",
      "          1.0655e-01, -4.2111e-01, -3.0777e-01,  2.0231e-01, -5.9325e-02,\n",
      "          1.3621e-01,  3.9137e-01, -2.4725e-01, -1.3720e-02,  5.5134e-02,\n",
      "          8.1928e-02,  3.9744e-01, -2.1369e-01,  2.6146e-01, -2.7051e-02,\n",
      "          1.2270e-01, -1.7506e-01,  2.1715e-01, -1.9693e-01,  2.0658e-01,\n",
      "         -1.7607e-01,  2.4554e-01,  2.9604e-02,  2.1818e-02,  2.8632e-01,\n",
      "         -7.7789e-01, -2.3077e-02,  1.4949e-03, -3.5850e-01, -1.0806e-01,\n",
      "         -1.0156e-02, -5.6032e-02, -2.5528e-01, -8.3293e-02, -1.2891e-01,\n",
      "          1.4235e-01, -2.9008e-01,  1.4123e-01,  2.4817e-01,  1.4073e-01,\n",
      "          6.6488e-02,  1.3341e-01,  7.0281e-01,  8.5690e-02, -1.8137e-01,\n",
      "          2.3832e-01,  1.0918e-01,  2.8343e-01, -1.4499e-01,  1.5425e-01,\n",
      "          2.4911e-01,  2.8224e-02, -1.1524e-01,  1.2895e-01,  1.0966e-01,\n",
      "         -3.9825e-01, -2.8386e-01, -2.2137e-01,  5.6603e-02, -2.3349e-01,\n",
      "          6.1960e-02, -5.4077e-01, -1.6987e-01, -7.1966e-02, -2.0823e-01,\n",
      "          7.9127e-02, -1.8783e-02,  8.7837e-02,  1.6815e-02,  1.0285e-01,\n",
      "         -2.7129e-01,  5.5670e-01, -8.1777e-02,  2.1256e-01, -3.4712e-02,\n",
      "         -1.3015e-01,  1.1098e-01,  4.2057e-01,  8.6244e-02, -2.8105e-01,\n",
      "          3.9420e-01, -4.4736e-02, -1.4002e-02,  3.6032e-02,  3.4045e-02,\n",
      "          4.9507e-02,  3.0826e-01,  1.8444e-01, -3.2535e-02, -1.5684e-02,\n",
      "         -7.5233e-01,  3.1962e-01,  1.3538e-01, -2.1506e-01,  1.5593e-01,\n",
      "         -9.0285e-02, -3.1048e-01,  2.7402e-01,  3.6792e-02,  6.0387e-02,\n",
      "         -1.7482e-01, -5.5701e-02, -2.1382e-02, -1.2635e-02, -8.6368e-02,\n",
      "         -1.7642e-02,  2.3401e-01, -1.2610e-01, -1.7299e-02,  3.1457e-02,\n",
      "         -1.2778e-01,  2.1579e-01, -2.4308e-02, -1.5456e-01,  2.9858e-02,\n",
      "         -1.2687e-01, -5.4921e-02,  3.8118e-01, -1.2672e-01,  7.9753e-02,\n",
      "          1.1557e-01, -1.3329e-01, -2.7324e-01, -1.7981e-01, -1.2463e-01,\n",
      "          2.4619e-01,  1.6260e-01,  1.5833e-01,  9.0211e-02,  4.2644e-02,\n",
      "         -4.7796e-02,  7.1303e-02, -5.2436e-02, -1.7403e-01,  1.3304e-01,\n",
      "          9.9148e-02,  9.5725e-02,  1.9972e-01,  3.3716e-01, -2.1913e-01,\n",
      "         -1.5237e-03,  1.3024e-01, -1.4579e-01, -1.8647e-01,  1.4865e-01,\n",
      "          7.2576e-02,  1.1204e-01, -2.6411e-01, -9.8779e-02, -3.0471e-01,\n",
      "          6.8102e-02, -7.5494e-02, -3.5706e-02,  4.3797e-01, -2.7481e-01,\n",
      "         -2.9643e-01,  1.9337e-01, -1.0370e-01, -2.0591e-01,  3.5033e-02,\n",
      "          1.9433e-01,  6.2839e-02, -2.8283e-02, -2.4715e-03, -2.5505e-01,\n",
      "          8.2101e-02, -5.5650e-02, -1.4712e-01,  9.7600e-02, -1.1535e-01,\n",
      "          7.2418e-02, -3.2042e-01, -1.7421e-01,  3.1122e-02,  3.8570e-02,\n",
      "          1.8245e-01,  4.0352e-01,  1.3108e-01, -2.2882e-01,  3.3626e-02,\n",
      "         -3.4945e-02, -1.6107e-01,  3.0749e-01, -2.2484e-01,  2.7675e-01,\n",
      "          1.2199e-01,  1.7807e-01,  3.5031e-02, -3.0766e-01,  7.3549e-02,\n",
      "         -1.8764e-01,  3.6456e-01, -9.4365e-02, -7.6324e-03,  1.6639e-01,\n",
      "          1.6026e-01,  3.8368e-01,  8.0387e-02, -2.8581e-01, -1.3537e-01,\n",
      "         -2.4550e-02,  3.4506e-01, -2.5007e-01, -1.5780e-01,  4.4468e-02,\n",
      "          1.1638e-01,  5.0756e-02,  1.7380e-01,  2.4993e+00,  2.9129e-01,\n",
      "          5.9096e-02,  5.6548e-02,  1.8294e-01,  1.2459e-01,  2.7283e-02,\n",
      "         -1.6553e-01, -1.6757e-01,  6.3655e-02, -1.5760e-02,  1.4426e-01,\n",
      "         -1.6652e-01,  1.4807e-01,  1.8921e-01, -4.0824e-02, -1.9779e-01,\n",
      "         -2.7919e-01, -1.6568e-01, -5.7442e-02, -3.2984e-01,  2.3772e-01,\n",
      "         -8.3179e-02, -3.8596e-02,  1.3950e-01,  3.6749e-02,  1.1665e-01,\n",
      "         -2.6335e-01, -1.6463e-01, -1.9083e-01,  9.9417e-02, -1.4070e-01,\n",
      "          1.1949e-01, -6.0974e-03, -1.2428e-01,  1.0951e-01,  1.9059e-01,\n",
      "         -3.6352e-01,  5.3926e-02,  2.8491e-01, -7.3503e-02, -3.6500e-01,\n",
      "          2.7287e-01,  1.2821e-01,  2.1284e-01,  4.1486e-01, -3.5931e-02,\n",
      "         -1.6736e-01,  1.8866e-01, -7.0665e-02, -2.2855e-01, -3.2122e-01,\n",
      "         -3.5130e-01,  2.5359e-02, -2.6531e-01, -8.2653e-02,  2.5455e-01,\n",
      "         -1.4686e-01, -1.5304e-01,  2.9408e-01,  6.3576e-02,  1.3092e-01,\n",
      "          2.8251e-01, -3.9064e-01,  8.7022e-02,  5.1717e-02, -1.1448e-01,\n",
      "          2.3112e-02,  9.0638e-02,  1.2005e-01,  4.7553e-03,  6.1903e-02,\n",
      "          6.6340e-02, -2.4024e-01,  1.6666e-01, -1.2378e-01,  5.2340e-02,\n",
      "         -2.1006e-01,  3.5368e-02, -3.7897e+00, -8.2950e-02, -7.8891e-02,\n",
      "          2.1483e-01,  2.0259e-01,  1.8208e-01,  2.3898e-02,  2.9892e-01,\n",
      "         -2.7050e-02, -1.5309e-01,  1.7463e-01,  1.6643e-01, -1.1408e-02,\n",
      "          7.9452e-02,  7.9242e-02,  3.8755e-03, -7.3938e-02, -2.1005e-01,\n",
      "         -6.4609e-02,  9.2181e-02, -5.4517e-02, -3.5506e-02, -1.5451e-01,\n",
      "          9.7531e-02, -2.3176e-01,  1.2057e-01,  1.6611e-02, -2.1797e-01,\n",
      "          2.9682e-02,  1.0037e-01,  3.8603e-02,  1.5520e-01,  1.9463e-01,\n",
      "          1.9979e-01, -3.4527e-02,  7.6588e-02,  1.1841e-01,  7.2570e-02,\n",
      "          8.7591e-02,  1.0905e-01,  1.4518e-02,  3.0976e-01,  3.9452e-01,\n",
      "         -2.0002e-02, -2.6471e-01,  2.4844e-01,  2.4187e-02, -1.4595e-01,\n",
      "          2.7084e-01, -1.3137e-01, -1.7070e-01, -3.2370e-02, -1.7017e-01,\n",
      "          6.0130e-02,  9.8496e-02, -2.5692e-01, -3.3105e-02,  1.0848e-01,\n",
      "         -6.4537e-02, -3.3251e-02,  1.7100e-01,  6.9868e-02, -3.2967e-02,\n",
      "          5.3447e-03,  1.6489e-01, -1.2609e-01,  5.8625e-02, -1.5311e-01,\n",
      "          2.6919e-02,  1.5898e-01,  2.4420e-02, -1.2500e-02,  3.3204e-01,\n",
      "         -6.4635e-02, -1.5114e-02,  2.6867e-01,  4.2640e-02,  7.2582e-02,\n",
      "         -5.8025e-02, -2.1767e-02,  7.3369e-02, -2.9017e-01,  1.2454e-02,\n",
      "          1.7253e-01,  8.0792e-02, -9.4723e+00, -2.3794e-01, -2.4840e-01,\n",
      "         -7.3177e-02,  2.2204e-01, -6.6307e-02,  2.7499e-01,  4.2587e-02,\n",
      "          1.9168e-03,  9.8826e-02,  1.9519e-01, -1.6218e-01,  6.4857e-02,\n",
      "         -1.6564e-01, -1.8680e-02, -1.5101e-02]])\n",
      "\n",
      "\n",
      "Mot: woman\n",
      "Tokens lisibles: ['[CLS]', 'woman', '[SEP]']\n",
      "Tokens: {'input_ids': tensor([[ 101, 2450,  102]]), 'token_type_ids': tensor([[0, 0, 0]]), 'attention_mask': tensor([[1, 1, 1]])}\n",
      "Shape de la sortie du modèle: torch.Size([1, 3, 768])\n",
      "Embedding du token [CLS] avant déconnexion des gradients: tensor([[-3.4024e-01,  2.6459e-01, -6.7730e-02,  3.5481e-02,  8.7219e-02,\n",
      "          2.3123e-02,  2.0628e-01,  2.1067e-01, -1.5310e-01, -7.1988e-02,\n",
      "         -8.8570e-02,  4.6521e-04, -1.0661e-01,  1.0633e-01,  1.1629e-01,\n",
      "         -1.2392e-01, -1.2415e-01,  4.0946e-01,  1.5621e-01, -2.5650e-01,\n",
      "         -6.5493e-02, -1.3603e-01, -1.4576e-01, -1.9547e-01,  4.0081e-02,\n",
      "         -3.1609e-02, -1.1905e-01, -8.6459e-02,  7.9171e-02,  1.2366e-01,\n",
      "          3.0820e-02,  5.5620e-02, -1.7139e-01,  2.0090e-01, -6.1307e-02,\n",
      "         -2.3798e-02, -2.3663e-02, -1.4450e-01, -3.7417e-02,  2.1561e-01,\n",
      "          1.0756e-01, -3.5313e-02,  1.7230e-01, -6.8279e-02, -8.5103e-02,\n",
      "         -1.3619e-01, -1.4126e+00, -2.2137e-01, -1.3158e-01, -1.0630e-01,\n",
      "         -3.2457e-02,  1.6255e-03,  1.8108e-01,  1.4393e-01,  1.4875e-03,\n",
      "          3.6137e-01, -9.8802e-02,  6.1218e-01,  4.6489e-02,  1.1732e-01,\n",
      "          1.3870e-01,  1.3540e-02, -1.5702e-01,  1.9788e-01, -9.8837e-02,\n",
      "          1.4926e-01,  1.3860e-01,  1.0232e-01, -1.2189e-01,  4.4344e-01,\n",
      "         -2.4959e-01, -2.3023e-01,  3.0901e-01,  1.2840e-01,  1.0661e-01,\n",
      "         -2.9651e-01,  3.1159e-02, -8.1880e-02,  2.4230e-02, -1.0602e-01,\n",
      "          6.7738e-02,  2.2268e-01, -1.7618e-02,  1.4958e-01,  1.5634e-02,\n",
      "          1.8704e-01, -3.7636e-02, -3.0995e-01,  1.1416e-01,  4.9653e-01,\n",
      "         -4.1905e-02,  1.4497e-01,  5.1576e-02,  2.1127e-01,  1.7202e-01,\n",
      "         -1.5977e-01,  1.0569e-01, -4.9530e-02,  5.1377e-02, -1.5341e-01,\n",
      "         -2.3744e-01,  6.9389e-02,  5.1312e-02, -1.6492e-01, -7.4534e-02,\n",
      "          1.1881e-01, -1.5713e-01, -1.5598e-02, -8.4761e-02, -3.0654e+00,\n",
      "          1.0974e-01,  2.5667e-02, -1.5572e-01, -1.1016e-01, -4.4095e-02,\n",
      "          4.0611e-01,  2.2928e-01,  1.1790e-02, -6.9817e-03,  7.2582e-02,\n",
      "         -1.4527e-01,  3.3739e-01, -1.4173e-01, -8.4329e-02,  1.4825e-01,\n",
      "          2.2337e-01,  2.1817e-01, -8.3598e-02,  2.1255e-01,  1.1490e-01,\n",
      "         -1.4579e-01,  2.0171e-01,  5.2792e-02, -4.1844e-02, -5.1154e-02,\n",
      "         -5.8008e-03,  3.1037e-01, -5.8191e-02, -4.6093e-03, -6.9721e-02,\n",
      "         -2.8824e-01, -3.4052e-02, -3.5901e+00,  2.5406e-01,  4.2779e-01,\n",
      "         -1.5842e-01, -1.0060e-01,  3.7175e-02,  2.5794e-01,  2.4002e-01,\n",
      "         -1.4706e-01, -7.4989e-02,  6.7105e-02,  1.0760e-01, -2.9661e-01,\n",
      "         -1.7212e-01,  2.0276e-01, -1.9863e-01,  1.5670e-01,  3.5013e-01,\n",
      "          3.5652e-02, -7.4115e-02,  1.5775e-01, -3.3755e-01, -4.7829e-02,\n",
      "         -1.7863e-01,  2.3222e-01,  1.4513e-01,  1.2971e-01,  1.0131e-03,\n",
      "         -2.4142e-01, -1.9263e-01,  2.2455e-01,  1.7394e-01,  8.7308e-02,\n",
      "         -5.0370e-02,  1.5529e-02,  2.9942e-01,  7.3496e-02,  1.2666e-02,\n",
      "         -9.9882e-02,  4.9707e-01, -4.7592e-02,  6.4730e-02,  2.5858e-01,\n",
      "         -7.1593e-03,  9.1707e-02, -6.8017e-02,  3.5727e-02,  1.2944e-01,\n",
      "         -8.4327e-02,  9.4894e-02,  2.1506e-01,  1.1453e-01,  6.2290e-02,\n",
      "          3.3946e-02,  5.0096e-02, -3.3699e-01,  2.1574e-01,  2.4972e-01,\n",
      "          4.4062e-03, -5.5636e-02, -6.7723e-02,  6.3137e-02, -5.6088e-02,\n",
      "          4.1145e+00,  9.4907e-02, -1.9621e-01,  3.2147e-01,  8.5324e-02,\n",
      "         -1.9715e-02,  4.0563e-01,  7.6291e-02, -1.7817e-01,  1.5682e-01,\n",
      "         -9.3414e-02,  3.8575e-01,  6.8756e-02, -7.5324e-02,  4.9490e-02,\n",
      "          4.2428e-01,  3.6353e-02,  4.1926e-02,  2.7975e-01, -3.2663e-01,\n",
      "          1.1989e-01,  1.0458e-01, -7.2708e-02, -2.1301e-01, -6.1667e-01,\n",
      "         -4.2924e-02, -1.1715e-01, -2.3659e-01,  2.7058e-01, -3.1704e-01,\n",
      "          1.4334e-01, -3.1794e-02, -1.1912e-01,  1.1029e-01,  2.2688e-01,\n",
      "          5.9563e-02,  2.0367e-01,  8.7012e-02,  1.7260e-01, -3.5990e-01,\n",
      "          3.5211e-02,  3.6903e-01,  7.1548e-02,  1.6444e-01, -5.5429e-02,\n",
      "          1.5171e-01, -2.5546e-01,  1.9706e-02, -2.3835e-01, -8.8141e-02,\n",
      "         -2.6798e-01,  2.0574e-01,  3.6448e-02, -1.0707e-01, -1.1224e-03,\n",
      "         -1.3776e-01, -1.7886e-02,  1.4828e-01, -1.0321e-01, -7.6024e-02,\n",
      "         -9.5311e-02,  1.4074e-01, -2.8652e-01,  7.2727e-02,  1.1396e-02,\n",
      "          5.9087e-02,  5.6084e-02,  5.9030e-02, -5.1377e+00,  1.5520e-01,\n",
      "          3.0823e-01,  1.8140e-01,  2.9782e-01, -5.1270e-02, -3.7987e-02,\n",
      "          3.7596e-01,  3.6677e-02, -1.3849e-01,  1.1836e-01, -7.8872e-02,\n",
      "          6.0255e-04,  2.5437e-01, -2.6982e-01,  1.0177e-01, -6.7980e-02,\n",
      "          3.7917e-02, -1.0641e-01,  3.2715e-02,  2.0836e-01,  5.6528e-01,\n",
      "         -1.2052e-01, -8.8626e-02,  1.8350e-01, -6.2852e-02, -1.8510e-01,\n",
      "         -7.5943e-02,  2.7596e-01, -2.9691e-01, -1.1583e-01, -7.9455e-03,\n",
      "         -1.2102e-01,  1.7394e-02, -1.4610e-01, -1.4844e+00,  1.4151e-01,\n",
      "          5.4578e-02, -1.8216e-01,  9.6651e-02, -2.4105e-01,  2.8493e-01,\n",
      "         -7.7221e-02,  1.2565e-02,  3.0050e-01,  1.2506e-01,  2.0830e-01,\n",
      "         -9.8760e-02,  1.8883e-01,  7.4542e-02,  1.9874e-02,  1.4901e-01,\n",
      "          3.0625e-01,  1.7742e-02, -3.6760e-02,  1.5688e-01,  1.7510e-01,\n",
      "         -3.9923e-02, -1.0296e-01,  2.2709e-02,  2.6150e-01, -2.7887e-01,\n",
      "         -2.1810e-01, -2.7602e-01, -1.2399e-01, -1.3748e-01,  1.0509e-01,\n",
      "         -5.8336e-02,  2.1462e-02, -3.5423e-02, -2.0124e-01,  3.8005e-01,\n",
      "          1.9233e-01,  5.6339e-01,  2.4581e-01,  1.1639e-01,  3.0975e-01,\n",
      "          6.6095e-02,  3.3715e-01,  2.1261e-01,  1.2835e-01, -1.5703e-01,\n",
      "         -2.4628e-01,  2.3841e-02,  7.8506e-02, -1.1182e-01, -5.5122e-02,\n",
      "          9.8451e-01, -8.8182e-02,  2.3581e-01,  5.5489e-03,  2.9497e-01,\n",
      "          7.6582e-02,  2.0801e-01, -6.8487e-02,  3.8473e-01,  8.0609e-02,\n",
      "          3.2010e-01, -2.7348e-02, -1.4914e-01, -2.6977e-01,  2.2834e-01,\n",
      "         -2.3884e-01, -5.9795e-02,  2.3038e-01, -8.1109e-03,  2.5682e-01,\n",
      "          9.7157e-03, -4.1377e-01, -1.2997e-01,  1.2984e-02, -2.4707e-01,\n",
      "          3.3933e-01,  3.2721e-01, -2.7205e-01,  1.7251e-01, -5.6407e-02,\n",
      "          4.1151e-02,  4.2655e-01, -9.6391e-02,  2.6370e-01,  1.5599e-01,\n",
      "         -4.5340e-02, -2.9068e-01,  8.3832e-02, -2.5910e-01,  1.9994e-01,\n",
      "         -9.1667e-02,  1.3639e-01,  5.1022e-03,  1.8633e-01,  1.9687e-01,\n",
      "         -6.9200e-01,  5.9465e-02, -1.5790e-01, -3.3730e-01, -4.0637e-01,\n",
      "         -2.7076e-01,  3.1758e-02, -1.9208e-01, -1.3912e-01, -1.9137e-01,\n",
      "          8.0274e-02, -7.6719e-02,  6.7248e-02,  2.8340e-01,  2.6153e-01,\n",
      "          8.1685e-02, -2.5661e-02,  6.2690e-01,  1.9490e-01, -1.4071e-01,\n",
      "          3.2039e-01,  1.0479e-01,  3.5316e-01,  2.0071e-01,  9.9662e-03,\n",
      "          1.0639e-01,  2.2426e-02, -1.1946e-01,  1.2342e-01,  3.7276e-02,\n",
      "         -3.7000e-01, -2.7341e-01, -1.1542e-01,  3.5599e-02, -1.2409e-01,\n",
      "         -2.0148e-02, -6.7817e-01, -1.7229e-01,  1.8620e-02, -9.3041e-02,\n",
      "          3.2209e-01,  9.3027e-02,  1.3130e-01,  1.5618e-01, -5.8609e-02,\n",
      "         -3.1526e-01,  3.8634e-01, -2.9376e-02,  1.9844e-01, -6.1828e-02,\n",
      "         -2.0519e-02, -1.0542e-02,  4.7834e-01,  1.1164e-01, -4.6294e-01,\n",
      "          3.3769e-01, -5.8381e-02, -4.8477e-02,  1.7623e-02,  6.2828e-03,\n",
      "          7.2240e-02,  7.0693e-02,  1.3068e-01, -2.3676e-01, -4.2501e-02,\n",
      "         -1.0024e+00,  1.5660e-01,  2.0308e-01, -1.0471e-01,  2.4200e-01,\n",
      "         -2.1707e-02, -2.5200e-01,  4.5544e-01,  9.6397e-02, -4.2657e-02,\n",
      "         -3.8190e-03,  5.4804e-02,  1.6165e-01, -5.7775e-02, -1.0009e-01,\n",
      "          7.7321e-02,  3.4986e-01,  2.2954e-03, -1.0393e-01,  1.1170e-01,\n",
      "          5.0221e-02,  2.3233e-01,  7.2748e-02, -1.5196e-01, -5.6426e-02,\n",
      "         -1.6959e-01,  8.1871e-04,  5.3673e-01, -9.3838e-02,  6.3583e-03,\n",
      "          1.9496e-01, -4.1004e-01, -2.0282e-01,  5.7078e-02, -2.6623e-02,\n",
      "          1.3023e-01, -4.7375e-02,  5.8863e-02,  1.4651e-01, -6.7569e-02,\n",
      "         -2.6957e-01,  1.7290e-01,  6.8852e-02, -1.1334e-01,  2.3209e-01,\n",
      "          2.0496e-01, -1.5633e-01,  1.2072e-01,  3.1136e-01, -1.2896e-01,\n",
      "         -9.0570e-02,  1.4305e-01, -1.1772e-01, -8.9627e-02,  4.1058e-02,\n",
      "          1.8448e-01, -4.1895e-02, -1.2802e-01, -9.6163e-02, -2.6440e-01,\n",
      "          1.4074e-01, -1.6455e-01,  6.5720e-02,  3.4873e-01, -2.1474e-01,\n",
      "         -4.4077e-01,  1.6326e-01, -6.8549e-02, -1.7402e-01,  1.4620e-03,\n",
      "          1.3220e-01, -6.2880e-02,  6.6230e-02,  2.4445e-02, -3.5561e-01,\n",
      "          6.5272e-02, -1.7283e-01, -1.2028e-01,  2.0887e-01, -4.4060e-02,\n",
      "         -2.3158e-02, -2.7762e-01, -3.3409e-01,  1.0032e-01, -3.8245e-02,\n",
      "         -9.4155e-02,  1.9373e-01,  8.2377e-02, -2.2841e-01, -1.8404e-02,\n",
      "         -1.7771e-01, -2.1583e-01,  2.5865e-01, -8.1415e-02,  1.9799e-01,\n",
      "          1.6284e-01,  6.7535e-02,  9.0707e-02, -1.3882e-01,  1.1240e-01,\n",
      "         -1.3741e-01,  3.2253e-01,  1.3200e-01,  1.5776e-01,  1.4930e-01,\n",
      "          1.9699e-01,  1.9386e-01,  2.4706e-01, -3.3821e-01, -7.1487e-03,\n",
      "         -3.6904e-02,  2.2630e-01, -2.5904e-01, -1.1304e-01,  3.2621e-02,\n",
      "          1.1676e-01, -8.5071e-02, -9.7724e-02,  2.6201e+00,  3.5740e-01,\n",
      "          6.1580e-02,  8.7536e-02,  1.9949e-01,  2.1309e-02, -6.7416e-02,\n",
      "         -4.2323e-02, -2.5842e-01,  1.4942e-01,  1.3693e-03, -1.0027e-01,\n",
      "         -8.8846e-02,  4.6544e-02,  1.0646e-01,  1.1319e-01, -4.8939e-01,\n",
      "         -1.6404e-01, -2.5717e-01, -1.7775e-02, -3.8158e-01,  2.9362e-01,\n",
      "         -4.3155e-02, -1.2979e-01,  1.4750e-01,  1.7219e-01,  2.2334e-03,\n",
      "         -2.4650e-01, -1.3670e-01, -2.5676e-01, -5.5853e-02, -1.5633e-01,\n",
      "          6.1954e-02,  3.8825e-02, -1.8402e-02, -1.2429e-02, -3.0295e-02,\n",
      "         -3.5391e-01,  8.7260e-02,  1.6267e-01, -1.2726e-01, -2.7156e-01,\n",
      "          2.4551e-01,  1.1723e-01,  1.9571e-01,  4.5360e-01, -1.4554e-01,\n",
      "         -1.3041e-01,  5.0241e-02, -4.4330e-02, -2.3598e-01, -2.8877e-01,\n",
      "         -1.4344e-01,  3.0984e-02, -1.1872e-01, -2.2442e-01,  2.0110e-01,\n",
      "         -2.0499e-02, -2.5313e-01,  2.6843e-01,  1.1837e-01, -8.7653e-02,\n",
      "          2.9459e-01, -2.5925e-01,  6.1530e-02,  9.9996e-02,  5.9919e-02,\n",
      "          1.1539e-01,  1.2530e-01, -1.4984e-01,  8.9669e-03, -1.0687e-01,\n",
      "          1.5728e-01,  9.4941e-02,  1.0493e-01, -1.2376e-01,  3.1883e-02,\n",
      "         -1.3185e-01, -1.5827e-01, -3.8230e+00,  1.7857e-02, -1.2369e-01,\n",
      "          1.0261e-01,  1.9076e-01,  1.9157e-01, -4.1788e-02,  1.3454e-01,\n",
      "          5.1458e-03, -1.5779e-01,  1.3383e-01,  1.7804e-01, -4.6024e-02,\n",
      "          1.1040e-01,  6.8313e-02,  1.8696e-01, -2.8283e-02, -1.7330e-01,\n",
      "         -3.3817e-02, -4.2197e-02, -1.0293e-01, -3.8641e-01, -2.0633e-01,\n",
      "          6.1519e-02, -1.7669e-01,  1.7032e-01, -1.4362e-01, -1.9178e-01,\n",
      "         -7.9938e-03,  2.1846e-01, -1.2991e-01,  1.8742e-01,  2.3052e-01,\n",
      "          1.4120e-01, -1.6868e-01, -3.4245e-03,  5.0009e-03,  1.2559e-02,\n",
      "          2.0255e-01,  1.6734e-01,  7.8651e-02,  1.1289e-01,  1.6241e-01,\n",
      "         -1.9249e-02, -1.4167e-01,  8.9630e-02,  1.7270e-01, -2.1577e-01,\n",
      "          1.8056e-01, -1.8516e-01, -7.8053e-02, -1.3050e-02, -6.8003e-02,\n",
      "         -1.0174e-03,  1.7836e-01, -6.3393e-02, -5.3480e-02,  1.8203e-01,\n",
      "         -7.0314e-02,  8.4976e-02, -5.7165e-02,  3.8742e-02, -4.6066e-02,\n",
      "          9.0089e-02,  1.9576e-01, -1.6154e-01, -1.6709e-02, -2.4862e-01,\n",
      "         -1.5569e-01,  5.5644e-02,  8.5831e-02, -7.9409e-02,  3.4557e-01,\n",
      "         -1.4519e-01,  2.6884e-02,  2.4675e-01,  8.3614e-02,  1.5621e-01,\n",
      "         -1.3155e-01,  7.4867e-02,  8.0849e-02, -2.5587e-01, -5.1039e-02,\n",
      "          8.1339e-02,  8.4993e-02, -9.6005e+00, -2.6034e-01, -3.8590e-01,\n",
      "         -2.1620e-03,  2.8286e-01, -5.2167e-02,  3.2038e-01, -3.7103e-02,\n",
      "          1.7377e-01,  1.0675e-01,  3.6088e-02, -2.8220e-01,  1.2829e-01,\n",
      "         -2.1655e-01,  2.6047e-02,  1.7591e-01]])\n",
      "\n",
      "\n",
      "Mot: man\n",
      "Tokens lisibles: ['[CLS]', 'man', '[SEP]']\n",
      "Tokens: {'input_ids': tensor([[ 101, 2158,  102]]), 'token_type_ids': tensor([[0, 0, 0]]), 'attention_mask': tensor([[1, 1, 1]])}\n",
      "Shape de la sortie du modèle: torch.Size([1, 3, 768])\n",
      "Embedding du token [CLS] avant déconnexion des gradients: tensor([[-2.3660e-01,  3.7461e-01, -2.0114e-02, -2.6100e-02, -5.4918e-02,\n",
      "         -1.4201e-01,  3.0936e-01,  3.0627e-01, -1.3555e-01, -2.7803e-01,\n",
      "         -2.6989e-01,  4.7546e-02, -2.0808e-01,  3.6486e-01,  2.1037e-01,\n",
      "         -4.2409e-02, -1.3817e-01,  4.0752e-01, -3.1029e-03, -2.5070e-01,\n",
      "         -1.0778e-01,  2.3148e-02, -1.5993e-01, -6.4994e-02,  3.6133e-02,\n",
      "         -3.5007e-03, -1.3086e-01, -1.4495e-01,  2.9281e-02,  1.9179e-01,\n",
      "          6.6112e-02,  1.1744e-01, -4.7140e-01,  1.3608e-01, -1.3512e-01,\n",
      "         -5.5543e-02, -5.6450e-02, -8.2470e-02, -1.2418e-01,  1.3634e-01,\n",
      "          9.5244e-02, -2.2100e-01,  1.4163e-01, -1.0859e-01, -1.7549e-01,\n",
      "          5.8997e-03, -1.9142e+00, -2.4420e-01, -2.4810e-01, -3.2752e-01,\n",
      "         -5.0349e-02, -6.9726e-02,  8.2855e-02,  6.6319e-02,  7.8475e-02,\n",
      "          3.5985e-01, -8.2295e-02,  4.7278e-01, -7.3739e-02,  2.1472e-02,\n",
      "          1.3931e-01,  2.2597e-02, -1.4556e-01,  1.5577e-01, -2.4316e-01,\n",
      "          2.4928e-01,  2.0522e-01,  2.3727e-01, -1.9016e-01,  5.3667e-01,\n",
      "         -3.6211e-01, -2.9038e-01,  4.0453e-01,  1.4889e-01,  9.1031e-03,\n",
      "         -3.9476e-01,  6.1005e-02,  1.0402e-01, -1.3312e-01, -2.1679e-01,\n",
      "          1.2352e-01,  1.4580e-01,  1.7693e-01,  2.7008e-01, -6.0453e-02,\n",
      "          8.7066e-02, -2.7643e-02, -3.0639e-01,  1.0639e-02,  5.9247e-01,\n",
      "          1.0302e-01, -3.1875e-02,  1.1940e-01,  1.2164e-01,  2.1385e-01,\n",
      "         -2.5790e-01,  1.5954e-01,  2.8035e-02,  1.4248e-02, -2.0627e-01,\n",
      "         -3.5414e-01, -1.5091e-01,  1.3225e-01, -1.9746e-01,  6.1528e-02,\n",
      "          2.5405e-01, -1.5521e-01, -1.0669e-01, -5.8761e-02, -3.0495e+00,\n",
      "          2.2845e-01, -1.2237e-02, -2.4653e-01,  3.7887e-03, -3.1054e-02,\n",
      "          5.0556e-01,  2.1286e-01,  6.7763e-02, -2.4215e-02,  1.0188e-01,\n",
      "         -9.7908e-02,  4.3704e-01, -1.2920e-01, -7.3431e-02,  3.5334e-01,\n",
      "          2.7948e-01,  3.1566e-01, -1.3970e-01,  4.3264e-02,  1.6649e-01,\n",
      "         -7.3830e-02,  3.0203e-01,  8.2459e-02, -1.3021e-01, -2.1297e-01,\n",
      "         -1.2020e-01,  3.1573e-01, -7.4904e-02, -1.2011e-01, -2.4974e-01,\n",
      "         -5.6262e-02, -1.7543e-02, -3.4644e+00,  3.8984e-01,  4.7353e-01,\n",
      "         -3.7374e-01, -4.2208e-02,  4.5185e-02,  2.3956e-01,  2.0558e-01,\n",
      "         -8.3496e-02, -1.7564e-01, -1.8773e-03,  1.5190e-01, -2.5194e-01,\n",
      "         -2.3357e-01,  4.6323e-02,  4.8637e-02,  1.0289e-01,  4.2413e-01,\n",
      "          3.4374e-02, -1.0956e-01,  2.5561e-01, -3.4106e-01,  9.8751e-02,\n",
      "         -4.9854e-01,  3.0128e-01,  3.4744e-01,  4.3502e-02,  2.2111e-02,\n",
      "         -3.4273e-01, -3.5328e-01,  3.4114e-01,  4.4540e-01,  1.2634e-01,\n",
      "         -3.5515e-01,  2.6163e-01,  3.1986e-01,  3.0580e-01, -1.1345e-01,\n",
      "         -2.2502e-01,  5.3690e-01, -1.0841e-01, -5.4853e-02,  2.7606e-01,\n",
      "         -2.1502e-01,  2.3231e-01, -2.5222e-01,  4.5987e-02,  1.1123e-01,\n",
      "         -1.8566e-01,  1.7864e-01,  3.8575e-01,  1.1390e-01,  3.4831e-01,\n",
      "          3.9386e-02, -5.3766e-02, -3.8731e-01,  2.7139e-01,  3.3656e-01,\n",
      "          5.9475e-02, -9.8059e-02,  1.4146e-01, -2.0032e-01,  1.9857e-01,\n",
      "          4.3188e+00,  1.1313e-01, -1.5166e-01,  2.9220e-01,  9.6349e-02,\n",
      "         -1.9211e-02,  5.8373e-01,  1.1164e-01, -2.1058e-01,  1.5821e-01,\n",
      "         -2.0030e-01,  3.9086e-01,  6.1267e-02, -2.9171e-01,  5.3208e-02,\n",
      "          4.2371e-01,  1.6656e-03, -1.8903e-02,  2.4785e-01, -2.6185e-01,\n",
      "          1.3357e-01,  1.3148e-01, -1.4478e-01, -1.7862e-01, -6.9742e-01,\n",
      "          1.1167e-01, -1.7943e-01, -3.3314e-01,  4.1423e-01, -2.5818e-01,\n",
      "          9.8095e-02,  1.7051e-01, -1.6698e-01, -5.0734e-02,  1.3525e-01,\n",
      "         -7.4297e-03,  3.6286e-01,  1.4575e-01,  1.8027e-01, -4.5029e-01,\n",
      "          1.3075e-01,  5.7655e-01, -1.3684e-01,  2.6405e-01,  1.9971e-02,\n",
      "          1.1187e-01, -2.2379e-01,  3.0692e-02, -2.0987e-01, -1.2030e-01,\n",
      "         -2.3547e-01,  9.1070e-02, -4.2140e-02, -2.5302e-01, -5.5713e-02,\n",
      "         -2.8946e-01, -1.5548e-01,  2.0598e-01, -2.1581e-01, -2.5173e-01,\n",
      "         -9.2101e-02,  1.9720e-01, -1.3505e-01,  3.5454e-02, -3.2836e-03,\n",
      "          2.9599e-01, -3.6420e-02,  1.4485e-01, -4.6301e+00,  1.2999e-01,\n",
      "          2.5490e-01,  3.6731e-01,  2.8190e-01, -1.5140e-02, -1.7444e-01,\n",
      "          3.4449e-01,  1.6483e-01, -1.0301e-01,  2.0784e-01,  2.9175e-02,\n",
      "         -2.0285e-01,  4.7514e-01, -3.4036e-01,  2.9917e-01,  3.3357e-02,\n",
      "          1.0287e-03, -2.1548e-02, -8.6138e-02,  4.9901e-02,  5.8268e-01,\n",
      "         -1.5101e-01,  1.7643e-03,  2.4220e-01, -3.9155e-02, -1.4296e-01,\n",
      "         -1.8697e-01,  2.7707e-01, -2.4919e-01, -6.5287e-02, -1.5330e-01,\n",
      "         -6.1086e-02,  6.2328e-02, -3.1627e-01, -2.1195e+00,  9.7814e-02,\n",
      "          3.9490e-02, -2.6953e-01,  2.3316e-01, -2.6266e-01,  2.9270e-01,\n",
      "          1.2444e-01, -1.7167e-01,  2.8312e-01,  4.2522e-02,  5.0493e-03,\n",
      "         -4.1340e-02,  1.1985e-01,  5.6445e-02, -2.2619e-01,  2.1046e-01,\n",
      "          2.7415e-01, -1.1342e-01,  7.8868e-02,  2.0750e-01,  3.1291e-01,\n",
      "          1.6199e-01, -1.5298e-01,  5.6953e-02,  4.0091e-01, -2.3267e-01,\n",
      "         -1.2410e-01, -2.0372e-01, -1.2048e-01, -7.6430e-02,  1.0206e-01,\n",
      "          4.5812e-02, -1.0942e-01,  1.2027e-02, -1.0874e-01,  6.5717e-01,\n",
      "          9.7814e-02,  6.3616e-01,  5.5654e-03,  2.4609e-01,  3.6345e-01,\n",
      "          1.5130e-01,  3.5913e-01,  3.6846e-01,  1.1572e-01, -2.2693e-01,\n",
      "         -2.3801e-01,  1.0608e-01,  1.3191e-01, -7.5914e-02, -6.8781e-02,\n",
      "          9.1736e-01, -2.1986e-01,  5.1884e-01,  9.8862e-02,  1.8822e-01,\n",
      "          1.0141e-01,  2.9613e-01, -3.5386e-02,  5.0496e-01,  1.3187e-01,\n",
      "          3.5640e-01,  7.1844e-02, -2.8562e-01, -2.3819e-01,  3.1112e-02,\n",
      "         -3.0146e-01, -1.5609e-01,  3.5700e-01,  1.8590e-01,  1.6457e-01,\n",
      "         -5.3586e-02, -4.6552e-01, -2.5121e-01,  1.5675e-01, -3.1292e-01,\n",
      "          3.4157e-01,  4.1932e-01, -2.0517e-01,  2.9810e-02, -2.4116e-01,\n",
      "          2.1775e-01,  3.8485e-01, -2.2356e-01,  2.7727e-01,  2.2993e-01,\n",
      "         -3.0758e-02, -2.7727e-01,  6.2940e-03, -3.9275e-01,  3.0574e-01,\n",
      "         -9.3728e-02,  1.6836e-02,  8.1297e-02,  1.5070e-01,  2.2635e-01,\n",
      "         -7.9745e-01,  2.3254e-01, -5.9663e-03, -2.6702e-01, -4.0302e-01,\n",
      "         -3.0064e-01,  8.0394e-02, -3.9932e-01, -1.9626e-01, -3.4754e-01,\n",
      "          1.3924e-01, -7.2570e-02,  1.9924e-01,  1.5037e-01,  3.1892e-01,\n",
      "          5.7782e-02,  1.1392e-01,  6.3916e-01,  1.2922e-01, -1.3483e-01,\n",
      "          3.2779e-01, -2.5134e-02,  3.5908e-01,  3.1385e-01, -9.2713e-02,\n",
      "          7.6852e-02, -2.2834e-02, -4.2847e-02,  8.1812e-02,  1.0831e-01,\n",
      "         -4.6041e-01, -2.8016e-01, -2.2317e-01,  4.0376e-02, -2.2374e-01,\n",
      "          9.7041e-02, -6.1462e-01, -2.9231e-01, -9.0795e-02, -2.3571e-01,\n",
      "          4.1094e-01, -1.7191e-02,  2.2967e-01,  1.8933e-01,  7.7209e-02,\n",
      "         -4.4304e-01,  4.9240e-01, -7.8531e-02,  4.5071e-01, -1.9719e-01,\n",
      "         -5.6237e-02, -3.5108e-02,  5.4127e-01, -6.3049e-03, -5.5795e-01,\n",
      "          4.0256e-01, -1.0300e-01,  1.9780e-01,  7.9804e-03, -1.0016e-01,\n",
      "          9.6426e-03, -8.6739e-03,  3.4689e-02, -1.6435e-01,  4.1780e-02,\n",
      "         -1.1376e+00,  2.3676e-01,  1.7081e-01, -9.9028e-02,  2.4444e-01,\n",
      "          2.6730e-02, -3.6268e-01,  4.0438e-01,  2.3801e-01, -1.7159e-01,\n",
      "         -4.9984e-02,  8.4844e-02,  1.6808e-02,  3.5279e-02, -3.0429e-01,\n",
      "         -2.2980e-01,  3.8584e-01, -4.0735e-02,  4.0461e-02,  1.7349e-01,\n",
      "         -4.3778e-02,  1.3633e-01,  1.0490e-01, -3.4519e-01, -1.7049e-02,\n",
      "         -3.1753e-01,  3.4316e-02,  5.7419e-01, -7.8087e-02,  1.8371e-01,\n",
      "         -2.7482e-02, -4.1886e-01, -3.6302e-01, -3.4002e-02,  1.0103e-02,\n",
      "          1.8596e-01, -5.7068e-02,  6.2426e-02,  4.5723e-01, -5.7615e-02,\n",
      "         -2.4503e-01,  1.8707e-01,  2.3845e-02, -1.8807e-01,  2.5079e-01,\n",
      "          2.2338e-01, -2.3468e-01,  1.4092e-01,  3.9785e-01, -2.6500e-01,\n",
      "         -1.2921e-01, -2.3734e-02, -2.2017e-01, -1.4650e-01,  1.4180e-01,\n",
      "          6.1729e-02, -5.7926e-02, -1.3092e-01, -1.8180e-01, -2.5380e-01,\n",
      "          1.0604e-01, -7.2318e-02, -1.8824e-02,  3.5210e-01, -2.5157e-01,\n",
      "         -4.2632e-01,  2.0267e-01, -2.1062e-01, -8.5590e-02,  1.3634e-01,\n",
      "          1.8785e-01, -8.6908e-03,  1.6862e-01,  2.0644e-01, -3.2876e-01,\n",
      "          2.5345e-01, -2.5759e-01, -2.5918e-01,  1.9892e-01, -1.1065e-01,\n",
      "         -6.6617e-02, -3.0485e-01, -2.7823e-01,  2.8660e-01, -6.3653e-02,\n",
      "          2.6963e-02,  6.1621e-02,  6.2787e-02, -3.1588e-01, -1.5723e-02,\n",
      "         -2.8859e-01, -1.9362e-01,  2.3306e-01, -2.8924e-01,  2.7652e-01,\n",
      "          2.5049e-01,  6.5904e-02,  7.5829e-02, -1.9037e-01,  1.0908e-01,\n",
      "         -2.4899e-01,  3.8208e-01,  1.9972e-01,  1.8693e-01,  1.7429e-01,\n",
      "          1.1697e-01,  2.6462e-01,  3.1458e-01, -4.7349e-01, -8.9476e-02,\n",
      "          9.1829e-02,  3.1093e-01, -3.4952e-01, -3.1254e-01,  1.8200e-02,\n",
      "          7.8363e-02, -5.6651e-02, -1.8784e-01,  2.3704e+00,  4.1948e-01,\n",
      "          1.1400e-01,  1.4193e-01,  2.6258e-01,  2.2453e-02,  1.2649e-01,\n",
      "          6.3051e-02, -2.8556e-01,  2.0544e-01, -6.7550e-02,  1.1286e-01,\n",
      "         -1.7057e-01,  1.5149e-01,  2.1148e-01,  1.1409e-01, -4.6936e-01,\n",
      "         -2.7977e-01, -4.5683e-01, -8.9470e-02, -2.9466e-01,  2.0923e-01,\n",
      "          5.3521e-02, -6.2368e-02,  2.0701e-01,  2.3258e-01,  4.8512e-02,\n",
      "         -2.3687e-01, -1.3026e-01, -2.2663e-01, -2.2162e-01, -2.2128e-01,\n",
      "          4.0406e-02,  3.3589e-02, -2.3625e-01,  1.0895e-01,  6.9588e-02,\n",
      "         -3.7288e-01,  2.0268e-01,  2.1069e-01, -1.3566e-01, -3.9074e-01,\n",
      "          5.3456e-01,  2.6087e-01,  1.1134e-01,  5.2197e-01, -1.8018e-01,\n",
      "         -3.9542e-02,  2.7242e-01, -1.8585e-01, -2.5412e-01, -3.9923e-01,\n",
      "         -3.0383e-01,  9.1094e-02, -3.4290e-01, -3.8054e-01,  2.6918e-01,\n",
      "          1.0566e-01, -3.7524e-01,  2.4145e-01,  6.5554e-02, -1.1811e-01,\n",
      "          3.3734e-01, -3.3406e-01, -3.6872e-02, -1.5651e-02,  1.3867e-01,\n",
      "          8.9470e-02,  1.0366e-01, -1.7739e-01, -7.5922e-02,  6.4770e-02,\n",
      "         -7.3110e-03,  9.4348e-02,  1.7625e-01, -5.6636e-02, -1.1727e-01,\n",
      "          1.0388e-02, -2.9240e-01, -3.5316e+00,  1.7586e-01,  1.4998e-02,\n",
      "          2.2676e-01,  1.9343e-01,  2.1154e-01,  2.1656e-01,  1.3174e-01,\n",
      "         -3.1472e-02, -3.0998e-01,  1.3624e-01,  6.0401e-02,  2.0238e-02,\n",
      "          2.3421e-01,  1.6846e-01,  1.3975e-01,  3.7196e-02, -1.1769e-01,\n",
      "         -8.9200e-03, -1.0193e-01, -4.5743e-02, -4.4406e-01, -2.1605e-02,\n",
      "          4.9789e-02, -1.9706e-01,  3.9192e-01, -1.2472e-01, -1.4399e-01,\n",
      "          2.0100e-01,  3.8964e-01, -7.4928e-02,  2.4214e-01,  2.8186e-01,\n",
      "         -2.1549e-02, -2.8421e-01,  5.4109e-02, -1.7327e-01,  1.4690e-01,\n",
      "          2.0919e-01,  2.7170e-02,  3.7861e-02,  4.6004e-01,  1.5999e-01,\n",
      "          2.2661e-02, -8.3131e-02,  4.0887e-02,  2.6465e-01, -2.6231e-01,\n",
      "          3.1978e-01, -8.3319e-03, -2.1996e-01, -5.8632e-02,  8.0039e-02,\n",
      "          3.6848e-03,  1.6443e-01, -1.3882e-01, -1.4441e-01,  2.7308e-01,\n",
      "         -4.5296e-02,  1.0424e-02,  1.8083e-02,  4.1687e-02,  7.4639e-04,\n",
      "         -3.1478e-02,  4.8853e-01, -2.8612e-01, -2.7202e-02, -1.7409e-01,\n",
      "         -7.7787e-02, -1.3299e-01,  1.2850e-01, -1.4739e-01,  4.5313e-01,\n",
      "         -2.7913e-01,  6.8776e-02,  3.0693e-01,  2.5001e-01, -7.0619e-02,\n",
      "         -3.1724e-01, -1.3361e-01,  1.1585e-01, -8.9596e-02,  3.4551e-02,\n",
      "         -1.2090e-01,  3.9326e-02, -8.9820e+00, -2.1371e-01, -3.3791e-01,\n",
      "         -3.3878e-02,  2.2705e-01, -1.4408e-01,  4.1909e-01,  1.7121e-02,\n",
      "          2.6839e-01,  8.9800e-02, -4.8288e-02, -2.4260e-01,  1.7703e-01,\n",
      "         -1.5599e-01,  3.5285e-02,  3.1483e-01]])\n",
      "\n",
      "\n",
      "Mot: queen\n",
      "Tokens lisibles: ['[CLS]', 'queen', '[SEP]']\n",
      "Tokens: {'input_ids': tensor([[ 101, 3035,  102]]), 'token_type_ids': tensor([[0, 0, 0]]), 'attention_mask': tensor([[1, 1, 1]])}\n",
      "Shape de la sortie du modèle: torch.Size([1, 3, 768])\n",
      "Embedding du token [CLS] avant déconnexion des gradients: tensor([[-3.7435e-01,  2.1751e-01,  1.1769e-01, -6.3412e-02, -1.1013e-02,\n",
      "         -1.0003e-01,  2.8239e-01,  2.0977e-01, -2.3134e-01, -5.5586e-02,\n",
      "         -2.0704e-01,  5.6137e-03,  6.2911e-02,  2.2115e-01,  3.4385e-01,\n",
      "         -1.6735e-02, -1.5347e-01,  1.6356e-01,  3.3345e-01, -3.1342e-01,\n",
      "         -6.6676e-02, -1.2022e-01, -1.4283e-01, -1.2812e-01,  1.2271e-01,\n",
      "         -2.9733e-02,  3.1646e-02,  5.0622e-02,  2.9678e-02,  1.3784e-01,\n",
      "          4.3282e-02,  2.9328e-01, -2.6111e-01,  2.1405e-01,  2.8780e-03,\n",
      "         -2.9560e-02, -8.9507e-04,  2.8801e-02, -2.3513e-01,  1.6614e-02,\n",
      "          8.4739e-02, -1.3212e-02,  1.7639e-01, -1.5065e-01, -1.3175e-01,\n",
      "         -3.1956e-01, -1.5957e+00,  3.6972e-02,  1.1497e-01, -2.6111e-01,\n",
      "          1.7160e-01,  1.4415e-01,  1.7646e-01,  1.2773e-01,  3.1217e-02,\n",
      "          2.8625e-01, -3.5615e-01,  6.3169e-01,  4.9040e-02, -2.7168e-02,\n",
      "          9.2331e-02, -1.2078e-01, -1.3427e-01,  1.6723e-01, -1.9233e-02,\n",
      "          1.4949e-01,  1.6263e-01,  3.4469e-02, -2.0952e-01,  2.7098e-01,\n",
      "         -2.7772e-01, -1.4092e-01,  3.4746e-01,  1.2556e-01, -5.7107e-02,\n",
      "         -2.0624e-01, -8.2754e-03, -7.2279e-02, -1.6077e-02, -7.3517e-02,\n",
      "          2.2210e-01,  1.2978e-01, -5.1740e-02,  3.8005e-01,  1.4165e-01,\n",
      "          1.1864e-01, -1.4651e-01, -2.1657e-01, -2.4333e-03,  3.9697e-01,\n",
      "          1.3612e-02,  1.1505e-01,  1.0190e-01,  2.8721e-01,  1.0402e-01,\n",
      "         -3.9960e-01,  1.5135e-01, -8.7784e-02, -1.5800e-02, -1.2309e-02,\n",
      "         -4.1690e-01, -6.3022e-02, -1.6548e-02, -2.6363e-01, -2.8005e-01,\n",
      "          1.5778e-01, -1.4849e-01, -3.0901e-02, -6.4296e-02, -2.9724e+00,\n",
      "          2.4825e-01,  6.1334e-02,  1.3269e-02, -3.7578e-02,  1.1151e-01,\n",
      "          5.4325e-01,  1.1384e-01,  2.9905e-02, -2.8702e-02,  9.8536e-02,\n",
      "          1.4255e-02,  4.3688e-01, -1.0510e-02,  4.0523e-02,  2.0023e-01,\n",
      "          3.3007e-01,  1.9753e-01, -8.1557e-02,  1.7349e-01,  8.8248e-02,\n",
      "         -1.6681e-01,  2.6354e-01,  1.9324e-01, -1.7164e-02, -9.1040e-02,\n",
      "         -9.9262e-02,  3.6918e-01, -1.0560e-01,  1.4782e-01, -3.8276e-02,\n",
      "         -4.2621e-01, -1.1500e-01, -3.4409e+00,  1.3805e-01,  5.5136e-01,\n",
      "         -2.8293e-01, -6.8276e-02,  1.9969e-01,  1.7542e-01,  2.4908e-01,\n",
      "         -2.3246e-01,  2.2860e-03, -7.7397e-02,  5.9356e-02, -3.8428e-01,\n",
      "         -2.0193e-01, -1.0299e-01, -7.7183e-02,  6.7467e-02,  4.3309e-01,\n",
      "         -3.9354e-02,  1.3393e-01,  5.4195e-02, -2.9234e-01, -7.4794e-02,\n",
      "         -1.6863e-01,  2.0528e-01,  2.2617e-01,  4.4724e-01,  1.4253e-02,\n",
      "         -3.8980e-01, -1.1228e-01,  1.5080e-01,  3.3516e-01,  2.7526e-01,\n",
      "         -8.5314e-02,  2.3722e-01, -1.4452e-03, -1.4841e-01, -2.2858e-01,\n",
      "          3.7189e-02,  4.4513e-01, -7.7320e-02,  9.2822e-02,  2.7968e-01,\n",
      "          8.2094e-03,  2.4956e-01, -2.6798e-01,  1.3958e-01,  7.1633e-02,\n",
      "          5.2912e-03,  1.6355e-01,  1.6309e-02,  4.6544e-02,  2.0081e-01,\n",
      "          3.1535e-02,  2.5269e-01, -3.8417e-01,  4.0861e-01,  3.6037e-01,\n",
      "          9.0322e-02,  3.7593e-02,  1.6183e-01, -8.4892e-02,  4.8192e-02,\n",
      "          3.9812e+00, -1.0297e-02, -3.1658e-01,  2.0847e-01,  1.5143e-01,\n",
      "         -5.4714e-02,  3.1278e-01,  1.8662e-01, -1.8466e-02,  1.9104e-01,\n",
      "         -1.3711e-01,  4.5837e-01,  3.0651e-02,  2.7959e-02, -1.7074e-02,\n",
      "          3.1547e-01,  1.7770e-01, -2.2477e-01,  7.9168e-02, -3.0201e-01,\n",
      "          1.2741e-01,  8.5022e-02, -9.6103e-02, -3.3101e-01, -6.2218e-01,\n",
      "         -1.0770e-01, -3.6396e-01, -1.3880e-01,  2.8322e-01, -2.5725e-01,\n",
      "          1.8271e-01, -1.3945e-01, -1.0707e-01,  5.8069e-02,  3.5933e-02,\n",
      "          1.3017e-01,  1.8485e-01,  3.7029e-01,  1.5043e-01, -3.3516e-01,\n",
      "          2.6280e-01,  3.0349e-01, -2.6547e-02,  1.4016e-01, -1.8563e-01,\n",
      "          2.5792e-01, -3.6022e-01, -8.5296e-02, -3.0178e-01, -2.3135e-01,\n",
      "         -2.1768e-01, -8.5488e-02,  1.4764e-01, -1.3271e-01,  6.4819e-02,\n",
      "         -4.3922e-02,  3.0001e-02,  2.3813e-01, -3.7619e-02, -2.1243e-02,\n",
      "          2.2060e-02,  1.7311e-01, -2.9401e-01,  8.5274e-02,  7.5556e-02,\n",
      "          1.2238e-02, -5.5562e-02, -6.8532e-03, -5.0526e+00,  1.5567e-01,\n",
      "          1.7439e-01,  4.0645e-01,  5.7374e-01, -5.9244e-02, -1.4892e-02,\n",
      "          4.0690e-01,  1.6952e-01, -2.0185e-01,  9.9281e-02, -1.0613e-01,\n",
      "         -1.9732e-01,  3.2781e-01, -3.2273e-01,  6.1226e-03, -4.1077e-02,\n",
      "          1.4403e-01, -1.3015e-02, -2.7089e-02,  1.4705e-01,  3.7087e-01,\n",
      "         -1.9313e-01,  5.2020e-02,  2.4275e-01, -8.6134e-02,  4.6268e-02,\n",
      "         -5.5476e-02,  2.7511e-01, -4.1922e-01, -1.2118e-01,  2.3019e-01,\n",
      "         -7.0507e-02, -3.9397e-02, -4.6632e-02, -1.8623e+00, -1.4534e-02,\n",
      "          1.7476e-01, -1.7201e-01,  1.2513e-01, -1.5062e-01,  2.1890e-01,\n",
      "          4.6928e-02,  3.0932e-04,  3.1310e-01,  4.0702e-03,  7.0563e-02,\n",
      "         -7.6154e-02,  3.5023e-02,  8.2068e-02, -4.7257e-02, -8.1770e-03,\n",
      "          7.8134e-02, -7.7715e-02,  4.5569e-03,  2.2072e-01, -8.4951e-03,\n",
      "         -6.8977e-02,  5.9932e-02, -4.0716e-02,  3.2667e-01, -2.5936e-01,\n",
      "         -3.0982e-01, -2.8694e-01, -1.2237e-01, -1.7643e-01, -3.9965e-02,\n",
      "          5.1711e-02, -1.4279e-01, -5.7421e-02, -7.5923e-02,  4.4995e-01,\n",
      "          1.6008e-01,  4.3104e-01,  2.1236e-01,  2.5017e-01,  1.5868e-01,\n",
      "          2.0395e-01,  2.4975e-01,  2.3758e-01, -5.2024e-02, -2.9646e-01,\n",
      "         -2.2520e-01, -1.3120e-01, -6.6011e-02, -1.9431e-01, -8.9350e-02,\n",
      "          8.6186e-01, -1.6973e-01,  1.7139e-01, -1.5455e-02,  1.8122e-01,\n",
      "          2.4433e-01,  2.0821e-01,  3.3136e-02,  4.3900e-01,  3.7328e-02,\n",
      "          2.0665e-01,  4.2123e-02,  7.8730e-02, -2.7397e-01,  8.1297e-02,\n",
      "         -1.4330e-01, -3.4152e-02,  1.0690e-01, -6.3468e-02,  4.1396e-02,\n",
      "          3.3056e-02, -5.8495e-01, -2.9589e-01,  2.0269e-01, -1.8081e-01,\n",
      "          1.4190e-01,  4.3286e-01, -3.4048e-01, -8.1489e-02, -5.2275e-02,\n",
      "          2.0190e-01,  2.9671e-01, -1.9018e-01,  1.1782e-01, -1.2478e-02,\n",
      "         -5.4619e-02, -3.0015e-01,  1.8213e-01, -2.1463e-01,  2.6804e-01,\n",
      "         -2.9553e-01,  1.9864e-01, -1.5615e-01,  8.6086e-02,  2.7306e-01,\n",
      "         -7.4974e-01,  7.4086e-02, -6.9526e-02, -2.3156e-01, -1.7772e-01,\n",
      "         -4.0781e-02,  9.0155e-02, -3.1608e-01, -2.6746e-02, -1.8388e-01,\n",
      "          8.3555e-02, -1.7320e-01,  6.5953e-02,  2.0646e-01,  1.3146e-03,\n",
      "          7.7670e-02,  1.7552e-01,  7.5571e-01,  2.0787e-01, -1.6579e-01,\n",
      "          2.4349e-01,  2.0651e-02,  2.9034e-01, -1.0214e-01,  7.0878e-02,\n",
      "          1.7181e-01,  1.4427e-01,  6.2957e-03,  1.8391e-01,  2.3550e-01,\n",
      "         -4.3451e-01, -3.9186e-01, -1.3172e-01, -5.0667e-02, -4.8964e-01,\n",
      "         -1.0913e-01, -6.6476e-01, -1.7255e-01, -8.1992e-02, -2.7673e-01,\n",
      "          1.5742e-01,  2.2497e-01,  1.7482e-01,  5.7744e-02,  1.3544e-02,\n",
      "         -2.9424e-01,  5.5298e-01,  7.3721e-02,  3.0381e-01,  5.3247e-02,\n",
      "         -9.5774e-02,  1.2535e-01,  4.8564e-01,  3.0853e-02, -3.2404e-01,\n",
      "          2.4629e-01, -8.7985e-02, -2.9103e-02, -6.3956e-02,  1.2865e-01,\n",
      "          8.5057e-03,  2.3905e-01,  2.9430e-01, -2.1141e-01, -6.9248e-02,\n",
      "         -9.0180e-01,  3.9562e-01,  1.1543e-01, -1.1980e-01,  1.7398e-01,\n",
      "         -6.4014e-02, -3.3511e-01,  2.8028e-01,  5.6536e-02,  2.1960e-02,\n",
      "         -1.8499e-01,  1.3038e-01, -1.2650e-03, -4.7610e-02, -1.7127e-01,\n",
      "         -8.8612e-03,  4.1088e-01, -1.7860e-01, -1.2645e-01,  4.1463e-02,\n",
      "         -1.0966e-01,  2.5697e-01, -1.2772e-02, -1.3586e-01,  8.8104e-02,\n",
      "         -1.8418e-01,  2.8396e-02,  5.1104e-01, -1.0656e-01, -1.9252e-01,\n",
      "          3.0061e-02, -3.2294e-01, -3.2572e-01, -7.2744e-02, -3.4038e-02,\n",
      "          1.9100e-02,  3.4723e-02,  1.9293e-01,  2.7818e-01, -3.0722e-02,\n",
      "         -1.4704e-01,  1.2008e-01, -2.4795e-02, -1.7257e-01,  1.9651e-01,\n",
      "          2.7656e-01, -3.1635e-02,  1.7340e-01,  3.6083e-01, -2.3816e-01,\n",
      "         -4.4210e-02,  2.1562e-01, -1.5164e-01, -5.6604e-02,  1.1280e-01,\n",
      "          8.0734e-02,  1.1221e-01, -2.5268e-01, -1.4593e-01, -3.4079e-01,\n",
      "          9.1120e-02, -7.9405e-02,  2.5762e-02,  3.8492e-01, -2.9410e-01,\n",
      "         -3.9614e-01,  2.9010e-01, -2.4625e-01, -5.9259e-02,  1.7107e-01,\n",
      "          2.2647e-01, -3.0987e-02,  2.6710e-02,  1.0783e-02, -3.2956e-01,\n",
      "          6.3076e-02, -4.0711e-02, -2.0557e-01,  1.4098e-01, -2.0889e-01,\n",
      "         -6.9099e-02, -3.5783e-01, -3.0846e-01,  1.2119e-01, -1.8260e-01,\n",
      "          1.1918e-01,  3.8894e-01,  1.5159e-01, -2.4565e-01,  9.6849e-02,\n",
      "         -1.0113e-01, -1.5752e-01,  4.2121e-01, -2.3318e-01,  2.3435e-01,\n",
      "          8.3030e-02,  1.5733e-01,  6.6520e-02, -2.0083e-01,  2.3099e-01,\n",
      "         -1.8392e-01,  2.7594e-01, -7.8331e-03,  3.2426e-03,  1.3961e-01,\n",
      "          6.8947e-02,  3.4033e-01,  2.0905e-01, -2.9601e-01, -2.4052e-01,\n",
      "         -1.1863e-01,  4.0178e-01, -2.9451e-01, -1.5032e-01, -3.8464e-02,\n",
      "          1.6700e-01,  1.0040e-01,  2.6482e-02,  2.6198e+00,  4.7171e-01,\n",
      "          1.0653e-01,  1.0939e-01,  2.7353e-01,  2.6739e-03, -7.3169e-03,\n",
      "         -1.5315e-01, -1.0120e-01,  1.6842e-01, -8.4752e-02,  1.8074e-01,\n",
      "         -5.8794e-02,  1.3385e-01,  1.9966e-01,  1.6154e-01, -3.1921e-01,\n",
      "         -3.2069e-01, -2.1761e-01, -1.2764e-01, -1.9692e-01,  9.4818e-02,\n",
      "         -9.1821e-02, -8.2192e-02,  2.6016e-02,  1.2159e-01,  1.4660e-01,\n",
      "         -8.6213e-02, -7.2553e-02, -1.4395e-01, -7.7714e-02, -8.8519e-02,\n",
      "          1.3583e-01, -2.3292e-02, -3.0710e-02,  6.9351e-02,  5.3478e-02,\n",
      "         -4.7881e-01, -6.0218e-02,  1.6318e-01,  3.8774e-03, -2.6423e-01,\n",
      "          2.3652e-01,  2.6222e-01,  1.4191e-01,  3.1225e-01, -1.4131e-01,\n",
      "         -1.4968e-01,  9.4964e-02,  7.2232e-02, -3.2008e-01, -2.1524e-01,\n",
      "         -3.8236e-01,  1.5229e-01, -2.9137e-01, -1.9698e-01,  2.2612e-01,\n",
      "         -7.9329e-02, -3.8698e-02,  2.5606e-01,  1.4852e-01, -2.4362e-02,\n",
      "          2.5030e-01, -4.3934e-01,  1.5845e-03,  1.8222e-01, -2.2943e-02,\n",
      "          1.2516e-01, -7.7007e-03,  4.5520e-02, -7.9979e-02, -5.1005e-02,\n",
      "          1.0619e-01, -1.5042e-01,  2.1634e-01, -1.6700e-01,  7.4261e-02,\n",
      "         -2.0873e-01, -2.5611e-01, -3.6779e+00, -1.3373e-02, -1.3607e-01,\n",
      "          2.4613e-01,  1.0424e-01,  2.4157e-01,  3.2627e-02,  3.1535e-01,\n",
      "         -3.7126e-02, -1.4399e-02, -7.5438e-03,  3.7964e-01, -4.2748e-02,\n",
      "          3.7921e-02,  7.5263e-02, -8.0379e-02, -1.1543e-01, -2.6279e-01,\n",
      "          3.0086e-02,  7.5593e-02, -1.8774e-01, -1.9252e-01, -1.2899e-01,\n",
      "          7.0200e-03, -2.0144e-01,  2.8942e-01, -2.9278e-02, -2.4169e-01,\n",
      "         -5.6380e-03,  3.1865e-01, -3.8233e-03,  3.3868e-01,  1.0921e-01,\n",
      "          1.4198e-01, -2.4483e-01,  8.7103e-02,  2.6781e-01,  2.0963e-01,\n",
      "          1.6669e-01,  1.2051e-01,  2.0748e-01,  2.7277e-01,  3.4821e-01,\n",
      "          9.9255e-02, -3.4892e-01,  1.2956e-01,  2.8153e-01, -4.2117e-02,\n",
      "          3.1677e-01, -6.6833e-02, -2.9767e-01, -1.2944e-02, -2.2093e-01,\n",
      "          7.3508e-02,  2.9624e-01, -2.3872e-01,  4.0749e-02,  9.0001e-02,\n",
      "          4.8094e-02, -2.7399e-02,  7.2651e-02,  7.2352e-02, -1.2490e-01,\n",
      "          6.7957e-02,  2.6609e-01, -1.5495e-01,  1.0028e-01, -3.3347e-01,\n",
      "          1.8884e-02,  1.0975e-01,  8.2298e-02, -3.4916e-02,  4.3076e-01,\n",
      "         -6.6123e-02,  3.7468e-02,  4.3475e-01,  1.7654e-01,  1.1403e-01,\n",
      "         -1.7173e-01, -3.5404e-02,  4.3078e-02, -4.3780e-01, -8.6884e-03,\n",
      "          3.0163e-01, -5.6622e-02, -9.3727e+00, -1.6369e-01, -3.0014e-01,\n",
      "         -4.8770e-02,  2.4342e-01, -1.8033e-01,  2.2749e-01,  5.0890e-02,\n",
      "         -9.2602e-03,  1.2202e-01,  1.2461e-01, -2.4335e-01,  7.9098e-02,\n",
      "         -2.4881e-01, -1.9727e-02,  7.3254e-02]])\n",
      "\n",
      "\n",
      "Produit scalaire (Dot Product) sans diagonale :\n",
      "              king       woman         man       queen\n",
      "king          NaN  204.117737  199.839462  205.032547\n",
      "woman  204.117737         NaN  205.744278  205.684265\n",
      "man    199.839462  205.744278         NaN  202.075287\n",
      "queen  205.032547  205.684265  202.075287         NaN\n",
      "\n",
      "Similarité cosinus (Cosine Similarity) sans diagonale :\n",
      "            king     woman       man     queen\n",
      "king        NaN  0.974298  0.956771  0.982673\n",
      "woman  0.974298       NaN  0.975454  0.976202\n",
      "man    0.956771  0.975454       NaN  0.961983\n",
      "queen  0.982673  0.976202  0.961983       NaN\n",
      "\n",
      "Dot Product - Les mots les plus éloignés : king et man avec un produit scalaire de 199.83946228027344\n",
      "Dot Product - Les mots les plus proches : woman et man avec un produit scalaire de 205.74427795410156\n",
      "\n",
      "Cosine Similarity - Les mots les plus éloignés : king et man avec une similarité cosinus de 0.956770658493042\n",
      "Cosine Similarity - Les mots les plus proches : king et queen avec une similarité cosinus de 0.9826734662055969\n"
     ]
    },
    {
     "data": {
      "application/vnd.plotly.v1+json": {
       "config": {
        "plotlyServerURL": "https://plot.ly"
       },
       "data": [
        {
         "hovertemplate": "x=%{x}<br>y=%{y}<br>z=%{z}<br>word=%{text}<extra></extra>",
         "legendgroup": "",
         "marker": {
          "color": "#636efa",
          "symbol": "circle"
         },
         "mode": "markers+text",
         "name": "",
         "scene": "scene",
         "showlegend": false,
         "text": [
          "king",
          "woman",
          "man",
          "queen"
         ],
         "textposition": "top center",
         "type": "scatter3d",
         "x": {
          "bdata": "Ax/Vv81qBz+XsxlAjv2hvw==",
          "dtype": "f4"
         },
         "y": {
          "bdata": "DAJAvpgK2z8Tm1u/i3kqvw==",
          "dtype": "f4"
         },
         "z": {
          "bdata": "W0qmv4pMdj4duIS+za6oPw==",
          "dtype": "f4"
         }
        },
        {
         "line": {
          "color": "green",
          "width": 5
         },
         "mode": "lines",
         "name": "Pair la plus proche",
         "type": "scatter3d",
         "x": [
          -1.6650089025497437,
          -1.2655503749847412
         ],
         "y": [
          -0.18750780820846558,
          -0.6659170985221863
         ],
         "z": [
          -1.2991441488265991,
          1.317834496498108
         ]
        },
        {
         "line": {
          "color": "red",
          "width": 5
         },
         "mode": "lines",
         "name": "Pair la plus éloignée",
         "type": "scatter3d",
         "x": [
          -1.6650089025497437,
          2.4015862941741943
         ],
         "y": [
          -0.18750780820846558,
          -0.8578349947929382
         ],
         "z": [
          -1.2991441488265991,
          -0.25921717286109924
         ]
        },
        {
         "line": {
          "color": "green",
          "width": 5
         },
         "mode": "lines",
         "name": "Closest: king - queen",
         "type": "scatter3d",
         "x": [
          -1.6650089025497437,
          -1.2655503749847412
         ],
         "y": [
          -0.18750780820846558,
          -0.6659170985221863
         ],
         "z": [
          -1.2991441488265991,
          1.317834496498108
         ]
        },
        {
         "line": {
          "color": "red",
          "width": 5
         },
         "mode": "lines",
         "name": "Farthest: king - man",
         "type": "scatter3d",
         "x": [
          -1.6650089025497437,
          2.4015862941741943
         ],
         "y": [
          -0.18750780820846558,
          -0.8578349947929382
         ],
         "z": [
          -1.2991441488265991,
          -0.25921717286109924
         ]
        }
       ],
       "layout": {
        "height": 800,
        "legend": {
         "tracegroupgap": 0
        },
        "scene": {
         "domain": {
          "x": [
           0,
           1
          ],
          "y": [
           0,
           1
          ]
         },
         "xaxis": {
          "title": {
           "text": "x"
          }
         },
         "yaxis": {
          "title": {
           "text": "y"
          }
         },
         "zaxis": {
          "title": {
           "text": "z"
          }
         }
        },
        "template": {
         "data": {
          "bar": [
           {
            "error_x": {
             "color": "#2a3f5f"
            },
            "error_y": {
             "color": "#2a3f5f"
            },
            "marker": {
             "line": {
              "color": "#E5ECF6",
              "width": 0.5
             },
             "pattern": {
              "fillmode": "overlay",
              "size": 10,
              "solidity": 0.2
             }
            },
            "type": "bar"
           }
          ],
          "barpolar": [
           {
            "marker": {
             "line": {
              "color": "#E5ECF6",
              "width": 0.5
             },
             "pattern": {
              "fillmode": "overlay",
              "size": 10,
              "solidity": 0.2
             }
            },
            "type": "barpolar"
           }
          ],
          "carpet": [
           {
            "aaxis": {
             "endlinecolor": "#2a3f5f",
             "gridcolor": "white",
             "linecolor": "white",
             "minorgridcolor": "white",
             "startlinecolor": "#2a3f5f"
            },
            "baxis": {
             "endlinecolor": "#2a3f5f",
             "gridcolor": "white",
             "linecolor": "white",
             "minorgridcolor": "white",
             "startlinecolor": "#2a3f5f"
            },
            "type": "carpet"
           }
          ],
          "choropleth": [
           {
            "colorbar": {
             "outlinewidth": 0,
             "ticks": ""
            },
            "type": "choropleth"
           }
          ],
          "contour": [
           {
            "colorbar": {
             "outlinewidth": 0,
             "ticks": ""
            },
            "colorscale": [
             [
              0,
              "#0d0887"
             ],
             [
              0.1111111111111111,
              "#46039f"
             ],
             [
              0.2222222222222222,
              "#7201a8"
             ],
             [
              0.3333333333333333,
              "#9c179e"
             ],
             [
              0.4444444444444444,
              "#bd3786"
             ],
             [
              0.5555555555555556,
              "#d8576b"
             ],
             [
              0.6666666666666666,
              "#ed7953"
             ],
             [
              0.7777777777777778,
              "#fb9f3a"
             ],
             [
              0.8888888888888888,
              "#fdca26"
             ],
             [
              1,
              "#f0f921"
             ]
            ],
            "type": "contour"
           }
          ],
          "contourcarpet": [
           {
            "colorbar": {
             "outlinewidth": 0,
             "ticks": ""
            },
            "type": "contourcarpet"
           }
          ],
          "heatmap": [
           {
            "colorbar": {
             "outlinewidth": 0,
             "ticks": ""
            },
            "colorscale": [
             [
              0,
              "#0d0887"
             ],
             [
              0.1111111111111111,
              "#46039f"
             ],
             [
              0.2222222222222222,
              "#7201a8"
             ],
             [
              0.3333333333333333,
              "#9c179e"
             ],
             [
              0.4444444444444444,
              "#bd3786"
             ],
             [
              0.5555555555555556,
              "#d8576b"
             ],
             [
              0.6666666666666666,
              "#ed7953"
             ],
             [
              0.7777777777777778,
              "#fb9f3a"
             ],
             [
              0.8888888888888888,
              "#fdca26"
             ],
             [
              1,
              "#f0f921"
             ]
            ],
            "type": "heatmap"
           }
          ],
          "histogram": [
           {
            "marker": {
             "pattern": {
              "fillmode": "overlay",
              "size": 10,
              "solidity": 0.2
             }
            },
            "type": "histogram"
           }
          ],
          "histogram2d": [
           {
            "colorbar": {
             "outlinewidth": 0,
             "ticks": ""
            },
            "colorscale": [
             [
              0,
              "#0d0887"
             ],
             [
              0.1111111111111111,
              "#46039f"
             ],
             [
              0.2222222222222222,
              "#7201a8"
             ],
             [
              0.3333333333333333,
              "#9c179e"
             ],
             [
              0.4444444444444444,
              "#bd3786"
             ],
             [
              0.5555555555555556,
              "#d8576b"
             ],
             [
              0.6666666666666666,
              "#ed7953"
             ],
             [
              0.7777777777777778,
              "#fb9f3a"
             ],
             [
              0.8888888888888888,
              "#fdca26"
             ],
             [
              1,
              "#f0f921"
             ]
            ],
            "type": "histogram2d"
           }
          ],
          "histogram2dcontour": [
           {
            "colorbar": {
             "outlinewidth": 0,
             "ticks": ""
            },
            "colorscale": [
             [
              0,
              "#0d0887"
             ],
             [
              0.1111111111111111,
              "#46039f"
             ],
             [
              0.2222222222222222,
              "#7201a8"
             ],
             [
              0.3333333333333333,
              "#9c179e"
             ],
             [
              0.4444444444444444,
              "#bd3786"
             ],
             [
              0.5555555555555556,
              "#d8576b"
             ],
             [
              0.6666666666666666,
              "#ed7953"
             ],
             [
              0.7777777777777778,
              "#fb9f3a"
             ],
             [
              0.8888888888888888,
              "#fdca26"
             ],
             [
              1,
              "#f0f921"
             ]
            ],
            "type": "histogram2dcontour"
           }
          ],
          "mesh3d": [
           {
            "colorbar": {
             "outlinewidth": 0,
             "ticks": ""
            },
            "type": "mesh3d"
           }
          ],
          "parcoords": [
           {
            "line": {
             "colorbar": {
              "outlinewidth": 0,
              "ticks": ""
             }
            },
            "type": "parcoords"
           }
          ],
          "pie": [
           {
            "automargin": true,
            "type": "pie"
           }
          ],
          "scatter": [
           {
            "fillpattern": {
             "fillmode": "overlay",
             "size": 10,
             "solidity": 0.2
            },
            "type": "scatter"
           }
          ],
          "scatter3d": [
           {
            "line": {
             "colorbar": {
              "outlinewidth": 0,
              "ticks": ""
             }
            },
            "marker": {
             "colorbar": {
              "outlinewidth": 0,
              "ticks": ""
             }
            },
            "type": "scatter3d"
           }
          ],
          "scattercarpet": [
           {
            "marker": {
             "colorbar": {
              "outlinewidth": 0,
              "ticks": ""
             }
            },
            "type": "scattercarpet"
           }
          ],
          "scattergeo": [
           {
            "marker": {
             "colorbar": {
              "outlinewidth": 0,
              "ticks": ""
             }
            },
            "type": "scattergeo"
           }
          ],
          "scattergl": [
           {
            "marker": {
             "colorbar": {
              "outlinewidth": 0,
              "ticks": ""
             }
            },
            "type": "scattergl"
           }
          ],
          "scattermap": [
           {
            "marker": {
             "colorbar": {
              "outlinewidth": 0,
              "ticks": ""
             }
            },
            "type": "scattermap"
           }
          ],
          "scattermapbox": [
           {
            "marker": {
             "colorbar": {
              "outlinewidth": 0,
              "ticks": ""
             }
            },
            "type": "scattermapbox"
           }
          ],
          "scatterpolar": [
           {
            "marker": {
             "colorbar": {
              "outlinewidth": 0,
              "ticks": ""
             }
            },
            "type": "scatterpolar"
           }
          ],
          "scatterpolargl": [
           {
            "marker": {
             "colorbar": {
              "outlinewidth": 0,
              "ticks": ""
             }
            },
            "type": "scatterpolargl"
           }
          ],
          "scatterternary": [
           {
            "marker": {
             "colorbar": {
              "outlinewidth": 0,
              "ticks": ""
             }
            },
            "type": "scatterternary"
           }
          ],
          "surface": [
           {
            "colorbar": {
             "outlinewidth": 0,
             "ticks": ""
            },
            "colorscale": [
             [
              0,
              "#0d0887"
             ],
             [
              0.1111111111111111,
              "#46039f"
             ],
             [
              0.2222222222222222,
              "#7201a8"
             ],
             [
              0.3333333333333333,
              "#9c179e"
             ],
             [
              0.4444444444444444,
              "#bd3786"
             ],
             [
              0.5555555555555556,
              "#d8576b"
             ],
             [
              0.6666666666666666,
              "#ed7953"
             ],
             [
              0.7777777777777778,
              "#fb9f3a"
             ],
             [
              0.8888888888888888,
              "#fdca26"
             ],
             [
              1,
              "#f0f921"
             ]
            ],
            "type": "surface"
           }
          ],
          "table": [
           {
            "cells": {
             "fill": {
              "color": "#EBF0F8"
             },
             "line": {
              "color": "white"
             }
            },
            "header": {
             "fill": {
              "color": "#C8D4E3"
             },
             "line": {
              "color": "white"
             }
            },
            "type": "table"
           }
          ]
         },
         "layout": {
          "annotationdefaults": {
           "arrowcolor": "#2a3f5f",
           "arrowhead": 0,
           "arrowwidth": 1
          },
          "autotypenumbers": "strict",
          "coloraxis": {
           "colorbar": {
            "outlinewidth": 0,
            "ticks": ""
           }
          },
          "colorscale": {
           "diverging": [
            [
             0,
             "#8e0152"
            ],
            [
             0.1,
             "#c51b7d"
            ],
            [
             0.2,
             "#de77ae"
            ],
            [
             0.3,
             "#f1b6da"
            ],
            [
             0.4,
             "#fde0ef"
            ],
            [
             0.5,
             "#f7f7f7"
            ],
            [
             0.6,
             "#e6f5d0"
            ],
            [
             0.7,
             "#b8e186"
            ],
            [
             0.8,
             "#7fbc41"
            ],
            [
             0.9,
             "#4d9221"
            ],
            [
             1,
             "#276419"
            ]
           ],
           "sequential": [
            [
             0,
             "#0d0887"
            ],
            [
             0.1111111111111111,
             "#46039f"
            ],
            [
             0.2222222222222222,
             "#7201a8"
            ],
            [
             0.3333333333333333,
             "#9c179e"
            ],
            [
             0.4444444444444444,
             "#bd3786"
            ],
            [
             0.5555555555555556,
             "#d8576b"
            ],
            [
             0.6666666666666666,
             "#ed7953"
            ],
            [
             0.7777777777777778,
             "#fb9f3a"
            ],
            [
             0.8888888888888888,
             "#fdca26"
            ],
            [
             1,
             "#f0f921"
            ]
           ],
           "sequentialminus": [
            [
             0,
             "#0d0887"
            ],
            [
             0.1111111111111111,
             "#46039f"
            ],
            [
             0.2222222222222222,
             "#7201a8"
            ],
            [
             0.3333333333333333,
             "#9c179e"
            ],
            [
             0.4444444444444444,
             "#bd3786"
            ],
            [
             0.5555555555555556,
             "#d8576b"
            ],
            [
             0.6666666666666666,
             "#ed7953"
            ],
            [
             0.7777777777777778,
             "#fb9f3a"
            ],
            [
             0.8888888888888888,
             "#fdca26"
            ],
            [
             1,
             "#f0f921"
            ]
           ]
          },
          "colorway": [
           "#636efa",
           "#EF553B",
           "#00cc96",
           "#ab63fa",
           "#FFA15A",
           "#19d3f3",
           "#FF6692",
           "#B6E880",
           "#FF97FF",
           "#FECB52"
          ],
          "font": {
           "color": "#2a3f5f"
          },
          "geo": {
           "bgcolor": "white",
           "lakecolor": "white",
           "landcolor": "#E5ECF6",
           "showlakes": true,
           "showland": true,
           "subunitcolor": "white"
          },
          "hoverlabel": {
           "align": "left"
          },
          "hovermode": "closest",
          "mapbox": {
           "style": "light"
          },
          "paper_bgcolor": "white",
          "plot_bgcolor": "#E5ECF6",
          "polar": {
           "angularaxis": {
            "gridcolor": "white",
            "linecolor": "white",
            "ticks": ""
           },
           "bgcolor": "#E5ECF6",
           "radialaxis": {
            "gridcolor": "white",
            "linecolor": "white",
            "ticks": ""
           }
          },
          "scene": {
           "xaxis": {
            "backgroundcolor": "#E5ECF6",
            "gridcolor": "white",
            "gridwidth": 2,
            "linecolor": "white",
            "showbackground": true,
            "ticks": "",
            "zerolinecolor": "white"
           },
           "yaxis": {
            "backgroundcolor": "#E5ECF6",
            "gridcolor": "white",
            "gridwidth": 2,
            "linecolor": "white",
            "showbackground": true,
            "ticks": "",
            "zerolinecolor": "white"
           },
           "zaxis": {
            "backgroundcolor": "#E5ECF6",
            "gridcolor": "white",
            "gridwidth": 2,
            "linecolor": "white",
            "showbackground": true,
            "ticks": "",
            "zerolinecolor": "white"
           }
          },
          "shapedefaults": {
           "line": {
            "color": "#2a3f5f"
           }
          },
          "ternary": {
           "aaxis": {
            "gridcolor": "white",
            "linecolor": "white",
            "ticks": ""
           },
           "baxis": {
            "gridcolor": "white",
            "linecolor": "white",
            "ticks": ""
           },
           "bgcolor": "#E5ECF6",
           "caxis": {
            "gridcolor": "white",
            "linecolor": "white",
            "ticks": ""
           }
          },
          "title": {
           "x": 0.05
          },
          "xaxis": {
           "automargin": true,
           "gridcolor": "white",
           "linecolor": "white",
           "ticks": "",
           "title": {
            "standoff": 15
           },
           "zerolinecolor": "white",
           "zerolinewidth": 2
          },
          "yaxis": {
           "automargin": true,
           "gridcolor": "white",
           "linecolor": "white",
           "ticks": "",
           "title": {
            "standoff": 15
           },
           "zerolinecolor": "white",
           "zerolinewidth": 2
          }
         }
        },
        "title": {
         "text": "Visualisation 3D des Embeddings"
        }
       }
      }
     },
     "metadata": {},
     "output_type": "display_data"
    }
   ],
   "source": [
    "import torch\n",
    "import numpy as np\n",
    "import pandas as pd\n",
    "from transformers import BertTokenizer, BertModel\n",
    "from sklearn.decomposition import PCA\n",
    "import plotly.express as px\n",
    "\n",
    "# Charger le modèle BERT et son tokenizer depuis HuggingFace\n",
    "tokenizer = BertTokenizer.from_pretrained('bert-base-uncased')\n",
    "model = BertModel.from_pretrained('bert-base-uncased')\n",
    "\n",
    "def get_embedding(word):\n",
    "    \"\"\"\n",
    "    Cette fonction génère l'embedding du mot donné en entrée en utilisant BERT.\n",
    "    \n",
    "    Paramètres :\n",
    "    word (str) : Le mot dont on veut obtenir l'embedding.\n",
    "\n",
    "    Retour :\n",
    "    numpy.ndarray : L'embedding du mot en tant que tableau numpy.\n",
    "    \"\"\"\n",
    "    # 1. Tokenisation du mot (convertir le mot en IDs de tokens pour BERT)\n",
    "    tokens = tokenizer(word, return_tensors=\"pt\")  # Retourne un dictionnaire avec les 'input_ids' et 'attention_mask'\n",
    "    \n",
    "    # 2. Conversion des IDs en tokens lisibles pour l'affichage\n",
    "    readable_tokens = tokenizer.convert_ids_to_tokens(tokens[\"input_ids\"].squeeze().tolist())\n",
    "\n",
    "    # 3. Passage du mot dans le modèle BERT pour obtenir les embeddings\n",
    "    output = model(**tokens)\n",
    "\n",
    "    print(\"Mot:\", word)\n",
    "    print(\"Tokens lisibles:\", readable_tokens)\n",
    "    print(\"Tokens:\", tokens)\n",
    "    print(\"Shape de la sortie du modèle:\", output.last_hidden_state.shape)  # Forme du tenseur d'embeddings\n",
    "    print(\"Embedding du token [CLS] avant déconnexion des gradients:\", output.last_hidden_state[:, 0, :].detach())  # extraction de l'embedding du token [CLS] pour chaque exemple dans le batch, retire ce tenseur du graphe de calcul des gradients\n",
    "    print(\"\\n\")\n",
    "\n",
    "    return output.last_hidden_state[:, 0, :].detach().numpy().flatten()\n",
    "\n",
    "words = [\"king\", \"woman\", \"man\", \"queen\"]\n",
    "embeddings = np.array([get_embedding(word) for word in words])\n",
    "\n",
    "# Calcul du produit scalaire (dot product) entre les embeddings\n",
    "def dot_product(A, B):\n",
    "    \"\"\"Calculer le produit scalaire entre deux vecteurs A et B\"\"\"\n",
    "    return np.sum(A * B)\n",
    "\n",
    "# Calcul de la norme d'un vecteur\n",
    "def norm(A):\n",
    "    \"\"\"Calculer la norme (longueur) d'un vecteur A\"\"\"\n",
    "    return np.sqrt(np.sum(A ** 2))\n",
    "\n",
    "# Calcul de la similarité cosinus entre deux vecteurs A et B\n",
    "def cosine_similarity_manual(A, B):\n",
    "    \"\"\"Calculer la similarité cosinus entre les vecteurs A et B\"\"\"\n",
    "    return dot_product(A, B) / (norm(A) * norm(B))\n",
    "\n",
    "# Calcul du produit scalaire et de la similarité cosinus pour chaque paire de mots\n",
    "dot_products = np.zeros((len(words), len(words)))\n",
    "cosine_similarities = np.zeros((len(words), len(words)))\n",
    "\n",
    "for i in range(len(words)):\n",
    "    for j in range(len(words)):\n",
    "        dot_products[i, j] = dot_product(embeddings[i], embeddings[j])\n",
    "        cosine_similarities[i, j] = cosine_similarity_manual(embeddings[i], embeddings[j])\n",
    "\n",
    "# Remplacer les valeurs diagonales par NaN\n",
    "np.fill_diagonal(dot_products, np.nan)\n",
    "np.fill_diagonal(cosine_similarities, np.nan)\n",
    "\n",
    "# Créer un dataframe pour afficher les résultats\n",
    "df = pd.DataFrame(dot_products, columns=words, index=words)\n",
    "df_cosine = pd.DataFrame(cosine_similarities, columns=words, index=words)\n",
    "\n",
    "# Affichage des résultats\n",
    "print(\"Produit scalaire (Dot Product) sans diagonale :\\n\", df)\n",
    "print(\"\\nSimilarité cosinus (Cosine Similarity) sans diagonale :\\n\", df_cosine)\n",
    "\n",
    "\n",
    "# Calculer les indices des paires les plus proches et les plus éloignées\n",
    "# Dot Product\n",
    "dot_product_min_idx = np.unravel_index(np.nanargmin(dot_products), dot_products.shape)\n",
    "dot_product_max_idx = np.unravel_index(np.nanargmax(dot_products), dot_products.shape)\n",
    "\n",
    "# Cosine Similarity\n",
    "cosine_min_idx = np.unravel_index(np.nanargmin(cosine_similarities), cosine_similarities.shape)\n",
    "cosine_max_idx = np.unravel_index(np.nanargmax(cosine_similarities), cosine_similarities.shape)\n",
    "\n",
    "# Résumé des résultats\n",
    "print(\"\\nDot Product - Les mots les plus éloignés :\", words[dot_product_min_idx[0]], \"et\", words[dot_product_min_idx[1]], \"avec un produit scalaire de\", dot_products[dot_product_min_idx])\n",
    "print(\"Dot Product - Les mots les plus proches :\", words[dot_product_max_idx[0]], \"et\", words[dot_product_max_idx[1]], \"avec un produit scalaire de\", dot_products[dot_product_max_idx])\n",
    "\n",
    "print(\"\\nCosine Similarity - Les mots les plus éloignés :\", words[cosine_min_idx[0]], \"et\", words[cosine_min_idx[1]], \"avec une similarité cosinus de\", cosine_similarities[cosine_min_idx])\n",
    "print(\"Cosine Similarity - Les mots les plus proches :\", words[cosine_max_idx[0]], \"et\", words[cosine_max_idx[1]], \"avec une similarité cosinus de\", cosine_similarities[cosine_max_idx])\n",
    "\n",
    "pca = PCA(n_components=3)\n",
    "embeddings_3d = pca.fit_transform(embeddings)\n",
    "\n",
    "# Création d'un DataFrame pour la visualisation en 3D\n",
    "df_plot = pd.DataFrame({\n",
    "    \"word\": words,\n",
    "    \"x\": embeddings_3d[:, 0],\n",
    "    \"y\": embeddings_3d[:, 1],\n",
    "    \"z\": embeddings_3d[:, 2]\n",
    "})\n",
    "\n",
    "# Création du scatter plot 3D avec Plotly Express\n",
    "fig = px.scatter_3d(df_plot, x=\"x\", y=\"y\", z=\"z\", text=\"word\", \n",
    "                      title=\"Visualisation 3D des Embeddings\")\n",
    "fig.update_traces(textposition='top center')\n",
    "\n",
    "# Agrandir la hauteur de la fenêtre du graphique\n",
    "fig.update_layout(height=800)\n",
    "\n",
    "# Liaison pour la paire la plus proche (selon cosine similarity)\n",
    "# cosine_max_idx contient les indices des mots les plus proches\n",
    "closest_idx1, closest_idx2 = cosine_max_idx[0], cosine_max_idx[1]\n",
    "fig.add_scatter3d(\n",
    "    x=[embeddings_3d[closest_idx1, 0], embeddings_3d[closest_idx2, 0]],\n",
    "    y=[embeddings_3d[closest_idx1, 1], embeddings_3d[closest_idx2, 1]],\n",
    "    z=[embeddings_3d[closest_idx1, 2], embeddings_3d[closest_idx2, 2]],\n",
    "    mode='lines',\n",
    "    line=dict(color='green', width=5),\n",
    "    name='Pair la plus proche'\n",
    ")\n",
    "\n",
    "# Liaison pour la paire la plus éloignée (selon cosine similarity)\n",
    "# cosine_min_idx contient les indices des mots les plus éloignés\n",
    "farthest_idx1, farthest_idx2 = cosine_min_idx[0], cosine_min_idx[1]\n",
    "fig.add_scatter3d(\n",
    "    x=[embeddings_3d[farthest_idx1, 0], embeddings_3d[farthest_idx2, 0]],\n",
    "    y=[embeddings_3d[farthest_idx1, 1], embeddings_3d[farthest_idx2, 1]],\n",
    "    z=[embeddings_3d[farthest_idx1, 2], embeddings_3d[farthest_idx2, 2]],\n",
    "    mode='lines',\n",
    "    line=dict(color='red', width=5),\n",
    "    name='Pair la plus éloignée'\n",
    ")\n",
    "\n",
    "\n",
    "# Affichage du graphique\n",
    "fig.show()\n"
   ]
  },
  {
   "cell_type": "code",
   "execution_count": null,
   "metadata": {},
   "outputs": [
    {
     "name": "stdout",
     "output_type": "stream",
     "text": [
      "Mot: king\n",
      "Tokens: {'input_ids': tensor([[ 101, 2332,  102]]), 'token_type_ids': tensor([[0, 0, 0]]), 'attention_mask': tensor([[1, 1, 1]])}\n",
      "Sortie du modèle BaseModelOutputWithPoolingAndCrossAttentions(last_hidden_state=tensor([[[-0.1318,  0.1997,  0.0593,  ..., -0.1656, -0.0187, -0.0151],\n",
      "         [-0.1006, -0.0524,  0.0772,  ..., -0.2972, -0.1973, -0.6630],\n",
      "         [ 0.8228,  0.2570, -0.2939,  ..., -0.0014, -0.8282, -0.2063]]],\n",
      "       grad_fn=<NativeLayerNormBackward0>), pooler_output=tensor([[-0.7962, -0.2311,  0.4424,  0.6373, -0.3603, -0.1046,  0.8782,  0.1833,\n",
      "          0.2154, -0.9996,  0.1175,  0.2204,  0.9610, -0.2259,  0.8968, -0.3678,\n",
      "         -0.1455, -0.4299,  0.3994, -0.7417,  0.5365,  0.8699,  0.6029,  0.1351,\n",
      "          0.3400,  0.2738, -0.5180,  0.8717,  0.9329,  0.6474, -0.6485,  0.1758,\n",
      "         -0.9658, -0.2114,  0.3730, -0.9662,  0.1247, -0.7125, -0.0458,  0.0131,\n",
      "         -0.8082,  0.2329,  0.9899,  0.0665, -0.0993, -0.2937, -0.9993,  0.2260,\n",
      "         -0.7983, -0.3027, -0.2771, -0.5467,  0.1574,  0.3419,  0.3690,  0.3205,\n",
      "         -0.0206,  0.1386, -0.0897, -0.4822, -0.5136,  0.2723,  0.1127, -0.8444,\n",
      "         -0.2406, -0.5958, -0.1376, -0.2320, -0.0145, -0.0573,  0.7703,  0.1916,\n",
      "          0.3073, -0.6853, -0.4892,  0.1072, -0.3126,  1.0000, -0.3496, -0.9477,\n",
      "         -0.4389, -0.3059,  0.2304,  0.6420, -0.4732, -0.9999,  0.3521, -0.1071,\n",
      "         -0.9746,  0.1986,  0.1953, -0.1447, -0.5944,  0.1952, -0.1352, -0.0452,\n",
      "         -0.2637,  0.4262, -0.1476,  0.0279,  0.0481, -0.1894,  0.0593, -0.2743,\n",
      "          0.1031, -0.3256, -0.3603,  0.2080, -0.3712,  0.5667,  0.1713, -0.1830,\n",
      "          0.2345, -0.9366,  0.5523, -0.1461, -0.9560, -0.2763, -0.9704,  0.6296,\n",
      "         -0.0137, -0.1300,  0.9312,  0.4813,  0.1358,  0.0360,  0.4611, -1.0000,\n",
      "         -0.3529, -0.0121,  0.2196, -0.1074, -0.9414, -0.8985,  0.4821,  0.9214,\n",
      "          0.1030,  0.9848, -0.2242,  0.8757,  0.1214, -0.2201, -0.2942, -0.3495,\n",
      "          0.2105,  0.4023, -0.6114,  0.2044,  0.1015, -0.0740,  0.0110, -0.2068,\n",
      "          0.3765, -0.8885, -0.3453,  0.8882,  0.3391,  0.4272,  0.6132, -0.2065,\n",
      "         -0.2912,  0.7344,  0.0995,  0.3154,  0.0918,  0.3442, -0.0629,  0.4339,\n",
      "         -0.7757,  0.1679,  0.3323, -0.1229,  0.4770, -0.9426, -0.2802,  0.3347,\n",
      "          0.9687,  0.6941,  0.1763, -0.0712, -0.1211,  0.2241, -0.8922,  0.9331,\n",
      "         -0.1871,  0.1778,  0.5379, -0.1575, -0.7830, -0.4153,  0.7802, -0.0966,\n",
      "         -0.7655,  0.0410, -0.4001, -0.3144,  0.2531,  0.3859, -0.2417, -0.2763,\n",
      "          0.0299,  0.8400,  0.9368,  0.7622, -0.5360,  0.4059, -0.8587, -0.3472,\n",
      "          0.1009,  0.2246,  0.1396,  0.9801,  0.1337, -0.1062, -0.8709, -0.9688,\n",
      "          0.0782, -0.8267,  0.0253, -0.5853,  0.1803,  0.6831, -0.1883,  0.3276,\n",
      "         -0.9735, -0.6870,  0.3320, -0.1603,  0.3175, -0.1398, -0.1998, -0.2245,\n",
      "         -0.4550,  0.7228,  0.7859,  0.5514, -0.6445,  0.7746, -0.2189,  0.8438,\n",
      "         -0.5473,  0.9340, -0.1365,  0.4471, -0.8840,  0.3918, -0.8272,  0.2322,\n",
      "         -0.1331, -0.6139, -0.3209,  0.2138,  0.2310,  0.7604, -0.4876,  0.9938,\n",
      "          0.0738, -0.8931,  0.5078, -0.1464, -0.9620, -0.2501,  0.2419, -0.6754,\n",
      "         -0.2921, -0.2314, -0.8878,  0.8537,  0.1313,  0.9766,  0.1947, -0.8949,\n",
      "         -0.2445, -0.8005, -0.1704,  0.0084,  0.6135, -0.1047, -0.9250,  0.3826,\n",
      "          0.3403,  0.3129,  0.6816,  0.9910,  0.9962,  0.9488,  0.8208,  0.8468,\n",
      "         -0.6687,  0.2056,  0.9998, -0.3472, -0.9998, -0.8808, -0.4775,  0.3704,\n",
      "         -1.0000, -0.0309,  0.0249, -0.8669, -0.4206,  0.9507,  0.9775, -1.0000,\n",
      "          0.7585,  0.8897, -0.3944,  0.1540, -0.0700,  0.9393,  0.1684,  0.2028,\n",
      "         -0.1515,  0.2175,  0.1945, -0.8067,  0.4082,  0.4453,  0.2131,  0.1170,\n",
      "         -0.6375, -0.9071, -0.3204, -0.1141, -0.2061, -0.9062, -0.1341, -0.2536,\n",
      "          0.5664,  0.0886,  0.1198, -0.6942,  0.1477, -0.6090,  0.3122,  0.3902,\n",
      "         -0.8750, -0.5507, -0.3325, -0.4131,  0.3769, -0.8793,  0.9467, -0.2751,\n",
      "         -0.0530,  1.0000, -0.2091, -0.7933,  0.2252,  0.0895,  0.0097,  1.0000,\n",
      "          0.2878, -0.9450, -0.2623,  0.0995, -0.2576, -0.2425,  0.9939, -0.1683,\n",
      "          0.3802,  0.5084,  0.9279, -0.9685, -0.1468, -0.8453, -0.9185,  0.9300,\n",
      "          0.8822, -0.0246, -0.4643,  0.1319,  0.1263,  0.1994, -0.9261,  0.5828,\n",
      "          0.3802, -0.0999,  0.8308, -0.8564, -0.1773,  0.3113,  0.1063,  0.2906,\n",
      "         -0.2827,  0.4526, -0.2438,  0.1196, -0.2212,  0.3452, -0.9377, -0.1000,\n",
      "          1.0000,  0.0864, -0.5040, -0.0333, -0.0683, -0.2695,  0.2064,  0.3157,\n",
      "         -0.2567, -0.7497, -0.2035, -0.9013, -0.9597,  0.6911,  0.1619, -0.3156,\n",
      "          0.9959,  0.3112,  0.1527, -0.1788,  0.1012,  0.0941,  0.5148, -0.5780,\n",
      "          0.9262, -0.1412,  0.2412,  0.7255,  0.4333, -0.2423, -0.5663,  0.0575,\n",
      "         -0.8236, -0.0294, -0.9093,  0.9102, -0.3030,  0.2071,  0.0723, -0.0615,\n",
      "          1.0000,  0.5223,  0.4495, -0.5745,  0.8403, -0.5543, -0.6427, -0.3125,\n",
      "          0.0265,  0.4458, -0.2098,  0.2290, -0.9406, -0.3777, -0.1450, -0.9581,\n",
      "         -0.9793,  0.4469,  0.6998,  0.1177, -0.0524, -0.5345, -0.5024,  0.0742,\n",
      "         -0.0757, -0.8868,  0.5195, -0.1253,  0.4271, -0.1713,  0.2459, -0.5433,\n",
      "          0.7686,  0.6120,  0.1514, -0.0690, -0.7301,  0.6576, -0.7273,  0.3019,\n",
      "         -0.0931,  1.0000, -0.2921, -0.3079,  0.7037,  0.5699, -0.0609,  0.1161,\n",
      "         -0.3447,  0.1675,  0.4542,  0.5564, -0.8104, -0.2775,  0.3448, -0.5996,\n",
      "         -0.4704,  0.6769, -0.1673,  0.1006, -0.0231,  0.0671,  0.9974, -0.2560,\n",
      "         -0.0971, -0.4144, -0.0139, -0.2445, -0.5972,  0.9998,  0.3364, -0.1953,\n",
      "         -0.9710,  0.3780, -0.8628,  0.9905,  0.6698, -0.7798,  0.2827,  0.3535,\n",
      "         -0.1079,  0.6847, -0.2234, -0.2149,  0.0939,  0.1687,  0.9280, -0.3411,\n",
      "         -0.9160, -0.4833,  0.2311, -0.9023,  0.7065, -0.4249, -0.1486, -0.2166,\n",
      "          0.3929,  0.7968,  0.0768, -0.9415, -0.1265, -0.0571,  0.9368,  0.1056,\n",
      "         -0.2631, -0.8368, -0.3212, -0.2151,  0.5290, -0.8994,  0.9304, -0.9630,\n",
      "          0.2748,  0.9998,  0.2271, -0.5268,  0.1921, -0.3093,  0.1464,  0.1333,\n",
      "          0.4323, -0.8979, -0.1694, -0.1459,  0.2682, -0.1366,  0.2517,  0.5694,\n",
      "          0.1106, -0.2127, -0.4592, -0.0985,  0.3341,  0.6678, -0.2770, -0.0707,\n",
      "          0.0730, -0.0639, -0.8872, -0.1516, -0.1207, -0.9337,  0.5491, -1.0000,\n",
      "         -0.3571, -0.5329, -0.1633,  0.7641, -0.1589, -0.2201, -0.5893,  0.4392,\n",
      "          0.7946,  0.6821, -0.1835,  0.0280, -0.6001,  0.1475, -0.0470,  0.1838,\n",
      "          0.0995,  0.6250, -0.1220,  1.0000,  0.0862, -0.3401, -0.9525,  0.2321,\n",
      "         -0.2045,  0.9973, -0.8571, -0.8782,  0.1978, -0.3242, -0.7019,  0.1541,\n",
      "          0.0302, -0.5627,  0.0490,  0.9139,  0.8334, -0.2586,  0.2124, -0.2646,\n",
      "         -0.3956,  0.1010, -0.5062,  0.9723,  0.1520,  0.8114,  0.6897,  0.2640,\n",
      "          0.9080,  0.1477,  0.6620,  0.1119,  0.9999,  0.1800, -0.8694,  0.2777,\n",
      "         -0.9658, -0.1159, -0.9160,  0.2368,  0.0549,  0.7674, -0.2224,  0.9238,\n",
      "          0.4590,  0.1174,  0.0418,  0.6147,  0.2584, -0.8401, -0.9647, -0.9734,\n",
      "          0.1264, -0.3793, -0.0621,  0.2683,  0.1929,  0.2529,  0.2600, -0.9998,\n",
      "          0.8638,  0.3561, -0.4298,  0.9164,  0.0702,  0.1089,  0.1660, -0.9650,\n",
      "         -0.9464, -0.2854, -0.1979,  0.7319,  0.4535,  0.7636,  0.3412, -0.4369,\n",
      "          0.0544,  0.4900,  0.2102, -0.9801,  0.3131,  0.2971, -0.9346,  0.9102,\n",
      "         -0.4508, -0.1908,  0.5924,  0.3484,  0.9134,  0.7089,  0.4629,  0.1760,\n",
      "          0.4666,  0.8436,  0.9125,  0.9734,  0.3169,  0.6895,  0.3125,  0.2921,\n",
      "          0.0974, -0.8891,  0.0484, -0.1945, -0.0471,  0.2286, -0.1681, -0.9381,\n",
      "          0.3915, -0.1391,  0.4300, -0.3153,  0.1073, -0.3747, -0.1335, -0.6207,\n",
      "         -0.3699,  0.3778,  0.2876,  0.8636,  0.0934, -0.0768, -0.4952, -0.0911,\n",
      "          0.4127, -0.8584,  0.8418, -0.0089,  0.4413, -0.3880, -0.0457,  0.3125,\n",
      "         -0.2857, -0.3222, -0.2082, -0.6602,  0.7634,  0.1361, -0.3528, -0.4444,\n",
      "          0.5375,  0.2748,  0.8865,  0.4166,  0.2929,  0.0980, -0.1728,  0.1613,\n",
      "         -0.2167, -0.9998,  0.3911,  0.2125, -0.3272,  0.1248, -0.5085,  0.0644,\n",
      "         -0.9601, -0.0801, -0.3722, -0.3838, -0.4844, -0.4057,  0.2108,  0.2059,\n",
      "         -0.1088,  0.8234,  0.2449,  0.6713,  0.3334,  0.3364, -0.5699,  0.8260]],\n",
      "       grad_fn=<TanhBackward0>), hidden_states=None, past_key_values=None, attentions=None, cross_attentions=None)\n",
      "Mot: woman\n",
      "Tokens: {'input_ids': tensor([[ 101, 2450,  102]]), 'token_type_ids': tensor([[0, 0, 0]]), 'attention_mask': tensor([[1, 1, 1]])}\n",
      "Sortie du modèle BaseModelOutputWithPoolingAndCrossAttentions(last_hidden_state=tensor([[[-0.3402,  0.2646, -0.0677,  ..., -0.2166,  0.0260,  0.1759],\n",
      "         [-0.6725, -0.4775, -0.0287,  ..., -0.1318, -0.1390,  0.1417],\n",
      "         [ 0.8433,  0.1289, -0.2525,  ..., -0.0112, -0.8633, -0.2683]]],\n",
      "       grad_fn=<NativeLayerNormBackward0>), pooler_output=tensor([[-8.0126e-01, -2.1582e-01,  3.1763e-01,  6.6799e-01, -3.0429e-01,\n",
      "         -1.1371e-01,  9.0633e-01,  2.0096e-01,  6.4649e-02, -9.9961e-01,\n",
      "          1.3760e-02,  2.5543e-01,  9.4413e-01, -2.8630e-02,  8.6964e-01,\n",
      "         -5.3276e-01, -2.3922e-01, -4.8415e-01,  3.8548e-01, -7.7412e-01,\n",
      "          4.4281e-01,  8.8361e-01,  5.2200e-01,  2.1742e-01,  3.3281e-01,\n",
      "          3.3960e-01, -5.2597e-01,  8.3355e-01,  9.0971e-01,  5.9001e-01,\n",
      "         -6.3766e-01,  1.6443e-01, -9.5019e-01, -2.0187e-01,  2.4040e-01,\n",
      "         -9.5370e-01,  1.7855e-01, -6.7813e-01, -4.2724e-02, -1.9909e-02,\n",
      "         -7.5588e-01,  2.0226e-01,  9.9259e-01,  6.1723e-02, -8.5378e-02,\n",
      "         -2.9624e-01, -9.9956e-01,  2.1448e-01, -7.6998e-01, -1.0733e-01,\n",
      "         -9.6930e-02, -4.3998e-01,  1.7101e-01,  3.8360e-01,  3.7238e-01,\n",
      "          4.1094e-01, -7.0084e-02,  1.4042e-01, -7.8286e-02, -4.8612e-01,\n",
      "         -5.3550e-01,  2.5074e-01,  9.6825e-03, -8.3402e-01, -1.1671e-01,\n",
      "         -4.4391e-01, -1.2998e-01, -2.0448e-01, -3.6033e-02, -4.9443e-02,\n",
      "          7.9742e-01,  1.5709e-01,  3.1700e-01, -6.2433e-01, -3.0254e-01,\n",
      "          1.1951e-01, -4.2297e-01,  9.9999e-01, -4.5425e-01, -9.2383e-01,\n",
      "         -4.1472e-01, -6.6796e-02,  3.2357e-01,  4.8834e-01, -3.8218e-01,\n",
      "         -9.9996e-01,  3.0983e-01, -1.2707e-01, -9.6337e-01,  1.9443e-01,\n",
      "          2.3365e-01, -1.4850e-01, -5.1994e-01,  3.2121e-01, -1.9854e-01,\n",
      "         -7.5183e-02, -2.1545e-01,  2.5248e-01, -1.9529e-01,  1.9556e-03,\n",
      "          5.9562e-02, -2.0066e-01,  2.5735e-02, -2.8975e-01,  8.0462e-02,\n",
      "         -3.1559e-01, -4.4588e-01,  1.8289e-01, -1.8945e-01,  5.5429e-01,\n",
      "          2.6492e-01, -2.0804e-01,  2.6550e-01, -9.0661e-01,  5.3339e-01,\n",
      "         -1.6810e-01, -9.3806e-01, -4.0069e-01, -9.5483e-01,  5.9617e-01,\n",
      "         -5.3204e-02, -1.3223e-01,  9.0718e-01,  5.0091e-01,  1.7596e-01,\n",
      "          1.8662e-02,  2.2835e-01, -1.0000e+00, -3.8990e-01, -7.6966e-02,\n",
      "          1.9682e-01, -6.6564e-02, -9.2447e-01, -8.5727e-01,  4.6523e-01,\n",
      "          9.0655e-01,  6.4587e-02,  9.8562e-01, -2.3946e-01,  8.2833e-01,\n",
      "         -5.9963e-02, -1.7370e-01, -1.7108e-01, -3.4490e-01,  2.7123e-01,\n",
      "          5.2748e-01, -6.2003e-01,  2.6446e-01,  4.7024e-02,  1.0558e-03,\n",
      "          5.1817e-02, -2.3062e-01,  2.4313e-01, -8.6623e-01, -3.5398e-01,\n",
      "          8.7397e-01,  2.1788e-01,  1.8486e-01,  5.3896e-01, -2.0241e-01,\n",
      "         -3.6820e-01,  7.6001e-01,  2.0368e-01,  2.7201e-01, -4.5289e-02,\n",
      "          3.5014e-01,  7.1169e-03,  4.0144e-01, -7.8262e-01,  1.4042e-01,\n",
      "          3.1910e-01, -1.6189e-01,  3.1175e-01, -9.2623e-01, -2.9528e-01,\n",
      "          3.3650e-01,  9.6217e-01,  6.8626e-01,  1.5676e-01,  1.4504e-01,\n",
      "         -1.6832e-01,  2.5796e-01, -8.5787e-01,  9.0972e-01, -1.7226e-01,\n",
      "          2.0244e-01,  6.7429e-01, -2.4581e-01, -7.6207e-01, -3.2330e-01,\n",
      "          8.1902e-01, -6.4431e-02, -7.2834e-01,  5.1057e-02, -3.9275e-01,\n",
      "         -3.3396e-01,  2.6676e-01,  4.3254e-01, -2.2672e-01, -3.1737e-01,\n",
      "         -2.3186e-02,  8.0475e-01,  9.6192e-01,  7.1136e-01, -3.9744e-01,\n",
      "          4.9789e-01, -8.4795e-01, -3.6932e-01,  1.4539e-01,  2.4303e-01,\n",
      "          1.4829e-01,  9.7598e-01,  1.8694e-01, -8.8383e-02, -8.4202e-01,\n",
      "         -9.5350e-01,  8.4784e-02, -8.1983e-01, -2.7973e-02, -5.2491e-01,\n",
      "          2.1654e-01,  7.2986e-01,  2.0285e-02,  3.2732e-01, -9.7706e-01,\n",
      "         -6.6173e-01,  3.3392e-01, -1.6052e-01,  3.3418e-01, -1.3665e-01,\n",
      "         -3.9627e-01, -1.4404e-01, -4.8975e-01,  7.8355e-01,  7.3944e-01,\n",
      "          4.8738e-01, -5.4987e-01,  8.1086e-01, -2.4663e-01,  8.1272e-01,\n",
      "         -5.6018e-01,  9.3887e-01, -5.0161e-02,  4.6007e-01, -8.4062e-01,\n",
      "          3.6810e-01, -8.7940e-01,  5.7259e-02, -1.1635e-01, -5.6351e-01,\n",
      "         -8.1017e-02,  3.4417e-01,  2.3657e-01,  6.8851e-01, -4.5804e-01,\n",
      "          9.9361e-01,  4.4617e-01, -8.5888e-01,  6.5597e-01, -1.9919e-01,\n",
      "         -9.4840e-01, -9.0651e-02,  2.4674e-01, -6.1510e-01, -2.9340e-01,\n",
      "         -2.9785e-01, -8.4041e-01,  8.6442e-01,  1.3637e-01,  9.7875e-01,\n",
      "          2.9208e-01, -9.2379e-01, -2.9450e-01, -7.3459e-01, -1.4056e-01,\n",
      "         -5.5852e-02,  4.9191e-01, -9.6114e-02, -9.1680e-01,  3.9732e-01,\n",
      "          3.8543e-01,  3.2144e-01,  5.4998e-01,  9.9076e-01,  9.9603e-01,\n",
      "          9.2051e-01,  7.8475e-01,  8.2354e-01, -7.0423e-01,  3.4420e-01,\n",
      "          9.9978e-01, -3.7370e-01, -9.9984e-01, -8.8217e-01, -5.7678e-01,\n",
      "          3.3553e-01, -1.0000e+00, -1.2221e-02,  3.6024e-02, -8.1928e-01,\n",
      "         -2.5382e-01,  9.3282e-01,  9.8000e-01, -9.9999e-01,  7.5084e-01,\n",
      "          8.7451e-01, -4.8240e-01,  2.3502e-01, -1.2569e-01,  9.1955e-01,\n",
      "          2.8047e-01,  1.3863e-01, -1.5390e-01,  2.2704e-01,  2.2707e-02,\n",
      "         -8.0241e-01,  3.4048e-01,  4.3876e-01,  2.5845e-01,  1.5725e-01,\n",
      "         -6.1614e-01, -8.7032e-01, -3.6802e-01, -9.4984e-02, -1.9531e-01,\n",
      "         -8.8358e-01, -1.1999e-01, -2.1304e-01,  5.7216e-01,  6.9125e-02,\n",
      "          1.7385e-01, -6.7216e-01,  1.3399e-01, -5.8110e-01,  3.5823e-01,\n",
      "          4.7919e-01, -8.4655e-01, -5.6891e-01, -3.4632e-01, -3.1155e-01,\n",
      "          2.4012e-01, -8.5072e-01,  9.3391e-01, -2.6387e-01,  1.6192e-01,\n",
      "          9.9999e-01, -3.8972e-01, -7.7980e-01,  2.9544e-01,  1.3867e-01,\n",
      "         -1.2112e-02,  9.9998e-01,  3.1280e-01, -9.2660e-01, -3.4814e-01,\n",
      "          1.4265e-01, -2.8881e-01, -2.7968e-01,  9.9362e-01, -1.2659e-01,\n",
      "          2.2121e-01,  3.8211e-01,  8.9690e-01, -9.5309e-01, -5.2590e-02,\n",
      "         -8.3793e-01, -9.0553e-01,  9.0126e-01,  8.4329e-01, -9.5404e-02,\n",
      "         -4.4910e-01,  5.0319e-02,  1.3302e-02,  1.8137e-01, -9.3407e-01,\n",
      "          6.0154e-01,  3.9999e-01, -1.3248e-01,  8.2801e-01, -8.5200e-01,\n",
      "         -3.2914e-01,  3.5228e-01,  9.6278e-02,  2.1827e-01, -2.8579e-01,\n",
      "          4.3361e-01, -2.6059e-01,  1.0904e-01, -2.4467e-01,  5.3430e-01,\n",
      "         -9.2250e-01, -4.6115e-02,  9.9997e-01,  9.0068e-02, -5.7461e-01,\n",
      "         -2.4440e-01, -5.6131e-02, -2.8963e-01,  1.6213e-01,  3.0899e-01,\n",
      "         -2.3075e-01, -7.2072e-01, -2.2635e-01, -9.1153e-01, -9.3694e-01,\n",
      "          6.2849e-01,  1.5615e-01, -2.6607e-01,  9.9689e-01,  2.6357e-01,\n",
      "          1.4303e-01, -1.7709e-01,  1.5669e-01,  5.1115e-02,  5.0445e-01,\n",
      "         -4.0815e-01,  9.0658e-01, -2.4560e-01,  3.5576e-01,  7.6330e-01,\n",
      "          1.6493e-01, -1.9603e-01, -5.5370e-01,  5.6448e-02, -7.7636e-01,\n",
      "         -1.1739e-02, -9.0005e-01,  8.9673e-01, -2.8501e-01,  2.3750e-01,\n",
      "          1.2941e-01, -1.0281e-01,  9.9999e-01,  5.9088e-01,  5.1693e-01,\n",
      "         -7.3032e-01,  8.5906e-01, -5.6504e-01, -6.1823e-01, -2.7907e-01,\n",
      "          5.4696e-03,  3.0710e-01, -1.7124e-01,  2.3525e-01, -9.3343e-01,\n",
      "         -1.6213e-01, -1.8074e-01, -9.6844e-01, -9.7005e-01,  4.3476e-01,\n",
      "          7.7870e-01,  6.3971e-02, -2.6220e-02, -6.1801e-01, -4.3805e-01,\n",
      "          2.9310e-01, -1.4261e-01, -8.5181e-01,  3.9823e-01, -1.6510e-01,\n",
      "          4.1626e-01, -1.4574e-01,  3.7298e-01, -4.0471e-01,  6.7756e-01,\n",
      "          6.8481e-01,  1.7374e-01, -9.7735e-02, -7.4588e-01,  6.9303e-01,\n",
      "         -7.7733e-01,  1.5807e-01, -1.4361e-01,  1.0000e+00, -1.8145e-01,\n",
      "         -1.5655e-01,  6.3224e-01,  6.0155e-01, -5.8378e-02,  1.3696e-01,\n",
      "         -2.1984e-01,  1.2199e-01,  3.5587e-01,  3.3470e-01, -8.6576e-01,\n",
      "         -2.5489e-01,  4.2731e-01, -5.9126e-01, -3.8336e-01,  6.2217e-01,\n",
      "         -1.5139e-01,  8.6599e-02,  2.4528e-02,  1.1018e-01,  9.9759e-01,\n",
      "         -1.7591e-01, -4.1667e-02, -4.0874e-01, -6.9503e-02, -2.1127e-01,\n",
      "         -6.8473e-01,  9.9988e-01,  3.2927e-01, -1.5194e-01, -9.5806e-01,\n",
      "          2.1879e-01, -8.8038e-01,  9.8852e-01,  5.8506e-01, -7.7408e-01,\n",
      "          3.1775e-01,  4.1254e-01, -1.2321e-01,  7.5206e-01, -1.6455e-01,\n",
      "         -2.2316e-01,  6.8791e-02,  1.3240e-01,  8.9793e-01, -3.5118e-01,\n",
      "         -8.8137e-01, -4.3317e-01,  2.8687e-01, -8.8928e-01,  7.3171e-01,\n",
      "         -4.6902e-01, -9.8664e-02, -1.7277e-01,  3.6357e-01,  8.6629e-01,\n",
      "          1.2579e-02, -9.2249e-01, -1.4759e-01, -1.9590e-02,  9.1025e-01,\n",
      "          1.2367e-01, -3.5990e-01, -8.4478e-01, -2.7134e-01, -7.1268e-02,\n",
      "          4.0381e-01, -8.5657e-01,  9.0341e-01, -9.5572e-01,  3.1037e-01,\n",
      "          9.9988e-01,  2.1965e-01, -4.5988e-01,  2.0522e-01, -3.6828e-01,\n",
      "          2.0738e-01,  1.2935e-01,  4.7718e-01, -8.6463e-01, -1.9328e-01,\n",
      "         -1.2909e-01,  2.3004e-01, -1.9141e-01,  3.7524e-01,  5.0996e-01,\n",
      "          1.4974e-01, -3.4325e-01, -4.8055e-01, -8.3356e-02,  3.4848e-01,\n",
      "          6.1850e-01, -2.9876e-01, -1.1227e-01,  1.2350e-01, -9.7874e-02,\n",
      "         -8.5056e-01, -1.5880e-01, -1.4181e-01, -9.2696e-01,  5.6015e-01,\n",
      "         -9.9999e-01, -3.2109e-01, -4.2141e-01, -1.5926e-01,  7.2280e-01,\n",
      "         -3.2981e-01, -2.5022e-01, -5.6489e-01,  2.2992e-01,  7.1198e-01,\n",
      "          6.3167e-01, -1.4667e-01, -1.3198e-01, -6.0876e-01,  1.4712e-01,\n",
      "         -5.1169e-02,  1.5504e-01,  3.0477e-02,  6.3590e-01, -1.3393e-01,\n",
      "          1.0000e+00,  4.7403e-02, -4.0353e-01, -9.5871e-01,  2.5649e-01,\n",
      "         -2.1986e-01,  9.9788e-01, -8.8776e-01, -8.5561e-01,  2.2665e-01,\n",
      "         -2.9184e-01, -6.6431e-01,  1.2037e-01, -3.7079e-02, -5.4903e-01,\n",
      "          3.8272e-02,  9.0772e-01,  8.9209e-01, -3.1471e-01,  2.1439e-01,\n",
      "         -2.3742e-01, -4.0137e-01,  7.1759e-02, -3.5240e-01,  9.5179e-01,\n",
      "          1.0702e-03,  8.1900e-01,  7.2947e-01,  2.8641e-01,  8.9020e-01,\n",
      "          1.4433e-01,  6.8451e-01,  1.3659e-01,  9.9990e-01,  2.1709e-01,\n",
      "         -8.6119e-01,  3.1251e-01, -9.6091e-01, -1.4694e-01, -9.0749e-01,\n",
      "          2.3160e-01,  5.0682e-02,  7.3848e-01, -2.4167e-01,  8.9590e-01,\n",
      "          3.3063e-01,  1.1768e-01,  5.6520e-02,  4.4486e-01,  3.0338e-01,\n",
      "         -8.1752e-01, -9.4860e-01, -9.5933e-01,  2.1353e-01, -4.1660e-01,\n",
      "         -8.6417e-03,  2.6915e-01,  1.4196e-01,  3.0568e-01,  2.8265e-01,\n",
      "         -9.9981e-01,  8.5101e-01,  3.5120e-01, -2.5205e-01,  8.8081e-01,\n",
      "          6.8193e-02,  1.0095e-01,  2.0049e-01, -9.5456e-01, -9.3895e-01,\n",
      "         -3.0001e-01, -2.0289e-01,  7.1240e-01,  5.3094e-01,  6.9346e-01,\n",
      "          3.4171e-01, -4.3926e-01,  1.0057e-01,  3.9122e-01,  3.5337e-01,\n",
      "         -9.6868e-01,  3.3926e-01,  9.1944e-02, -9.4852e-01,  8.8697e-01,\n",
      "         -4.3644e-01, -2.1654e-01,  5.4735e-01,  3.1326e-01,  9.3721e-01,\n",
      "          6.5647e-01,  4.6223e-01,  1.6065e-01,  3.6715e-01,  7.8537e-01,\n",
      "          9.1961e-01,  9.6223e-01,  1.7050e-01,  7.1457e-01,  2.6600e-01,\n",
      "          2.5425e-01, -1.4592e-01, -8.6374e-01,  6.9663e-02, -2.1519e-01,\n",
      "         -6.8314e-02,  2.2470e-01, -1.7887e-01, -9.3769e-01,  3.4054e-01,\n",
      "         -1.3016e-01,  4.3142e-01, -3.1476e-01,  9.5975e-02, -3.6778e-01,\n",
      "         -1.6825e-01, -6.2387e-01, -3.9592e-01,  4.4265e-01,  3.3697e-01,\n",
      "          8.5006e-01,  1.0465e-03, -7.3554e-02, -5.7964e-01, -4.4494e-02,\n",
      "          2.8125e-01, -8.3328e-01,  8.8848e-01, -2.7457e-02,  3.1649e-01,\n",
      "         -3.3004e-01, -3.3347e-03,  2.2579e-01, -2.8664e-01, -3.0786e-01,\n",
      "         -2.2307e-01, -6.4453e-01,  7.6003e-01,  1.6364e-01, -3.9050e-01,\n",
      "         -3.9667e-01,  5.3865e-01,  2.8761e-01,  8.9271e-01,  2.3196e-01,\n",
      "          1.0516e-01,  7.5536e-02, -9.2076e-02,  2.1820e-01, -2.9127e-01,\n",
      "         -9.9981e-01,  3.2413e-01,  1.1582e-01, -2.3359e-01, -6.4857e-06,\n",
      "         -3.2465e-01, -1.1776e-01, -9.4756e-01, -1.0564e-01, -4.6130e-01,\n",
      "         -2.1760e-01, -4.7676e-01, -4.4755e-01,  3.2748e-01,  2.2920e-01,\n",
      "          5.4378e-02,  7.8940e-01,  1.2883e-01,  4.7746e-01,  4.2091e-01,\n",
      "          3.9981e-01, -5.2429e-01,  8.2588e-01]], grad_fn=<TanhBackward0>), hidden_states=None, past_key_values=None, attentions=None, cross_attentions=None)\n",
      "Mot: man\n",
      "Tokens: {'input_ids': tensor([[ 101, 2158,  102]]), 'token_type_ids': tensor([[0, 0, 0]]), 'attention_mask': tensor([[1, 1, 1]])}\n",
      "Sortie du modèle BaseModelOutputWithPoolingAndCrossAttentions(last_hidden_state=tensor([[[-0.2366,  0.3746, -0.0201,  ..., -0.1560,  0.0353,  0.3148],\n",
      "         [-0.3090, -0.1002, -0.2579,  ...,  0.4232,  0.1960,  0.3439],\n",
      "         [ 0.9614,  0.1757, -0.2739,  ...,  0.1316, -0.8230, -0.1734]]],\n",
      "       grad_fn=<NativeLayerNormBackward0>), pooler_output=tensor([[-8.5394e-01, -2.4587e-01,  2.6154e-01,  7.5953e-01, -2.3048e-01,\n",
      "         -1.3137e-01,  9.1331e-01,  1.7565e-01,  6.3727e-02, -9.9978e-01,\n",
      "          1.5018e-02,  4.2842e-01,  9.6969e-01, -1.3148e-01,  9.2517e-01,\n",
      "         -5.4853e-01, -3.5402e-01, -5.2393e-01,  4.2526e-01, -8.1536e-01,\n",
      "          5.3307e-01,  9.3687e-01,  5.4257e-01,  1.5803e-01,  3.4807e-01,\n",
      "          5.4056e-01, -6.0427e-01,  9.2051e-01,  9.4436e-01,  6.6388e-01,\n",
      "         -7.2438e-01,  1.3378e-01, -9.7791e-01, -1.9102e-01,  2.0515e-01,\n",
      "         -9.7009e-01,  2.2260e-01, -7.1988e-01,  1.0679e-03,  7.8713e-02,\n",
      "         -8.7189e-01,  1.7718e-01,  9.9694e-01, -1.0316e-01,  5.6666e-03,\n",
      "         -2.8061e-01, -9.9991e-01,  2.1678e-01, -8.6565e-01, -2.3605e-01,\n",
      "         -1.1769e-01, -5.2009e-01,  2.2355e-01,  3.9671e-01,  4.3041e-01,\n",
      "          2.8181e-01, -1.1296e-01,  1.5882e-01, -4.8659e-02, -5.2538e-01,\n",
      "         -5.7690e-01,  2.5012e-01, -1.4278e-01, -8.5101e-01, -3.7370e-02,\n",
      "         -4.0856e-01, -1.2373e-01, -1.9678e-01, -4.8879e-03, -6.1569e-02,\n",
      "          8.1431e-01,  1.6513e-01,  4.4756e-01, -7.3591e-01, -3.4147e-01,\n",
      "          1.3810e-01, -4.5809e-01,  1.0000e+00, -5.1543e-01, -9.6377e-01,\n",
      "         -3.5681e-01, -1.8383e-01,  4.0253e-01,  5.5150e-01, -4.4853e-01,\n",
      "         -9.9999e-01,  2.5136e-01, -1.2258e-01, -9.8129e-01,  2.2879e-01,\n",
      "          2.9488e-01, -1.9512e-01, -5.2201e-01,  3.4436e-01, -1.5615e-01,\n",
      "         -8.5700e-02, -1.8207e-01,  1.3646e-01, -1.6558e-01,  3.1640e-03,\n",
      "          3.9509e-02, -2.0269e-01,  9.8808e-03, -3.3848e-01,  1.3816e-01,\n",
      "         -2.9195e-01, -5.2839e-01,  8.6270e-02, -2.4144e-01,  5.8197e-01,\n",
      "          3.0615e-01, -2.3196e-01,  3.3161e-01, -9.3838e-01,  5.5039e-01,\n",
      "         -1.2339e-01, -9.6876e-01, -4.1533e-01, -9.7959e-01,  6.5524e-01,\n",
      "         -1.3366e-01, -1.6027e-01,  9.4642e-01,  4.2411e-01,  1.9333e-01,\n",
      "          1.2455e-02,  3.4367e-01, -1.0000e+00, -3.9254e-01, -1.7156e-01,\n",
      "          2.5811e-01, -8.9460e-02, -9.5787e-01, -9.2341e-01,  5.0049e-01,\n",
      "          9.3852e-01,  8.3482e-02,  9.9331e-01, -2.0339e-01,  9.0106e-01,\n",
      "          7.0306e-02, -1.6889e-01, -1.4820e-01, -3.6514e-01,  3.2713e-01,\n",
      "          4.6433e-01, -7.4275e-01,  2.2101e-01,  4.9385e-02, -1.4789e-01,\n",
      "         -2.7573e-02, -2.2023e-01,  1.9279e-01, -9.0824e-01, -3.9126e-01,\n",
      "          9.4069e-01,  2.4114e-01,  1.3705e-01,  5.8079e-01, -1.2394e-01,\n",
      "         -4.1509e-01,  8.0413e-01,  3.1059e-01,  2.7299e-01, -4.8823e-02,\n",
      "          3.6939e-01, -1.8577e-01,  3.9818e-01, -8.1797e-01,  2.7095e-01,\n",
      "          3.3928e-01, -1.4496e-01,  3.1713e-01, -9.6444e-01, -2.8618e-01,\n",
      "          3.5284e-01,  9.8177e-01,  7.1702e-01,  1.5543e-01, -1.5541e-02,\n",
      "         -1.4573e-01,  2.3925e-01, -9.1574e-01,  9.5839e-01, -1.9070e-01,\n",
      "          2.2838e-01,  6.2338e-01, -2.1390e-01, -8.6319e-01, -3.4718e-01,\n",
      "          8.4471e-01, -1.1219e-01, -8.3813e-01,  9.5383e-03, -4.4932e-01,\n",
      "         -3.1789e-01,  1.3583e-01,  5.1701e-01, -2.3697e-01, -3.1768e-01,\n",
      "         -4.8230e-02,  8.8141e-01,  9.7496e-01,  8.1003e-01, -4.5776e-01,\n",
      "          5.7532e-01, -8.9930e-01, -4.9293e-01,  1.0271e-01,  2.2092e-01,\n",
      "          1.8122e-01,  9.8984e-01,  2.0151e-02, -1.3131e-01, -9.0132e-01,\n",
      "         -9.7569e-01,  7.6981e-02, -8.7891e-01, -1.2602e-02, -5.7342e-01,\n",
      "          2.4204e-01,  7.3900e-01, -9.5069e-02,  3.3850e-01, -9.8631e-01,\n",
      "         -7.1812e-01,  3.5201e-01, -1.8405e-01,  3.0588e-01, -1.5021e-01,\n",
      "         -8.2962e-02, -1.0434e-01, -5.2300e-01,  8.3671e-01,  8.4512e-01,\n",
      "          4.6003e-01, -7.1237e-01,  8.6098e-01, -2.7702e-01,  8.2946e-01,\n",
      "         -5.2980e-01,  9.6423e-01, -8.3710e-04,  5.8184e-01, -9.1311e-01,\n",
      "          3.1018e-01, -9.0298e-01,  1.5699e-01, -1.3361e-01, -6.4689e-01,\n",
      "         -3.0119e-02,  4.1667e-01,  2.4836e-01,  7.9447e-01, -4.5928e-01,\n",
      "          9.9631e-01,  1.1890e-01, -9.2611e-01,  6.0339e-01, -1.6366e-01,\n",
      "         -9.7841e-01,  6.2009e-02,  2.4507e-01, -5.6382e-01, -3.1854e-01,\n",
      "         -3.2441e-01, -9.2661e-01,  9.0588e-01,  1.2153e-01,  9.8559e-01,\n",
      "          1.8197e-01, -9.3326e-01, -2.9265e-01, -8.7875e-01, -1.6311e-01,\n",
      "         -1.0473e-01,  5.2921e-01, -1.3180e-01, -9.4595e-01,  4.1817e-01,\n",
      "          4.7873e-01,  3.0623e-01,  5.5148e-01,  9.9511e-01,  9.9817e-01,\n",
      "          9.5668e-01,  8.5460e-01,  8.6458e-01, -8.1446e-01,  1.8758e-01,\n",
      "          9.9988e-01, -5.9015e-01, -9.9996e-01, -9.2459e-01, -5.9506e-01,\n",
      "          4.2285e-01, -1.0000e+00, -4.0680e-02,  1.0737e-01, -9.0026e-01,\n",
      "         -2.6814e-01,  9.6467e-01,  9.8705e-01, -1.0000e+00,  8.1032e-01,\n",
      "          9.2887e-01, -5.2302e-01,  4.0783e-01, -1.4785e-01,  9.6197e-01,\n",
      "          3.7132e-01,  1.0870e-01, -1.5532e-01,  2.0895e-01,  2.7037e-03,\n",
      "         -8.3796e-01,  3.0285e-01,  2.8637e-01,  4.8542e-01,  1.5315e-01,\n",
      "         -6.3861e-01, -9.2151e-01, -3.2036e-01, -1.3375e-01, -1.8192e-01,\n",
      "         -9.3540e-01, -9.9959e-02, -2.4265e-01,  6.0016e-01,  8.9923e-02,\n",
      "          1.3287e-01, -7.1790e-01,  1.5593e-01, -5.8919e-01,  3.8135e-01,\n",
      "          5.1590e-01, -8.9000e-01, -6.7139e-01, -2.0372e-01, -4.4427e-01,\n",
      "          3.0112e-01, -9.2258e-01,  9.6587e-01, -2.3180e-01, -3.6908e-02,\n",
      "          1.0000e+00, -2.7312e-01, -8.5178e-01,  3.3189e-01,  1.6518e-01,\n",
      "         -6.8125e-02,  1.0000e+00,  3.7393e-01, -9.6546e-01, -4.1817e-01,\n",
      "          1.3813e-01, -3.2193e-01, -3.4193e-01,  9.9631e-01, -1.6272e-01,\n",
      "          2.1624e-01,  3.9757e-01,  9.5205e-01, -9.8030e-01,  2.3083e-01,\n",
      "         -8.6829e-01, -9.4287e-01,  9.4249e-01,  9.1289e-01, -2.1903e-01,\n",
      "         -5.0524e-01,  4.7069e-02,  9.5903e-02,  2.0507e-01, -9.5412e-01,\n",
      "          6.4225e-01,  4.8169e-01, -1.1021e-01,  8.7686e-01, -8.8839e-01,\n",
      "         -3.9333e-01,  3.1854e-01,  1.3232e-02,  3.2883e-01, -1.8291e-01,\n",
      "          4.7618e-01, -2.8179e-01,  5.9339e-02, -2.5303e-01,  2.7937e-01,\n",
      "         -9.5428e-01, -2.8462e-02,  1.0000e+00,  1.3284e-01, -4.3779e-01,\n",
      "         -9.9175e-02, -2.5159e-02, -3.3269e-01,  2.1797e-01,  3.8468e-01,\n",
      "         -2.0676e-01, -7.7086e-01, -1.0821e-01, -9.4202e-01, -9.7212e-01,\n",
      "          7.8626e-01,  1.7319e-01, -2.5295e-01,  9.9907e-01,  2.8122e-01,\n",
      "          1.3143e-01, -1.7991e-01,  3.6549e-01, -1.0418e-02,  5.3313e-01,\n",
      "         -3.7515e-01,  9.5883e-01, -2.3501e-01,  4.1107e-01,  8.3477e-01,\n",
      "          1.6464e-01, -2.4166e-01, -5.6826e-01,  4.9878e-02, -8.7454e-01,\n",
      "         -3.7432e-03, -9.3698e-01,  9.4710e-01, -2.7927e-01,  3.1498e-01,\n",
      "          1.1973e-01, -6.5486e-02,  1.0000e+00,  5.4513e-01,  5.8536e-01,\n",
      "         -7.3398e-01,  8.9870e-01, -7.5985e-01, -7.3493e-01, -3.1238e-01,\n",
      "          1.7249e-02,  3.0978e-01, -1.5180e-01,  2.0822e-01, -9.5925e-01,\n",
      "         -2.4213e-01, -8.4448e-02, -9.8023e-01, -9.8602e-01,  3.9011e-01,\n",
      "          7.7982e-01, -6.7116e-04, -1.7940e-01, -6.1453e-01, -5.3747e-01,\n",
      "          2.1740e-01, -1.8667e-01, -9.1022e-01,  5.1463e-01, -1.7869e-01,\n",
      "          4.7388e-01, -1.1488e-01,  4.2664e-01, -3.9044e-01,  7.8796e-01,\n",
      "          6.6327e-01,  1.8069e-01, -4.1597e-02, -7.9760e-01,  7.8673e-01,\n",
      "         -8.2381e-01,  1.9913e-01, -1.2634e-01,  1.0000e+00, -2.7912e-01,\n",
      "         -1.3390e-01,  7.7905e-01,  6.8263e-01, -8.7798e-02,  8.6651e-02,\n",
      "         -1.0162e-01,  1.5835e-01,  3.7523e-01,  3.6972e-01, -8.6963e-01,\n",
      "         -2.6120e-01,  5.3309e-01, -4.9632e-01, -4.2909e-01,  7.3854e-01,\n",
      "          2.0281e-02,  7.5537e-02,  3.6719e-02,  5.3461e-02,  9.9887e-01,\n",
      "         -2.5134e-01, -2.6644e-02, -4.6397e-01, -3.6744e-02, -2.0457e-01,\n",
      "         -7.3320e-01,  9.9997e-01,  3.0354e-01, -2.2222e-01, -9.7940e-01,\n",
      "          1.5714e-01, -9.1753e-01,  9.9502e-01,  7.5902e-01, -8.0421e-01,\n",
      "          3.9822e-01,  4.1175e-01, -1.2132e-01,  7.8443e-01, -1.0137e-01,\n",
      "         -2.0551e-01,  7.2112e-02,  1.3226e-01,  9.4537e-01, -4.1008e-01,\n",
      "         -9.4349e-01, -5.1174e-01,  2.7230e-01, -9.4043e-01,  8.5138e-01,\n",
      "         -4.9627e-01, -1.2007e-01, -2.3843e-01,  4.3249e-01,  8.7137e-01,\n",
      "         -3.4662e-02, -9.6822e-01, -8.0163e-02,  5.7260e-02,  9.6078e-01,\n",
      "          1.1472e-01, -4.4446e-01, -9.2180e-01, -3.1314e-01, -8.9920e-03,\n",
      "          3.6386e-01, -9.0157e-01,  9.5134e-01, -9.8095e-01,  3.6471e-01,\n",
      "          9.9998e-01,  2.4246e-01, -6.3469e-01,  2.0153e-01, -4.1241e-01,\n",
      "          1.7028e-01,  1.6273e-01,  5.5108e-01, -9.2607e-01, -2.3206e-01,\n",
      "         -1.2228e-01,  2.4183e-01, -1.7944e-01,  3.7377e-01,  6.2276e-01,\n",
      "          1.4815e-01, -3.9193e-01, -5.1655e-01, -5.8346e-02,  3.1837e-01,\n",
      "          6.9496e-01, -2.9971e-01, -1.1400e-01,  7.1831e-02, -1.5882e-01,\n",
      "         -9.1995e-01, -1.5910e-01, -1.9560e-01, -9.6546e-01,  6.2907e-01,\n",
      "         -1.0000e+00, -3.0360e-01, -5.6633e-01, -1.2665e-01,  7.7693e-01,\n",
      "         -2.2413e-01, -1.3059e-01, -6.6940e-01,  2.0823e-01,  8.1232e-01,\n",
      "          7.3719e-01, -2.3147e-01,  1.3244e-02, -7.1056e-01,  1.6330e-01,\n",
      "         -2.0266e-02,  1.6067e-01,  8.6448e-02,  6.9589e-01, -1.6533e-01,\n",
      "          1.0000e+00,  9.2118e-02, -4.8753e-01, -9.7360e-01,  2.5071e-01,\n",
      "         -2.3167e-01,  9.9926e-01, -9.2135e-01, -9.2673e-01,  2.1279e-01,\n",
      "         -3.6893e-01, -7.3750e-01,  1.3154e-01, -1.0258e-02, -5.7519e-01,\n",
      "         -1.5219e-01,  9.5148e-01,  9.1490e-01, -3.5662e-01,  2.5340e-01,\n",
      "         -2.5687e-01, -4.5796e-01,  4.7723e-02, -3.6961e-01,  9.7589e-01,\n",
      "          6.2562e-02,  8.8419e-01,  7.0768e-01,  1.4136e-01,  9.4386e-01,\n",
      "          1.6424e-01,  7.3316e-01,  1.2293e-01,  9.9998e-01,  2.1555e-01,\n",
      "         -9.0542e-01,  3.4560e-01, -9.7674e-01, -1.2501e-01, -9.5003e-01,\n",
      "          2.3485e-01,  8.9654e-02,  8.5008e-01, -2.4771e-01,  9.4252e-01,\n",
      "          3.4983e-01,  1.2672e-01, -5.1885e-02,  5.2835e-01,  3.3014e-01,\n",
      "         -8.8573e-01, -9.7474e-01, -9.7991e-01,  2.0283e-01, -4.0847e-01,\n",
      "          4.2561e-02,  2.5880e-01,  1.1413e-01,  2.7262e-01,  2.8791e-01,\n",
      "         -9.9996e-01,  9.0982e-01,  3.8087e-01, -2.6317e-01,  9.3487e-01,\n",
      "          1.6183e-01,  2.0517e-01,  1.9961e-01, -9.7731e-01, -9.6962e-01,\n",
      "         -2.9313e-01, -1.5704e-01,  7.5950e-01,  5.9239e-01,  7.9349e-01,\n",
      "          3.7732e-01, -4.5914e-01,  5.9242e-02,  4.1000e-01,  1.4119e-01,\n",
      "         -9.8584e-01,  3.3163e-01,  1.7234e-01, -9.6346e-01,  9.3434e-01,\n",
      "         -5.6198e-01, -2.3605e-01,  6.1150e-01,  3.0043e-01,  9.4939e-01,\n",
      "          7.0986e-01,  4.8790e-01,  1.4570e-01,  4.6998e-01,  8.5545e-01,\n",
      "          9.4180e-01,  9.8010e-01,  2.1632e-01,  7.6417e-01,  3.1508e-01,\n",
      "          2.7840e-01,  1.4372e-01, -9.2051e-01,  7.2959e-02, -1.6260e-01,\n",
      "         -1.5612e-01,  1.7049e-01, -1.9174e-01, -9.6233e-01,  4.2747e-01,\n",
      "         -1.6648e-01,  4.8016e-01, -3.0191e-01,  1.2677e-01, -3.8185e-01,\n",
      "         -2.0507e-01, -6.9095e-01, -4.4905e-01,  4.8065e-01,  3.5690e-01,\n",
      "          9.0437e-01,  1.1355e-01, -1.0340e-01, -6.0697e-01, -7.5899e-02,\n",
      "          3.2798e-01, -8.7488e-01,  9.1164e-01, -3.7060e-02,  4.3928e-01,\n",
      "         -1.9023e-01, -5.7615e-02,  2.9039e-01, -3.4182e-01, -2.8344e-01,\n",
      "         -2.3784e-01, -6.9725e-01,  7.9187e-01,  1.5582e-01, -4.3563e-01,\n",
      "         -4.8045e-01,  5.6469e-01,  2.9877e-01,  9.4389e-01,  2.5970e-01,\n",
      "          1.0084e-01,  8.2213e-02, -1.3746e-01,  2.0203e-01, -3.4256e-01,\n",
      "         -9.9996e-01,  3.6071e-01,  2.3328e-01, -2.0028e-01, -6.6129e-02,\n",
      "         -2.8531e-01, -1.8373e-02, -9.7441e-01, -8.0558e-02, -3.8489e-01,\n",
      "         -2.0406e-01, -4.7712e-01, -5.1460e-01,  3.4561e-01,  4.1234e-01,\n",
      "          2.1585e-01,  8.3734e-01,  2.0388e-01,  5.9921e-01,  4.9730e-01,\n",
      "          3.6140e-01, -5.5880e-01,  8.8500e-01]], grad_fn=<TanhBackward0>), hidden_states=None, past_key_values=None, attentions=None, cross_attentions=None)\n",
      "Mot: queen\n",
      "Tokens: {'input_ids': tensor([[ 101, 3035,  102]]), 'token_type_ids': tensor([[0, 0, 0]]), 'attention_mask': tensor([[1, 1, 1]])}\n",
      "Sortie du modèle BaseModelOutputWithPoolingAndCrossAttentions(last_hidden_state=tensor([[[-0.3744,  0.2175,  0.1177,  ..., -0.2488, -0.0197,  0.0733],\n",
      "         [-0.3583, -0.6767,  0.1689,  ..., -0.1884,  0.1659, -0.1949],\n",
      "         [ 0.8927,  0.1794, -0.2716,  ...,  0.1379, -0.9507, -0.3606]]],\n",
      "       grad_fn=<NativeLayerNormBackward0>), pooler_output=tensor([[-7.6606e-01, -2.1617e-01,  4.8204e-01,  6.2517e-01, -3.6656e-01,\n",
      "         -1.1665e-01,  8.9533e-01,  2.4123e-01,  1.0689e-01, -9.9944e-01,\n",
      "         -3.2602e-03,  8.7781e-02,  9.5333e-01, -4.1462e-02,  8.9426e-01,\n",
      "         -4.8665e-01, -1.1512e-01, -5.3678e-01,  4.6010e-01, -7.6411e-01,\n",
      "          4.9999e-01,  8.8287e-01,  5.3501e-01,  2.1528e-01,  3.9130e-01,\n",
      "          2.8445e-01, -5.3634e-01,  8.6392e-01,  9.1531e-01,  5.9553e-01,\n",
      "         -6.4859e-01,  1.8376e-01, -9.5927e-01, -2.4885e-01,  2.7561e-01,\n",
      "         -9.6191e-01,  2.0038e-01, -6.8182e-01, -9.2497e-02,  1.8666e-02,\n",
      "         -7.8030e-01,  2.6140e-01,  9.9020e-01,  2.7266e-01, -5.6105e-02,\n",
      "         -3.5639e-01, -9.9944e-01,  2.8639e-01, -7.6457e-01, -1.9482e-01,\n",
      "         -1.6497e-01, -5.1975e-01,  1.6263e-01,  3.7979e-01,  3.8274e-01,\n",
      "          3.9983e-01, -3.7947e-02,  1.8866e-01, -1.2543e-01, -4.7508e-01,\n",
      "         -5.5182e-01,  3.2779e-01,  2.8567e-02, -8.2922e-01, -1.6413e-01,\n",
      "         -4.2681e-01, -2.0978e-01, -2.3237e-01, -2.4900e-02, -4.5144e-02,\n",
      "          7.7573e-01,  2.2448e-01,  2.7256e-01, -6.8066e-01, -3.4003e-01,\n",
      "          1.6853e-01, -4.1379e-01,  9.9999e-01, -3.5036e-01, -9.3714e-01,\n",
      "         -4.2659e-01, -2.0487e-01,  3.8893e-01,  5.3204e-01, -3.6014e-01,\n",
      "         -9.9995e-01,  3.2328e-01, -1.9688e-01, -9.7011e-01,  2.5789e-01,\n",
      "          2.3297e-01, -1.7389e-01, -5.1039e-01,  3.5422e-01, -2.6745e-01,\n",
      "         -1.3137e-01, -2.8833e-01,  3.6248e-01, -2.0735e-01,  6.9398e-02,\n",
      "          8.9197e-02, -2.5511e-01, -2.7826e-02, -3.1890e-01,  1.1722e-01,\n",
      "         -3.5600e-01, -3.0733e-01,  3.0001e-01, -2.0383e-01,  5.9614e-01,\n",
      "          2.6805e-01, -2.2179e-01,  3.4814e-01, -9.1885e-01,  5.6611e-01,\n",
      "         -2.0014e-01, -9.4796e-01, -3.7716e-01, -9.6682e-01,  5.8171e-01,\n",
      "         -9.1063e-02, -1.7001e-01,  9.1995e-01,  4.5244e-01,  2.0397e-01,\n",
      "         -3.5767e-02,  3.5368e-01, -1.0000e+00, -3.4447e-01, -1.5521e-01,\n",
      "          1.3757e-01, -1.3172e-01, -9.3503e-01, -8.7588e-01,  4.5278e-01,\n",
      "          9.0891e-01,  1.2260e-01,  9.8394e-01, -2.9002e-01,  8.6195e-01,\n",
      "         -1.4068e-02, -2.4962e-01, -1.7627e-01, -3.8777e-01,  2.5030e-01,\n",
      "          4.6304e-01, -6.1700e-01,  2.2133e-01,  1.0758e-01, -3.8857e-02,\n",
      "          9.0254e-02, -2.7128e-01,  2.6489e-01, -8.8449e-01, -3.8130e-01,\n",
      "          8.8955e-01,  2.4782e-01,  2.4144e-01,  5.0830e-01, -2.4549e-01,\n",
      "         -3.2922e-01,  7.4711e-01,  1.0543e-01,  3.6385e-01, -6.9451e-02,\n",
      "          3.6482e-01,  4.2368e-02,  4.2989e-01, -7.5991e-01,  1.8777e-01,\n",
      "          3.2771e-01, -2.1763e-01,  3.2556e-01, -9.3550e-01, -3.1810e-01,\n",
      "          4.1275e-01,  9.6523e-01,  6.6670e-01,  1.9183e-01,  7.1667e-02,\n",
      "         -1.6084e-01,  2.6309e-01, -8.7826e-01,  9.2301e-01, -2.4794e-01,\n",
      "          2.3676e-01,  4.9236e-01, -1.9219e-01, -7.8418e-01, -2.7911e-01,\n",
      "          7.7140e-01, -6.4362e-02, -7.2230e-01, -5.3882e-05, -4.4396e-01,\n",
      "         -3.2429e-01,  2.7093e-01,  3.6130e-01, -2.6927e-01, -3.3618e-01,\n",
      "         -5.5849e-02,  8.3012e-01,  9.4788e-01,  7.2395e-01, -4.6130e-01,\n",
      "          4.5582e-01, -8.4772e-01, -4.0056e-01,  1.2619e-01,  2.5829e-01,\n",
      "          2.0351e-01,  9.7619e-01,  1.5065e-01, -1.4199e-01, -8.7626e-01,\n",
      "         -9.5898e-01,  1.2881e-01, -8.3057e-01, -2.4364e-02, -5.7341e-01,\n",
      "          2.3874e-01,  7.0524e-01, -4.4809e-03,  4.0556e-01, -9.7600e-01,\n",
      "         -6.6069e-01,  3.9632e-01, -1.8039e-01,  3.6955e-01, -1.4022e-01,\n",
      "         -3.0289e-01, -1.8760e-01, -4.6650e-01,  7.5088e-01,  7.4887e-01,\n",
      "          4.8996e-01, -6.0217e-01,  8.1113e-01, -2.1580e-01,  7.9243e-01,\n",
      "         -6.1175e-01,  9.2211e-01, -1.5151e-01,  3.4283e-01, -8.6316e-01,\n",
      "          3.9783e-01, -8.4753e-01,  1.3362e-01, -1.4852e-01, -5.2461e-01,\n",
      "         -2.0603e-01,  3.2372e-01,  2.3289e-01,  6.9399e-01, -4.9080e-01,\n",
      "          9.9166e-01,  2.1112e-01, -8.8128e-01,  5.4581e-01, -2.5295e-01,\n",
      "         -9.5784e-01, -1.4921e-01,  3.1866e-01, -6.4056e-01, -3.1807e-01,\n",
      "         -2.6065e-01, -8.7334e-01,  8.5756e-01,  1.6504e-01,  9.7667e-01,\n",
      "          2.3258e-01, -9.0979e-01, -2.7926e-01, -7.8391e-01, -1.4365e-01,\n",
      "         -2.8933e-02,  5.1052e-01, -6.8207e-02, -9.2331e-01,  4.2162e-01,\n",
      "          3.8020e-01,  3.1720e-01,  5.7796e-01,  9.8915e-01,  9.9653e-01,\n",
      "          9.3283e-01,  8.0849e-01,  8.3880e-01, -6.6624e-01,  2.8697e-01,\n",
      "          9.9974e-01, -2.3984e-01, -9.9984e-01, -8.8352e-01, -4.5951e-01,\n",
      "          3.4802e-01, -1.0000e+00, -6.9493e-02, -2.7959e-02, -8.3631e-01,\n",
      "         -2.5380e-01,  9.3843e-01,  9.7471e-01, -9.9999e-01,  6.9323e-01,\n",
      "          8.7899e-01, -4.6608e-01,  1.4568e-01, -1.3616e-01,  9.3432e-01,\n",
      "          3.4249e-01,  1.4661e-01, -2.1508e-01,  3.0917e-01,  4.7306e-02,\n",
      "         -7.9149e-01,  2.8844e-01,  3.7142e-01,  1.6634e-01,  1.5041e-01,\n",
      "         -6.2328e-01, -8.8189e-01, -4.3181e-01, -1.3557e-01, -1.8520e-01,\n",
      "         -9.0044e-01, -2.1325e-01, -2.4815e-01,  5.6105e-01,  6.3410e-02,\n",
      "          1.7540e-01, -6.7544e-01,  2.0769e-01, -5.2055e-01,  3.1243e-01,\n",
      "          4.8586e-01, -8.6581e-01, -5.2874e-01, -4.6852e-01, -3.7344e-01,\n",
      "          2.2838e-01, -8.6158e-01,  9.3622e-01, -3.4170e-01, -2.8821e-02,\n",
      "          9.9999e-01, -3.5674e-01, -7.6373e-01,  2.6946e-01,  1.6117e-01,\n",
      "         -1.9523e-01,  9.9998e-01,  2.8022e-01, -9.3373e-01, -3.2561e-01,\n",
      "          1.3158e-01, -2.7196e-01, -3.1750e-01,  9.9290e-01, -1.9007e-01,\n",
      "          3.1384e-01,  4.5091e-01,  9.1651e-01, -9.6515e-01, -1.2390e-01,\n",
      "         -8.2622e-01, -9.1211e-01,  9.1148e-01,  8.6798e-01,  2.8176e-02,\n",
      "         -4.1039e-01,  7.4010e-02, -3.3688e-02,  2.4891e-01, -9.2554e-01,\n",
      "          5.1978e-01,  4.0568e-01, -1.8106e-01,  8.1915e-01, -8.2191e-01,\n",
      "         -3.2473e-01,  3.4516e-01,  1.7656e-01,  2.9614e-01, -3.4650e-01,\n",
      "          4.4750e-01, -3.3127e-01,  1.1449e-01, -3.0300e-01,  4.1185e-01,\n",
      "         -9.2550e-01, -1.4045e-02,  9.9997e-01,  7.9587e-02, -5.5027e-01,\n",
      "         -1.0492e-01, -1.0296e-01, -1.8897e-01,  2.4976e-01,  3.2681e-01,\n",
      "         -2.9785e-01, -7.2482e-01, -5.9232e-02, -9.2183e-01, -9.5448e-01,\n",
      "          6.9705e-01,  1.9809e-01, -2.9296e-01,  9.9633e-01,  2.6615e-01,\n",
      "          1.8874e-01, -2.0244e-01, -1.8312e-02,  1.0907e-01,  5.1678e-01,\n",
      "         -4.2193e-01,  9.1876e-01, -2.0915e-01,  3.9546e-01,  6.7626e-01,\n",
      "          2.8262e-01, -3.0476e-01, -5.8973e-01,  8.7460e-02, -8.0825e-01,\n",
      "         -3.8389e-02, -8.9748e-01,  9.1644e-01, -4.1336e-01,  2.8574e-01,\n",
      "          1.3189e-01, -5.5392e-02,  9.9999e-01,  5.0428e-01,  4.8953e-01,\n",
      "         -6.4850e-01,  8.7444e-01, -5.0146e-01, -6.4874e-01, -3.2592e-01,\n",
      "         -1.0675e-03,  3.9887e-01, -2.3642e-01,  3.0364e-01, -9.3836e-01,\n",
      "         -1.6019e-01, -5.6613e-02, -9.6482e-01, -9.7629e-01,  4.1236e-01,\n",
      "          6.6929e-01,  1.5216e-01,  6.2792e-02, -5.5802e-01, -4.8613e-01,\n",
      "          1.6297e-01, -1.3561e-01, -8.6531e-01,  3.9797e-01, -1.8726e-01,\n",
      "          4.2049e-01, -1.9405e-01,  3.5481e-01, -3.7987e-01,  6.8067e-01,\n",
      "          7.1006e-01,  2.3292e-01, -8.5989e-02, -7.1490e-01,  6.8382e-01,\n",
      "         -7.4451e-01,  1.4792e-01, -1.9766e-01,  1.0000e+00, -2.9474e-01,\n",
      "         -1.8013e-01,  6.3705e-01,  5.3892e-01, -4.4449e-02,  2.4083e-01,\n",
      "         -2.4944e-01,  2.0499e-01,  3.2705e-01,  4.4882e-01, -8.4315e-01,\n",
      "         -2.5351e-01,  3.3372e-01, -6.4437e-01, -3.9836e-01,  6.6022e-01,\n",
      "         -2.0278e-01,  8.5801e-02, -4.1128e-02,  1.3010e-01,  9.9711e-01,\n",
      "         -2.2816e-01, -7.6903e-02, -3.7418e-01, -1.3310e-01, -2.6667e-01,\n",
      "         -6.7257e-01,  9.9988e-01,  3.7204e-01, -2.1146e-01, -9.6840e-01,\n",
      "          3.8313e-01, -8.7228e-01,  9.9076e-01,  6.0282e-01, -7.3744e-01,\n",
      "          3.0535e-01,  3.6616e-01, -1.3816e-01,  7.1501e-01, -2.4416e-01,\n",
      "         -3.1708e-01,  9.8911e-02,  1.7250e-01,  9.2127e-01, -3.7853e-01,\n",
      "         -9.0375e-01, -4.4659e-01,  2.8801e-01, -9.0154e-01,  7.1287e-01,\n",
      "         -4.4235e-01, -1.8530e-01, -2.5182e-01,  4.3050e-01,  8.2826e-01,\n",
      "          4.4018e-02, -9.3254e-01, -1.9792e-01,  5.5813e-02,  9.2195e-01,\n",
      "          1.7213e-01, -3.7021e-01, -8.2044e-01, -3.5454e-01, -1.6607e-01,\n",
      "          4.6245e-01, -8.9080e-01,  9.1887e-01, -9.6605e-01,  3.3242e-01,\n",
      "          9.9987e-01,  2.2752e-01, -5.5059e-01,  2.1161e-01, -2.9726e-01,\n",
      "          1.9594e-01,  2.3053e-01,  4.4576e-01, -8.8471e-01, -2.4621e-01,\n",
      "         -1.3847e-01,  2.5354e-01, -2.0297e-01,  5.3272e-01,  5.4389e-01,\n",
      "          1.7889e-01, -3.5150e-01, -4.6434e-01, -1.5244e-01,  3.4578e-01,\n",
      "          6.6941e-01, -3.5834e-01, -1.1001e-01,  9.4753e-02, -1.0554e-01,\n",
      "         -8.8178e-01, -1.2008e-01, -1.5143e-01, -9.3221e-01,  5.3299e-01,\n",
      "         -9.9999e-01, -3.3363e-01, -4.4495e-01, -2.2663e-01,  7.3501e-01,\n",
      "         -2.8127e-01, -2.0833e-01, -6.2715e-01,  2.7379e-01,  7.6506e-01,\n",
      "          6.8137e-01, -1.5640e-01, -3.2270e-02, -6.2807e-01,  2.1409e-01,\n",
      "         -1.3770e-01,  1.7963e-01, -3.3487e-02,  6.5290e-01, -1.1372e-01,\n",
      "          1.0000e+00,  1.4339e-01, -3.8909e-01, -9.5922e-01,  2.5595e-01,\n",
      "         -2.3448e-01,  9.9776e-01, -8.3381e-01, -8.6092e-01,  2.6998e-01,\n",
      "         -2.3292e-01, -7.1274e-01,  2.0348e-01,  6.9230e-02, -4.6390e-01,\n",
      "          1.2848e-01,  9.1313e-01,  8.6283e-01, -3.1374e-01,  2.4709e-01,\n",
      "         -2.9865e-01, -3.7269e-01,  1.4254e-01, -4.3347e-01,  9.5835e-01,\n",
      "          5.4998e-02,  7.6937e-01,  7.3471e-01,  2.6741e-01,  9.0689e-01,\n",
      "          1.4122e-01,  6.3545e-01,  1.3637e-01,  9.9988e-01,  2.4346e-01,\n",
      "         -8.5318e-01,  2.0587e-01, -9.5566e-01, -1.6300e-01, -8.9282e-01,\n",
      "          2.4625e-01,  8.3216e-02,  7.6772e-01, -2.5001e-01,  9.0610e-01,\n",
      "          4.1849e-01,  1.3249e-01,  1.0569e-01,  4.9132e-01,  3.1554e-01,\n",
      "         -8.3493e-01, -9.6185e-01, -9.6868e-01,  1.7940e-01, -4.1977e-01,\n",
      "         -7.2043e-02,  2.9419e-01,  1.9723e-01,  2.7826e-01,  3.0639e-01,\n",
      "         -9.9981e-01,  8.4663e-01,  3.7885e-01, -2.7461e-01,  8.9430e-01,\n",
      "          1.1128e-01,  5.9629e-02,  1.7412e-01, -9.5858e-01, -9.3216e-01,\n",
      "         -3.4152e-01, -1.8990e-01,  7.2685e-01,  4.9419e-01,  7.6094e-01,\n",
      "          3.7425e-01, -5.0463e-01,  1.0327e-01,  2.9745e-01,  2.9460e-01,\n",
      "         -9.7376e-01,  3.7646e-01,  1.8074e-01, -9.3954e-01,  8.9903e-01,\n",
      "         -4.0776e-01, -2.6306e-01,  5.3765e-01,  2.4228e-01,  9.1237e-01,\n",
      "          6.4759e-01,  4.2629e-01,  2.4832e-01,  3.9699e-01,  8.0522e-01,\n",
      "          9.1320e-01,  9.7169e-01,  2.4011e-01,  7.1828e-01,  3.3614e-01,\n",
      "          2.4919e-01,  6.4773e-02, -8.6893e-01,  1.4519e-01, -1.8917e-01,\n",
      "         -1.6051e-01,  2.1434e-01, -2.4676e-01, -9.2704e-01,  4.1454e-01,\n",
      "         -1.6967e-01,  3.5564e-01, -3.6741e-01,  8.6417e-02, -3.8863e-01,\n",
      "         -2.4140e-01, -6.1281e-01, -3.6811e-01,  4.6176e-01,  3.3544e-01,\n",
      "          8.5266e-01,  4.8055e-02, -1.1859e-01, -5.3871e-01, -7.4617e-02,\n",
      "          2.7968e-01, -8.5226e-01,  8.4965e-01, -4.1649e-03,  2.9531e-01,\n",
      "         -3.8395e-01, -5.4701e-03,  4.1456e-01, -3.1292e-01, -3.1267e-01,\n",
      "         -2.5401e-01, -6.1826e-01,  7.4891e-01,  2.2572e-01, -4.3963e-01,\n",
      "         -4.2215e-01,  5.1205e-01,  3.5224e-01,  8.9283e-01,  3.0236e-01,\n",
      "          1.9696e-01,  1.5689e-01, -1.2560e-01,  2.8044e-01, -2.7900e-01,\n",
      "         -9.9980e-01,  3.9954e-01,  1.8411e-01, -2.1684e-01,  3.5024e-02,\n",
      "         -5.1987e-01, -3.6416e-02, -9.5318e-01, -1.5927e-01, -4.7882e-01,\n",
      "         -2.9433e-01, -4.9068e-01, -3.6876e-01,  3.1797e-01,  3.4316e-01,\n",
      "         -1.1820e-01,  8.0402e-01,  1.8357e-01,  6.0176e-01,  4.1931e-01,\n",
      "          3.5348e-01, -5.8483e-01,  8.2639e-01]], grad_fn=<TanhBackward0>), hidden_states=None, past_key_values=None, attentions=None, cross_attentions=None)\n",
      "[[-0.13184243  0.19966477  0.05932473 ... -0.16563776 -0.01867958\n",
      "  -0.01510085]\n",
      " [-0.34024072  0.26458746 -0.06772999 ... -0.21655193  0.02604671\n",
      "   0.17590843]\n",
      " [-0.23660338  0.3746098  -0.02011443 ... -0.1559939   0.03528493\n",
      "   0.3148265 ]\n",
      " [-0.37435037  0.21751225  0.11769246 ... -0.24881008 -0.01972714\n",
      "   0.0732539 ]]\n",
      "Similarité entre 'queen' et 'king': 0.9827\n",
      "Similarité entre 'queen' et 'woman': 0.9762\n",
      "Similarité entre 'queen' et 'man': 0.9620\n",
      "\n",
      "Le mot le plus proche de 'queen' est 'king' avec une similarité de 0.9827\n"
     ]
    },
    {
     "name": "stderr",
     "output_type": "stream",
     "text": [
      "C:\\Users\\rapha\\AppData\\Local\\Temp\\ipykernel_9504\\3714263754.py:73: UserWarning:\n",
      "\n",
      "FigureCanvasAgg is non-interactive, and thus cannot be shown\n",
      "\n"
     ]
    },
    {
     "data": {
      "image/png": "[encoded data removed]",
      "text/plain": [
       "<Figure size 800x600 with 1 Axes>"
      ]
     },
     "metadata": {},
     "output_type": "display_data"
    }
   ],
   "source": [
    "import torch\n",
    "import numpy as np\n",
    "import matplotlib.pyplot as plt\n",
    "from transformers import BertTokenizer, BertModel\n",
    "from sklearn.metrics.pairwise import cosine_similarity\n",
    "from mpl_toolkits.mplot3d import Axes3D\n",
    "\n",
    "# Charger le modèle BERT et son tokenizer\n",
    "tokenizer = BertTokenizer.from_pretrained('bert-base-uncased')\n",
    "model = BertModel.from_pretrained('bert-base-uncased')\n",
    "\n",
    "# Fonction pour obtenir l'embedding d'un mot\n",
    "def get_embedding(word):\n",
    "    tokens = tokenizer(word, return_tensors=\"pt\")\n",
    "    with torch.no_grad():\n",
    "        output = model(**tokens)\n",
    "    return output.last_hidden_state[:, 0, :].numpy().flatten()\n",
    "\n",
    "# Mots à comparer\n",
    "words = [\"king\", \"woman\", \"man\", \"queen\"]\n",
    "embeddings = np.array([get_embedding(word) for word in words])\n",
    "\n",
    "# Réduction dimensionnelle (on prend les 3 premières dimensions pour la visualisation)\n",
    "embeddings_3d = embeddings[:, :3]\n",
    "\n",
    "# Calcul de la similarité cosinus entre \"queen\" et les trois autres mots\n",
    "queen_embedding = embeddings[-1].reshape(1, -1)  # Embedding de \"queen\"\n",
    "similarities = cosine_similarity(queen_embedding, embeddings[:-1])\n",
    "\n",
    "# Trouver le mot le plus proche\n",
    "closest_idx = np.argmax(similarities)\n",
    "closest_word = words[closest_idx]\n",
    "\n",
    "# Affichage des similarités\n",
    "for i, word in enumerate(words[:-1]):\n",
    "    print(f\"Similarité entre 'queen' et '{word}': {similarities[0][i]:.4f}\")\n",
    "\n",
    "print(f\"\\nLe mot le plus proche de 'queen' est '{closest_word}' avec une similarité de {similarities[0][closest_idx]:.4f}\")\n",
    "\n",
    "# --- AFFICHAGE 3D ---\n",
    "fig = plt.figure(figsize=(8, 6))\n",
    "ax = fig.add_subplot(111, projection='3d')\n",
    "\n",
    "# Affichage des points\n",
    "for i, word in enumerate(words):\n",
    "    color = \"red\" if word == \"queen\" else \"blue\"\n",
    "    ax.scatter(*embeddings_3d[i], color=color, label=word, s=100)\n",
    "\n",
    "# Relier \"queen\" au mot le plus proche\n",
    "ax.plot([embeddings_3d[-1, 0], embeddings_3d[closest_idx, 0]], \n",
    "        [embeddings_3d[-1, 1], embeddings_3d[closest_idx, 1]], \n",
    "        [embeddings_3d[-1, 2], embeddings_3d[closest_idx, 2]], \n",
    "        color=\"green\", linestyle=\"dashed\", linewidth=2)\n",
    "\n",
    "# Légendes\n",
    "ax.set_xlabel(\"Dim 1\")\n",
    "ax.set_ylabel(\"Dim 2\")\n",
    "ax.set_zlabel(\"Dim 3\")\n",
    "ax.legend()\n",
    "ax.set_title(\"Visualisation des embeddings en 3D\")\n",
    "\n",
    "plt.show()"
   ]
  },
  {
   "cell_type": "code",
   "execution_count": null,
   "metadata": {},
   "outputs": [],
   "source": []
  },
  {
   "cell_type": "code",
   "execution_count": null,
   "metadata": {},
   "outputs": [],
   "source": [
    "%pip install langchain\n",
    "%pip install langchain-core\n",
    "%pip install langchain_community\n",
    "%pip install sentence-transformers"
   ]
  },
  {
   "cell_type": "code",
   "execution_count": null,
   "metadata": {},
   "outputs": [],
   "source": [
    "import os\n",
    "import time\n",
    "import ollama\n",
    "import chromadb\n",
    "from langchain_community.embeddings import HuggingFaceBgeEmbeddings\n",
    "from sentence_transformers import SentenceTransformer\n",
    "\n",
    "question = \"What kinds of pets do I like?\"\n",
    "document = \"My favorite pet is a cat.\"\n",
    "\n",
    "def load_embedding_model(model_name=\"sentence-transformers/all-MiniLM-L6-v2\"):\n",
    "    \"\"\"\n",
    "    Load the embedding model for text vectorization.\n",
    "    :param model_name: Name of the SentenceTransformer model to load.\n",
    "    :return: Loaded embedding model instance.\n",
    "    \"\"\"\n",
    "    print(f\"[INFO] Loading embedding model: {model_name}\")\n",
    "    start_time = time.time()\n",
    "    model = SentenceTransformer(model_name)\n",
    "    elapsed_time = time.time() - start_time\n",
    "    print(f\"[SUCCESS] Embedding model loaded. {elapsed_time:.2f}s\")\n",
    "    return model\n",
    "\n",
    "def create_embeddings(model, text_chunks):\n",
    "    \"\"\"\n",
    "    Generate embeddings for text chunks.\n",
    "    :param model: Embedding model.\n",
    "    :param text_chunks: List of text chunks.\n",
    "    :return: List of embeddings.\n",
    "    \"\"\"\n",
    "    print(\"[INFO] Generating embeddings...\")\n",
    "    start_time = time.time()\n",
    "    embeddings = model.encode(text_chunks).tolist()\n",
    "    elapsed_time = time.time() - start_time\n",
    "    print(f\"[SUCCESS] Generated {len(embeddings)} embeddings in {elapsed_time:.2f}s\")\n",
    "    return embeddings\n",
    "\n",
    "\n",
    "\n",
    "model_name = \"BAAI/bge-small-en\"\n",
    "model_kwargs = {\"device\": \"cpu\"}\n",
    "encode_kwargs = {\"normalize_embeddings\": True}\n",
    "hf_embeddings = HuggingFaceBgeEmbeddings(\n",
    "    model_name=model_name, model_kwargs=model_kwargs, encode_kwargs=encode_kwargs\n",
    ")\n",
    "query_result = hf_embeddings.embed_query(question)\n",
    "document_result = hf_embeddings.embed_query(document)\n",
    "len(query_result)\n",
    "\n",
    "\n",
    "import numpy as np\n",
    "\n",
    "def cosine_similarity(vec1, vec2):\n",
    "    dot_product = np.dot(vec1, vec2)\n",
    "    norm_vec1 = np.linalg.norm(vec1)\n",
    "    norm_vec2 = np.linalg.norm(vec2)\n",
    "    return dot_product / (norm_vec1 * norm_vec2)\n",
    "\n",
    "similarity = cosine_similarity(query_result, document_result)\n",
    "print(\"Cosine Similarity:\", similarity)"
   ]
  },
  {
   "cell_type": "code",
   "execution_count": 11,
   "metadata": {},
   "outputs": [
    {
     "name": "stderr",
     "output_type": "stream",
     "text": [
      "No sentence-transformers model found with name sentence-transformers/all-mpnet-base-v2. Creating a new one with mean pooling.\n"
     ]
    },
    {
     "ename": "KeyboardInterrupt",
     "evalue": "",
     "output_type": "error",
     "traceback": [
      "\u001b[31m---------------------------------------------------------------------------\u001b[39m",
      "\u001b[31mKeyboardInterrupt\u001b[39m                         Traceback (most recent call last)",
      "\u001b[36mCell\u001b[39m\u001b[36m \u001b[39m\u001b[32mIn[11]\u001b[39m\u001b[32m, line 3\u001b[39m\n\u001b[32m      1\u001b[39m \u001b[38;5;66;03m# Requires !pip install sentence-transformers\u001b[39;00m\n\u001b[32m      2\u001b[39m \u001b[38;5;28;01mfrom\u001b[39;00m\u001b[38;5;250m \u001b[39m\u001b[34;01msentence_transformers\u001b[39;00m\u001b[38;5;250m \u001b[39m\u001b[38;5;28;01mimport\u001b[39;00m SentenceTransformer\n\u001b[32m----> \u001b[39m\u001b[32m3\u001b[39m embedding_model = \u001b[43mSentenceTransformer\u001b[49m\u001b[43m(\u001b[49m\u001b[43mmodel_name_or_path\u001b[49m\u001b[43m=\u001b[49m\u001b[33;43m\"\u001b[39;49m\u001b[33;43mall-mpnet-base-v2\u001b[39;49m\u001b[33;43m\"\u001b[39;49m\u001b[43m,\u001b[49m\u001b[43m \u001b[49m\n\u001b[32m      4\u001b[39m \u001b[43m                                      \u001b[49m\u001b[43mdevice\u001b[49m\u001b[43m=\u001b[49m\u001b[33;43m\"\u001b[39;49m\u001b[33;43mcpu\u001b[39;49m\u001b[33;43m\"\u001b[39;49m\u001b[43m)\u001b[49m \u001b[38;5;66;03m# choose the device to load the model to (note: GPU will often be *much* faster than CPU)\u001b[39;00m\n\u001b[32m      6\u001b[39m \u001b[38;5;66;03m# Create a list of sentences to turn into numbers\u001b[39;00m\n\u001b[32m      7\u001b[39m sentences = [\n\u001b[32m      8\u001b[39m     \u001b[33m\"\u001b[39m\u001b[33mThe Sentences Transformers library provides an easy and open-source way to create embeddings.\u001b[39m\u001b[33m\"\u001b[39m,\n\u001b[32m      9\u001b[39m     \u001b[33m\"\u001b[39m\u001b[33mSentences can be embedded one by one or as a list of strings.\u001b[39m\u001b[33m\"\u001b[39m,\n\u001b[32m     10\u001b[39m     \u001b[33m\"\u001b[39m\u001b[33mEmbeddings are one of the most powerful concepts in machine learning!\u001b[39m\u001b[33m\"\u001b[39m,\n\u001b[32m     11\u001b[39m     \u001b[33m\"\u001b[39m\u001b[33mLearn to use embeddings well and you\u001b[39m\u001b[33m'\u001b[39m\u001b[33mll be well on your way to being an AI engineer.\u001b[39m\u001b[33m\"\u001b[39m\n\u001b[32m     12\u001b[39m ]\n",
      "\u001b[36mFile \u001b[39m\u001b[32mc:\\Users\\rapha\\project\\005-eliza\\.venv\\Lib\\site-packages\\sentence_transformers\\SentenceTransformer.py:320\u001b[39m, in \u001b[36mSentenceTransformer.__init__\u001b[39m\u001b[34m(self, model_name_or_path, modules, device, prompts, default_prompt_name, similarity_fn_name, cache_folder, trust_remote_code, revision, local_files_only, token, use_auth_token, truncate_dim, model_kwargs, tokenizer_kwargs, config_kwargs, model_card_data, backend)\u001b[39m\n\u001b[32m    308\u001b[39m         modules, \u001b[38;5;28mself\u001b[39m.module_kwargs = \u001b[38;5;28mself\u001b[39m._load_sbert_model(\n\u001b[32m    309\u001b[39m             model_name_or_path,\n\u001b[32m    310\u001b[39m             token=token,\n\u001b[32m   (...)\u001b[39m\u001b[32m    317\u001b[39m             config_kwargs=config_kwargs,\n\u001b[32m    318\u001b[39m         )\n\u001b[32m    319\u001b[39m     \u001b[38;5;28;01melse\u001b[39;00m:\n\u001b[32m--> \u001b[39m\u001b[32m320\u001b[39m         modules = \u001b[38;5;28;43mself\u001b[39;49m\u001b[43m.\u001b[49m\u001b[43m_load_auto_model\u001b[49m\u001b[43m(\u001b[49m\n\u001b[32m    321\u001b[39m \u001b[43m            \u001b[49m\u001b[43mmodel_name_or_path\u001b[49m\u001b[43m,\u001b[49m\n\u001b[32m    322\u001b[39m \u001b[43m            \u001b[49m\u001b[43mtoken\u001b[49m\u001b[43m=\u001b[49m\u001b[43mtoken\u001b[49m\u001b[43m,\u001b[49m\n\u001b[32m    323\u001b[39m \u001b[43m            \u001b[49m\u001b[43mcache_folder\u001b[49m\u001b[43m=\u001b[49m\u001b[43mcache_folder\u001b[49m\u001b[43m,\u001b[49m\n\u001b[32m    324\u001b[39m \u001b[43m            \u001b[49m\u001b[43mrevision\u001b[49m\u001b[43m=\u001b[49m\u001b[43mrevision\u001b[49m\u001b[43m,\u001b[49m\n\u001b[32m    325\u001b[39m \u001b[43m            \u001b[49m\u001b[43mtrust_remote_code\u001b[49m\u001b[43m=\u001b[49m\u001b[43mtrust_remote_code\u001b[49m\u001b[43m,\u001b[49m\n\u001b[32m    326\u001b[39m \u001b[43m            \u001b[49m\u001b[43mlocal_files_only\u001b[49m\u001b[43m=\u001b[49m\u001b[43mlocal_files_only\u001b[49m\u001b[43m,\u001b[49m\n\u001b[32m    327\u001b[39m \u001b[43m            \u001b[49m\u001b[43mmodel_kwargs\u001b[49m\u001b[43m=\u001b[49m\u001b[43mmodel_kwargs\u001b[49m\u001b[43m,\u001b[49m\n\u001b[32m    328\u001b[39m \u001b[43m            \u001b[49m\u001b[43mtokenizer_kwargs\u001b[49m\u001b[43m=\u001b[49m\u001b[43mtokenizer_kwargs\u001b[49m\u001b[43m,\u001b[49m\n\u001b[32m    329\u001b[39m \u001b[43m            \u001b[49m\u001b[43mconfig_kwargs\u001b[49m\u001b[43m=\u001b[49m\u001b[43mconfig_kwargs\u001b[49m\u001b[43m,\u001b[49m\n\u001b[32m    330\u001b[39m \u001b[43m        \u001b[49m\u001b[43m)\u001b[49m\n\u001b[32m    332\u001b[39m \u001b[38;5;28;01mif\u001b[39;00m modules \u001b[38;5;129;01mis\u001b[39;00m \u001b[38;5;129;01mnot\u001b[39;00m \u001b[38;5;28;01mNone\u001b[39;00m \u001b[38;5;129;01mand\u001b[39;00m \u001b[38;5;129;01mnot\u001b[39;00m \u001b[38;5;28misinstance\u001b[39m(modules, OrderedDict):\n\u001b[32m    333\u001b[39m     modules = OrderedDict([(\u001b[38;5;28mstr\u001b[39m(idx), module) \u001b[38;5;28;01mfor\u001b[39;00m idx, module \u001b[38;5;129;01min\u001b[39;00m \u001b[38;5;28menumerate\u001b[39m(modules)])\n",
      "\u001b[36mFile \u001b[39m\u001b[32mc:\\Users\\rapha\\project\\005-eliza\\.venv\\Lib\\site-packages\\sentence_transformers\\SentenceTransformer.py:1538\u001b[39m, in \u001b[36mSentenceTransformer._load_auto_model\u001b[39m\u001b[34m(self, model_name_or_path, token, cache_folder, revision, trust_remote_code, local_files_only, model_kwargs, tokenizer_kwargs, config_kwargs)\u001b[39m\n\u001b[32m   1535\u001b[39m tokenizer_kwargs = shared_kwargs \u001b[38;5;28;01mif\u001b[39;00m tokenizer_kwargs \u001b[38;5;129;01mis\u001b[39;00m \u001b[38;5;28;01mNone\u001b[39;00m \u001b[38;5;28;01melse\u001b[39;00m {**shared_kwargs, **tokenizer_kwargs}\n\u001b[32m   1536\u001b[39m config_kwargs = shared_kwargs \u001b[38;5;28;01mif\u001b[39;00m config_kwargs \u001b[38;5;129;01mis\u001b[39;00m \u001b[38;5;28;01mNone\u001b[39;00m \u001b[38;5;28;01melse\u001b[39;00m {**shared_kwargs, **config_kwargs}\n\u001b[32m-> \u001b[39m\u001b[32m1538\u001b[39m transformer_model = \u001b[43mTransformer\u001b[49m\u001b[43m(\u001b[49m\n\u001b[32m   1539\u001b[39m \u001b[43m    \u001b[49m\u001b[43mmodel_name_or_path\u001b[49m\u001b[43m,\u001b[49m\n\u001b[32m   1540\u001b[39m \u001b[43m    \u001b[49m\u001b[43mcache_dir\u001b[49m\u001b[43m=\u001b[49m\u001b[43mcache_folder\u001b[49m\u001b[43m,\u001b[49m\n\u001b[32m   1541\u001b[39m \u001b[43m    \u001b[49m\u001b[43mmodel_args\u001b[49m\u001b[43m=\u001b[49m\u001b[43mmodel_kwargs\u001b[49m\u001b[43m,\u001b[49m\n\u001b[32m   1542\u001b[39m \u001b[43m    \u001b[49m\u001b[43mtokenizer_args\u001b[49m\u001b[43m=\u001b[49m\u001b[43mtokenizer_kwargs\u001b[49m\u001b[43m,\u001b[49m\n\u001b[32m   1543\u001b[39m \u001b[43m    \u001b[49m\u001b[43mconfig_args\u001b[49m\u001b[43m=\u001b[49m\u001b[43mconfig_kwargs\u001b[49m\u001b[43m,\u001b[49m\n\u001b[32m   1544\u001b[39m \u001b[43m    \u001b[49m\u001b[43mbackend\u001b[49m\u001b[43m=\u001b[49m\u001b[38;5;28;43mself\u001b[39;49m\u001b[43m.\u001b[49m\u001b[43mbackend\u001b[49m\u001b[43m,\u001b[49m\n\u001b[32m   1545\u001b[39m \u001b[43m\u001b[49m\u001b[43m)\u001b[49m\n\u001b[32m   1546\u001b[39m pooling_model = Pooling(transformer_model.get_word_embedding_dimension(), \u001b[33m\"\u001b[39m\u001b[33mmean\u001b[39m\u001b[33m\"\u001b[39m)\n\u001b[32m   1547\u001b[39m \u001b[38;5;28;01mif\u001b[39;00m \u001b[38;5;129;01mnot\u001b[39;00m local_files_only:\n",
      "\u001b[36mFile \u001b[39m\u001b[32mc:\\Users\\rapha\\project\\005-eliza\\.venv\\Lib\\site-packages\\sentence_transformers\\models\\Transformer.py:81\u001b[39m, in \u001b[36mTransformer.__init__\u001b[39m\u001b[34m(self, model_name_or_path, max_seq_length, model_args, tokenizer_args, config_args, cache_dir, do_lower_case, tokenizer_name_or_path, backend)\u001b[39m\n\u001b[32m     78\u001b[39m     config_args = {}\n\u001b[32m     80\u001b[39m config, is_peft_model = \u001b[38;5;28mself\u001b[39m._load_config(model_name_or_path, cache_dir, backend, config_args)\n\u001b[32m---> \u001b[39m\u001b[32m81\u001b[39m \u001b[38;5;28;43mself\u001b[39;49m\u001b[43m.\u001b[49m\u001b[43m_load_model\u001b[49m\u001b[43m(\u001b[49m\u001b[43mmodel_name_or_path\u001b[49m\u001b[43m,\u001b[49m\u001b[43m \u001b[49m\u001b[43mconfig\u001b[49m\u001b[43m,\u001b[49m\u001b[43m \u001b[49m\u001b[43mcache_dir\u001b[49m\u001b[43m,\u001b[49m\u001b[43m \u001b[49m\u001b[43mbackend\u001b[49m\u001b[43m,\u001b[49m\u001b[43m \u001b[49m\u001b[43mis_peft_model\u001b[49m\u001b[43m,\u001b[49m\u001b[43m \u001b[49m\u001b[43m*\u001b[49m\u001b[43m*\u001b[49m\u001b[43mmodel_args\u001b[49m\u001b[43m)\u001b[49m\n\u001b[32m     83\u001b[39m \u001b[38;5;28;01mif\u001b[39;00m max_seq_length \u001b[38;5;129;01mis\u001b[39;00m \u001b[38;5;129;01mnot\u001b[39;00m \u001b[38;5;28;01mNone\u001b[39;00m \u001b[38;5;129;01mand\u001b[39;00m \u001b[33m\"\u001b[39m\u001b[33mmodel_max_length\u001b[39m\u001b[33m\"\u001b[39m \u001b[38;5;129;01mnot\u001b[39;00m \u001b[38;5;129;01min\u001b[39;00m tokenizer_args:\n\u001b[32m     84\u001b[39m     tokenizer_args[\u001b[33m\"\u001b[39m\u001b[33mmodel_max_length\u001b[39m\u001b[33m\"\u001b[39m] = max_seq_length\n",
      "\u001b[36mFile \u001b[39m\u001b[32mc:\\Users\\rapha\\project\\005-eliza\\.venv\\Lib\\site-packages\\sentence_transformers\\models\\Transformer.py:181\u001b[39m, in \u001b[36mTransformer._load_model\u001b[39m\u001b[34m(self, model_name_or_path, config, cache_dir, backend, is_peft_model, **model_args)\u001b[39m\n\u001b[32m    179\u001b[39m     \u001b[38;5;28mself\u001b[39m._load_mt5_model(model_name_or_path, config, cache_dir, **model_args)\n\u001b[32m    180\u001b[39m \u001b[38;5;28;01melse\u001b[39;00m:\n\u001b[32m--> \u001b[39m\u001b[32m181\u001b[39m     \u001b[38;5;28mself\u001b[39m.auto_model = \u001b[43mAutoModel\u001b[49m\u001b[43m.\u001b[49m\u001b[43mfrom_pretrained\u001b[49m\u001b[43m(\u001b[49m\n\u001b[32m    182\u001b[39m \u001b[43m        \u001b[49m\u001b[43mmodel_name_or_path\u001b[49m\u001b[43m,\u001b[49m\u001b[43m \u001b[49m\u001b[43mconfig\u001b[49m\u001b[43m=\u001b[49m\u001b[43mconfig\u001b[49m\u001b[43m,\u001b[49m\u001b[43m \u001b[49m\u001b[43mcache_dir\u001b[49m\u001b[43m=\u001b[49m\u001b[43mcache_dir\u001b[49m\u001b[43m,\u001b[49m\u001b[43m \u001b[49m\u001b[43m*\u001b[49m\u001b[43m*\u001b[49m\u001b[43mmodel_args\u001b[49m\n\u001b[32m    183\u001b[39m \u001b[43m    \u001b[49m\u001b[43m)\u001b[49m\n\u001b[32m    185\u001b[39m \u001b[38;5;28;01mif\u001b[39;00m is_peft_model:\n\u001b[32m    186\u001b[39m     \u001b[38;5;28mself\u001b[39m._load_peft_model(model_name_or_path, config, cache_dir, **model_args, **adapter_only_kwargs)\n",
      "\u001b[36mFile \u001b[39m\u001b[32mc:\\Users\\rapha\\project\\005-eliza\\.venv\\Lib\\site-packages\\transformers\\models\\auto\\auto_factory.py:564\u001b[39m, in \u001b[36m_BaseAutoModelClass.from_pretrained\u001b[39m\u001b[34m(cls, pretrained_model_name_or_path, *model_args, **kwargs)\u001b[39m\n\u001b[32m    562\u001b[39m \u001b[38;5;28;01melif\u001b[39;00m \u001b[38;5;28mtype\u001b[39m(config) \u001b[38;5;129;01min\u001b[39;00m \u001b[38;5;28mcls\u001b[39m._model_mapping.keys():\n\u001b[32m    563\u001b[39m     model_class = _get_model_class(config, \u001b[38;5;28mcls\u001b[39m._model_mapping)\n\u001b[32m--> \u001b[39m\u001b[32m564\u001b[39m     \u001b[38;5;28;01mreturn\u001b[39;00m \u001b[43mmodel_class\u001b[49m\u001b[43m.\u001b[49m\u001b[43mfrom_pretrained\u001b[49m\u001b[43m(\u001b[49m\n\u001b[32m    565\u001b[39m \u001b[43m        \u001b[49m\u001b[43mpretrained_model_name_or_path\u001b[49m\u001b[43m,\u001b[49m\u001b[43m \u001b[49m\u001b[43m*\u001b[49m\u001b[43mmodel_args\u001b[49m\u001b[43m,\u001b[49m\u001b[43m \u001b[49m\u001b[43mconfig\u001b[49m\u001b[43m=\u001b[49m\u001b[43mconfig\u001b[49m\u001b[43m,\u001b[49m\u001b[43m \u001b[49m\u001b[43m*\u001b[49m\u001b[43m*\u001b[49m\u001b[43mhub_kwargs\u001b[49m\u001b[43m,\u001b[49m\u001b[43m \u001b[49m\u001b[43m*\u001b[49m\u001b[43m*\u001b[49m\u001b[43mkwargs\u001b[49m\n\u001b[32m    566\u001b[39m \u001b[43m    \u001b[49m\u001b[43m)\u001b[49m\n\u001b[32m    567\u001b[39m \u001b[38;5;28;01mraise\u001b[39;00m \u001b[38;5;167;01mValueError\u001b[39;00m(\n\u001b[32m    568\u001b[39m     \u001b[33mf\u001b[39m\u001b[33m\"\u001b[39m\u001b[33mUnrecognized configuration class \u001b[39m\u001b[38;5;132;01m{\u001b[39;00mconfig.\u001b[34m__class__\u001b[39m\u001b[38;5;132;01m}\u001b[39;00m\u001b[33m for this kind of AutoModel: \u001b[39m\u001b[38;5;132;01m{\u001b[39;00m\u001b[38;5;28mcls\u001b[39m.\u001b[34m__name__\u001b[39m\u001b[38;5;132;01m}\u001b[39;00m\u001b[33m.\u001b[39m\u001b[38;5;130;01m\\n\u001b[39;00m\u001b[33m\"\u001b[39m\n\u001b[32m    569\u001b[39m     \u001b[33mf\u001b[39m\u001b[33m\"\u001b[39m\u001b[33mModel type should be one of \u001b[39m\u001b[38;5;132;01m{\u001b[39;00m\u001b[33m'\u001b[39m\u001b[33m, \u001b[39m\u001b[33m'\u001b[39m.join(c.\u001b[34m__name__\u001b[39m\u001b[38;5;250m \u001b[39m\u001b[38;5;28;01mfor\u001b[39;00m\u001b[38;5;250m \u001b[39mc\u001b[38;5;250m \u001b[39m\u001b[38;5;129;01min\u001b[39;00m\u001b[38;5;250m \u001b[39m\u001b[38;5;28mcls\u001b[39m._model_mapping.keys())\u001b[38;5;132;01m}\u001b[39;00m\u001b[33m.\u001b[39m\u001b[33m\"\u001b[39m\n\u001b[32m    570\u001b[39m )\n",
      "\u001b[36mFile \u001b[39m\u001b[32mc:\\Users\\rapha\\project\\005-eliza\\.venv\\Lib\\site-packages\\transformers\\modeling_utils.py:262\u001b[39m, in \u001b[36mrestore_default_torch_dtype.<locals>._wrapper\u001b[39m\u001b[34m(*args, **kwargs)\u001b[39m\n\u001b[32m    260\u001b[39m old_dtype = torch.get_default_dtype()\n\u001b[32m    261\u001b[39m \u001b[38;5;28;01mtry\u001b[39;00m:\n\u001b[32m--> \u001b[39m\u001b[32m262\u001b[39m     \u001b[38;5;28;01mreturn\u001b[39;00m \u001b[43mfunc\u001b[49m\u001b[43m(\u001b[49m\u001b[43m*\u001b[49m\u001b[43margs\u001b[49m\u001b[43m,\u001b[49m\u001b[43m \u001b[49m\u001b[43m*\u001b[49m\u001b[43m*\u001b[49m\u001b[43mkwargs\u001b[49m\u001b[43m)\u001b[49m\n\u001b[32m    263\u001b[39m \u001b[38;5;28;01mfinally\u001b[39;00m:\n\u001b[32m    264\u001b[39m     torch.set_default_dtype(old_dtype)\n",
      "\u001b[36mFile \u001b[39m\u001b[32mc:\\Users\\rapha\\project\\005-eliza\\.venv\\Lib\\site-packages\\transformers\\modeling_utils.py:3854\u001b[39m, in \u001b[36mPreTrainedModel.from_pretrained\u001b[39m\u001b[34m(cls, pretrained_model_name_or_path, config, cache_dir, ignore_mismatched_sizes, force_download, local_files_only, token, revision, use_safetensors, weights_only, *model_args, **kwargs)\u001b[39m\n\u001b[32m   3838\u001b[39m \u001b[38;5;28;01mtry\u001b[39;00m:\n\u001b[32m   3839\u001b[39m     \u001b[38;5;66;03m# Load from URL or cache if already cached\u001b[39;00m\n\u001b[32m   3840\u001b[39m     cached_file_kwargs = {\n\u001b[32m   3841\u001b[39m         \u001b[33m\"\u001b[39m\u001b[33mcache_dir\u001b[39m\u001b[33m\"\u001b[39m: cache_dir,\n\u001b[32m   3842\u001b[39m         \u001b[33m\"\u001b[39m\u001b[33mforce_download\u001b[39m\u001b[33m\"\u001b[39m: force_download,\n\u001b[32m   (...)\u001b[39m\u001b[32m   3852\u001b[39m         \u001b[33m\"\u001b[39m\u001b[33m_commit_hash\u001b[39m\u001b[33m\"\u001b[39m: commit_hash,\n\u001b[32m   3853\u001b[39m     }\n\u001b[32m-> \u001b[39m\u001b[32m3854\u001b[39m     resolved_archive_file = \u001b[43mcached_file\u001b[49m\u001b[43m(\u001b[49m\u001b[43mpretrained_model_name_or_path\u001b[49m\u001b[43m,\u001b[49m\u001b[43m \u001b[49m\u001b[43mfilename\u001b[49m\u001b[43m,\u001b[49m\u001b[43m \u001b[49m\u001b[43m*\u001b[49m\u001b[43m*\u001b[49m\u001b[43mcached_file_kwargs\u001b[49m\u001b[43m)\u001b[49m\n\u001b[32m   3856\u001b[39m     \u001b[38;5;66;03m# Since we set _raise_exceptions_for_missing_entries=False, we don't get an exception but a None\u001b[39;00m\n\u001b[32m   3857\u001b[39m     \u001b[38;5;66;03m# result when internet is up, the repo and revision exist, but the file does not.\u001b[39;00m\n\u001b[32m   3858\u001b[39m     \u001b[38;5;28;01mif\u001b[39;00m resolved_archive_file \u001b[38;5;129;01mis\u001b[39;00m \u001b[38;5;28;01mNone\u001b[39;00m \u001b[38;5;129;01mand\u001b[39;00m filename == _add_variant(SAFE_WEIGHTS_NAME, variant):\n\u001b[32m   3859\u001b[39m         \u001b[38;5;66;03m# Maybe the checkpoint is sharded, we try to grab the index name in this case.\u001b[39;00m\n",
      "\u001b[36mFile \u001b[39m\u001b[32mc:\\Users\\rapha\\project\\005-eliza\\.venv\\Lib\\site-packages\\transformers\\utils\\hub.py:342\u001b[39m, in \u001b[36mcached_file\u001b[39m\u001b[34m(path_or_repo_id, filename, cache_dir, force_download, resume_download, proxies, token, revision, local_files_only, subfolder, repo_type, user_agent, _raise_exceptions_for_gated_repo, _raise_exceptions_for_missing_entries, _raise_exceptions_for_connection_errors, _commit_hash, **deprecated_kwargs)\u001b[39m\n\u001b[32m    339\u001b[39m user_agent = http_user_agent(user_agent)\n\u001b[32m    340\u001b[39m \u001b[38;5;28;01mtry\u001b[39;00m:\n\u001b[32m    341\u001b[39m     \u001b[38;5;66;03m# Load from URL or cache if already cached\u001b[39;00m\n\u001b[32m--> \u001b[39m\u001b[32m342\u001b[39m     resolved_file = \u001b[43mhf_hub_download\u001b[49m\u001b[43m(\u001b[49m\n\u001b[32m    343\u001b[39m \u001b[43m        \u001b[49m\u001b[43mpath_or_repo_id\u001b[49m\u001b[43m,\u001b[49m\n\u001b[32m    344\u001b[39m \u001b[43m        \u001b[49m\u001b[43mfilename\u001b[49m\u001b[43m,\u001b[49m\n\u001b[32m    345\u001b[39m \u001b[43m        \u001b[49m\u001b[43msubfolder\u001b[49m\u001b[43m=\u001b[49m\u001b[38;5;28;43;01mNone\u001b[39;49;00m\u001b[43m \u001b[49m\u001b[38;5;28;43;01mif\u001b[39;49;00m\u001b[43m \u001b[49m\u001b[38;5;28;43mlen\u001b[39;49m\u001b[43m(\u001b[49m\u001b[43msubfolder\u001b[49m\u001b[43m)\u001b[49m\u001b[43m \u001b[49m\u001b[43m==\u001b[49m\u001b[43m \u001b[49m\u001b[32;43m0\u001b[39;49m\u001b[43m \u001b[49m\u001b[38;5;28;43;01melse\u001b[39;49;00m\u001b[43m \u001b[49m\u001b[43msubfolder\u001b[49m\u001b[43m,\u001b[49m\n\u001b[32m    346\u001b[39m \u001b[43m        \u001b[49m\u001b[43mrepo_type\u001b[49m\u001b[43m=\u001b[49m\u001b[43mrepo_type\u001b[49m\u001b[43m,\u001b[49m\n\u001b[32m    347\u001b[39m \u001b[43m        \u001b[49m\u001b[43mrevision\u001b[49m\u001b[43m=\u001b[49m\u001b[43mrevision\u001b[49m\u001b[43m,\u001b[49m\n\u001b[32m    348\u001b[39m \u001b[43m        \u001b[49m\u001b[43mcache_dir\u001b[49m\u001b[43m=\u001b[49m\u001b[43mcache_dir\u001b[49m\u001b[43m,\u001b[49m\n\u001b[32m    349\u001b[39m \u001b[43m        \u001b[49m\u001b[43muser_agent\u001b[49m\u001b[43m=\u001b[49m\u001b[43muser_agent\u001b[49m\u001b[43m,\u001b[49m\n\u001b[32m    350\u001b[39m \u001b[43m        \u001b[49m\u001b[43mforce_download\u001b[49m\u001b[43m=\u001b[49m\u001b[43mforce_download\u001b[49m\u001b[43m,\u001b[49m\n\u001b[32m    351\u001b[39m \u001b[43m        \u001b[49m\u001b[43mproxies\u001b[49m\u001b[43m=\u001b[49m\u001b[43mproxies\u001b[49m\u001b[43m,\u001b[49m\n\u001b[32m    352\u001b[39m \u001b[43m        \u001b[49m\u001b[43mresume_download\u001b[49m\u001b[43m=\u001b[49m\u001b[43mresume_download\u001b[49m\u001b[43m,\u001b[49m\n\u001b[32m    353\u001b[39m \u001b[43m        \u001b[49m\u001b[43mtoken\u001b[49m\u001b[43m=\u001b[49m\u001b[43mtoken\u001b[49m\u001b[43m,\u001b[49m\n\u001b[32m    354\u001b[39m \u001b[43m        \u001b[49m\u001b[43mlocal_files_only\u001b[49m\u001b[43m=\u001b[49m\u001b[43mlocal_files_only\u001b[49m\u001b[43m,\u001b[49m\n\u001b[32m    355\u001b[39m \u001b[43m    \u001b[49m\u001b[43m)\u001b[49m\n\u001b[32m    356\u001b[39m \u001b[38;5;28;01mexcept\u001b[39;00m GatedRepoError \u001b[38;5;28;01mas\u001b[39;00m e:\n\u001b[32m    357\u001b[39m     resolved_file = _get_cache_file_to_return(path_or_repo_id, full_filename, cache_dir, revision)\n",
      "\u001b[36mFile \u001b[39m\u001b[32mc:\\Users\\rapha\\project\\005-eliza\\.venv\\Lib\\site-packages\\huggingface_hub\\utils\\_validators.py:114\u001b[39m, in \u001b[36mvalidate_hf_hub_args.<locals>._inner_fn\u001b[39m\u001b[34m(*args, **kwargs)\u001b[39m\n\u001b[32m    111\u001b[39m \u001b[38;5;28;01mif\u001b[39;00m check_use_auth_token:\n\u001b[32m    112\u001b[39m     kwargs = smoothly_deprecate_use_auth_token(fn_name=fn.\u001b[34m__name__\u001b[39m, has_token=has_token, kwargs=kwargs)\n\u001b[32m--> \u001b[39m\u001b[32m114\u001b[39m \u001b[38;5;28;01mreturn\u001b[39;00m \u001b[43mfn\u001b[49m\u001b[43m(\u001b[49m\u001b[43m*\u001b[49m\u001b[43margs\u001b[49m\u001b[43m,\u001b[49m\u001b[43m \u001b[49m\u001b[43m*\u001b[49m\u001b[43m*\u001b[49m\u001b[43mkwargs\u001b[49m\u001b[43m)\u001b[49m\n",
      "\u001b[36mFile \u001b[39m\u001b[32mc:\\Users\\rapha\\project\\005-eliza\\.venv\\Lib\\site-packages\\huggingface_hub\\file_download.py:862\u001b[39m, in \u001b[36mhf_hub_download\u001b[39m\u001b[34m(repo_id, filename, subfolder, repo_type, revision, library_name, library_version, cache_dir, local_dir, user_agent, force_download, proxies, etag_timeout, token, local_files_only, headers, endpoint, resume_download, force_filename, local_dir_use_symlinks)\u001b[39m\n\u001b[32m    842\u001b[39m     \u001b[38;5;28;01mreturn\u001b[39;00m _hf_hub_download_to_local_dir(\n\u001b[32m    843\u001b[39m         \u001b[38;5;66;03m# Destination\u001b[39;00m\n\u001b[32m    844\u001b[39m         local_dir=local_dir,\n\u001b[32m   (...)\u001b[39m\u001b[32m    859\u001b[39m         local_files_only=local_files_only,\n\u001b[32m    860\u001b[39m     )\n\u001b[32m    861\u001b[39m \u001b[38;5;28;01melse\u001b[39;00m:\n\u001b[32m--> \u001b[39m\u001b[32m862\u001b[39m     \u001b[38;5;28;01mreturn\u001b[39;00m \u001b[43m_hf_hub_download_to_cache_dir\u001b[49m\u001b[43m(\u001b[49m\n\u001b[32m    863\u001b[39m \u001b[43m        \u001b[49m\u001b[38;5;66;43;03m# Destination\u001b[39;49;00m\n\u001b[32m    864\u001b[39m \u001b[43m        \u001b[49m\u001b[43mcache_dir\u001b[49m\u001b[43m=\u001b[49m\u001b[43mcache_dir\u001b[49m\u001b[43m,\u001b[49m\n\u001b[32m    865\u001b[39m \u001b[43m        \u001b[49m\u001b[38;5;66;43;03m# File info\u001b[39;49;00m\n\u001b[32m    866\u001b[39m \u001b[43m        \u001b[49m\u001b[43mrepo_id\u001b[49m\u001b[43m=\u001b[49m\u001b[43mrepo_id\u001b[49m\u001b[43m,\u001b[49m\n\u001b[32m    867\u001b[39m \u001b[43m        \u001b[49m\u001b[43mfilename\u001b[49m\u001b[43m=\u001b[49m\u001b[43mfilename\u001b[49m\u001b[43m,\u001b[49m\n\u001b[32m    868\u001b[39m \u001b[43m        \u001b[49m\u001b[43mrepo_type\u001b[49m\u001b[43m=\u001b[49m\u001b[43mrepo_type\u001b[49m\u001b[43m,\u001b[49m\n\u001b[32m    869\u001b[39m \u001b[43m        \u001b[49m\u001b[43mrevision\u001b[49m\u001b[43m=\u001b[49m\u001b[43mrevision\u001b[49m\u001b[43m,\u001b[49m\n\u001b[32m    870\u001b[39m \u001b[43m        \u001b[49m\u001b[38;5;66;43;03m# HTTP info\u001b[39;49;00m\n\u001b[32m    871\u001b[39m \u001b[43m        \u001b[49m\u001b[43mendpoint\u001b[49m\u001b[43m=\u001b[49m\u001b[43mendpoint\u001b[49m\u001b[43m,\u001b[49m\n\u001b[32m    872\u001b[39m \u001b[43m        \u001b[49m\u001b[43metag_timeout\u001b[49m\u001b[43m=\u001b[49m\u001b[43metag_timeout\u001b[49m\u001b[43m,\u001b[49m\n\u001b[32m    873\u001b[39m \u001b[43m        \u001b[49m\u001b[43mheaders\u001b[49m\u001b[43m=\u001b[49m\u001b[43mhf_headers\u001b[49m\u001b[43m,\u001b[49m\n\u001b[32m    874\u001b[39m \u001b[43m        \u001b[49m\u001b[43mproxies\u001b[49m\u001b[43m=\u001b[49m\u001b[43mproxies\u001b[49m\u001b[43m,\u001b[49m\n\u001b[32m    875\u001b[39m \u001b[43m        \u001b[49m\u001b[43mtoken\u001b[49m\u001b[43m=\u001b[49m\u001b[43mtoken\u001b[49m\u001b[43m,\u001b[49m\n\u001b[32m    876\u001b[39m \u001b[43m        \u001b[49m\u001b[38;5;66;43;03m# Additional options\u001b[39;49;00m\n\u001b[32m    877\u001b[39m \u001b[43m        \u001b[49m\u001b[43mlocal_files_only\u001b[49m\u001b[43m=\u001b[49m\u001b[43mlocal_files_only\u001b[49m\u001b[43m,\u001b[49m\n\u001b[32m    878\u001b[39m \u001b[43m        \u001b[49m\u001b[43mforce_download\u001b[49m\u001b[43m=\u001b[49m\u001b[43mforce_download\u001b[49m\u001b[43m,\u001b[49m\n\u001b[32m    879\u001b[39m \u001b[43m    \u001b[49m\u001b[43m)\u001b[49m\n",
      "\u001b[36mFile \u001b[39m\u001b[32mc:\\Users\\rapha\\project\\005-eliza\\.venv\\Lib\\site-packages\\huggingface_hub\\file_download.py:1011\u001b[39m, in \u001b[36m_hf_hub_download_to_cache_dir\u001b[39m\u001b[34m(cache_dir, repo_id, filename, repo_type, revision, endpoint, etag_timeout, headers, proxies, token, local_files_only, force_download)\u001b[39m\n\u001b[32m   1009\u001b[39m Path(lock_path).parent.mkdir(parents=\u001b[38;5;28;01mTrue\u001b[39;00m, exist_ok=\u001b[38;5;28;01mTrue\u001b[39;00m)\n\u001b[32m   1010\u001b[39m \u001b[38;5;28;01mwith\u001b[39;00m WeakFileLock(lock_path):\n\u001b[32m-> \u001b[39m\u001b[32m1011\u001b[39m     \u001b[43m_download_to_tmp_and_move\u001b[49m\u001b[43m(\u001b[49m\n\u001b[32m   1012\u001b[39m \u001b[43m        \u001b[49m\u001b[43mincomplete_path\u001b[49m\u001b[43m=\u001b[49m\u001b[43mPath\u001b[49m\u001b[43m(\u001b[49m\u001b[43mblob_path\u001b[49m\u001b[43m \u001b[49m\u001b[43m+\u001b[49m\u001b[43m \u001b[49m\u001b[33;43m\"\u001b[39;49m\u001b[33;43m.incomplete\u001b[39;49m\u001b[33;43m\"\u001b[39;49m\u001b[43m)\u001b[49m\u001b[43m,\u001b[49m\n\u001b[32m   1013\u001b[39m \u001b[43m        \u001b[49m\u001b[43mdestination_path\u001b[49m\u001b[43m=\u001b[49m\u001b[43mPath\u001b[49m\u001b[43m(\u001b[49m\u001b[43mblob_path\u001b[49m\u001b[43m)\u001b[49m\u001b[43m,\u001b[49m\n\u001b[32m   1014\u001b[39m \u001b[43m        \u001b[49m\u001b[43murl_to_download\u001b[49m\u001b[43m=\u001b[49m\u001b[43murl_to_download\u001b[49m\u001b[43m,\u001b[49m\n\u001b[32m   1015\u001b[39m \u001b[43m        \u001b[49m\u001b[43mproxies\u001b[49m\u001b[43m=\u001b[49m\u001b[43mproxies\u001b[49m\u001b[43m,\u001b[49m\n\u001b[32m   1016\u001b[39m \u001b[43m        \u001b[49m\u001b[43mheaders\u001b[49m\u001b[43m=\u001b[49m\u001b[43mheaders\u001b[49m\u001b[43m,\u001b[49m\n\u001b[32m   1017\u001b[39m \u001b[43m        \u001b[49m\u001b[43mexpected_size\u001b[49m\u001b[43m=\u001b[49m\u001b[43mexpected_size\u001b[49m\u001b[43m,\u001b[49m\n\u001b[32m   1018\u001b[39m \u001b[43m        \u001b[49m\u001b[43mfilename\u001b[49m\u001b[43m=\u001b[49m\u001b[43mfilename\u001b[49m\u001b[43m,\u001b[49m\n\u001b[32m   1019\u001b[39m \u001b[43m        \u001b[49m\u001b[43mforce_download\u001b[49m\u001b[43m=\u001b[49m\u001b[43mforce_download\u001b[49m\u001b[43m,\u001b[49m\n\u001b[32m   1020\u001b[39m \u001b[43m    \u001b[49m\u001b[43m)\u001b[49m\n\u001b[32m   1021\u001b[39m     \u001b[38;5;28;01mif\u001b[39;00m \u001b[38;5;129;01mnot\u001b[39;00m os.path.exists(pointer_path):\n\u001b[32m   1022\u001b[39m         _create_symlink(blob_path, pointer_path, new_blob=\u001b[38;5;28;01mTrue\u001b[39;00m)\n",
      "\u001b[36mFile \u001b[39m\u001b[32mc:\\Users\\rapha\\project\\005-eliza\\.venv\\Lib\\site-packages\\huggingface_hub\\file_download.py:1547\u001b[39m, in \u001b[36m_download_to_tmp_and_move\u001b[39m\u001b[34m(incomplete_path, destination_path, url_to_download, proxies, headers, expected_size, filename, force_download)\u001b[39m\n\u001b[32m   1544\u001b[39m         _check_disk_space(expected_size, incomplete_path.parent)\n\u001b[32m   1545\u001b[39m         _check_disk_space(expected_size, destination_path.parent)\n\u001b[32m-> \u001b[39m\u001b[32m1547\u001b[39m     \u001b[43mhttp_get\u001b[49m\u001b[43m(\u001b[49m\n\u001b[32m   1548\u001b[39m \u001b[43m        \u001b[49m\u001b[43murl_to_download\u001b[49m\u001b[43m,\u001b[49m\n\u001b[32m   1549\u001b[39m \u001b[43m        \u001b[49m\u001b[43mf\u001b[49m\u001b[43m,\u001b[49m\n\u001b[32m   1550\u001b[39m \u001b[43m        \u001b[49m\u001b[43mproxies\u001b[49m\u001b[43m=\u001b[49m\u001b[43mproxies\u001b[49m\u001b[43m,\u001b[49m\n\u001b[32m   1551\u001b[39m \u001b[43m        \u001b[49m\u001b[43mresume_size\u001b[49m\u001b[43m=\u001b[49m\u001b[43mresume_size\u001b[49m\u001b[43m,\u001b[49m\n\u001b[32m   1552\u001b[39m \u001b[43m        \u001b[49m\u001b[43mheaders\u001b[49m\u001b[43m=\u001b[49m\u001b[43mheaders\u001b[49m\u001b[43m,\u001b[49m\n\u001b[32m   1553\u001b[39m \u001b[43m        \u001b[49m\u001b[43mexpected_size\u001b[49m\u001b[43m=\u001b[49m\u001b[43mexpected_size\u001b[49m\u001b[43m,\u001b[49m\n\u001b[32m   1554\u001b[39m \u001b[43m    \u001b[49m\u001b[43m)\u001b[49m\n\u001b[32m   1556\u001b[39m logger.info(\u001b[33mf\u001b[39m\u001b[33m\"\u001b[39m\u001b[33mDownload complete. Moving file to \u001b[39m\u001b[38;5;132;01m{\u001b[39;00mdestination_path\u001b[38;5;132;01m}\u001b[39;00m\u001b[33m\"\u001b[39m)\n\u001b[32m   1557\u001b[39m _chmod_and_move(incomplete_path, destination_path)\n",
      "\u001b[36mFile \u001b[39m\u001b[32mc:\\Users\\rapha\\project\\005-eliza\\.venv\\Lib\\site-packages\\huggingface_hub\\file_download.py:454\u001b[39m, in \u001b[36mhttp_get\u001b[39m\u001b[34m(url, temp_file, proxies, resume_size, headers, expected_size, displayed_filename, _nb_retries, _tqdm_bar)\u001b[39m\n\u001b[32m    452\u001b[39m new_resume_size = resume_size\n\u001b[32m    453\u001b[39m \u001b[38;5;28;01mtry\u001b[39;00m:\n\u001b[32m--> \u001b[39m\u001b[32m454\u001b[39m \u001b[43m    \u001b[49m\u001b[38;5;28;43;01mfor\u001b[39;49;00m\u001b[43m \u001b[49m\u001b[43mchunk\u001b[49m\u001b[43m \u001b[49m\u001b[38;5;129;43;01min\u001b[39;49;00m\u001b[43m \u001b[49m\u001b[43mr\u001b[49m\u001b[43m.\u001b[49m\u001b[43miter_content\u001b[49m\u001b[43m(\u001b[49m\u001b[43mchunk_size\u001b[49m\u001b[43m=\u001b[49m\u001b[43mconstants\u001b[49m\u001b[43m.\u001b[49m\u001b[43mDOWNLOAD_CHUNK_SIZE\u001b[49m\u001b[43m)\u001b[49m\u001b[43m:\u001b[49m\n\u001b[32m    455\u001b[39m \u001b[43m        \u001b[49m\u001b[38;5;28;43;01mif\u001b[39;49;00m\u001b[43m \u001b[49m\u001b[43mchunk\u001b[49m\u001b[43m:\u001b[49m\u001b[43m  \u001b[49m\u001b[38;5;66;43;03m# filter out keep-alive new chunks\u001b[39;49;00m\n\u001b[32m    456\u001b[39m \u001b[43m            \u001b[49m\u001b[43mprogress\u001b[49m\u001b[43m.\u001b[49m\u001b[43mupdate\u001b[49m\u001b[43m(\u001b[49m\u001b[38;5;28;43mlen\u001b[39;49m\u001b[43m(\u001b[49m\u001b[43mchunk\u001b[49m\u001b[43m)\u001b[49m\u001b[43m)\u001b[49m\n",
      "\u001b[36mFile \u001b[39m\u001b[32mc:\\Users\\rapha\\project\\005-eliza\\.venv\\Lib\\site-packages\\requests\\models.py:820\u001b[39m, in \u001b[36mResponse.iter_content.<locals>.generate\u001b[39m\u001b[34m()\u001b[39m\n\u001b[32m    818\u001b[39m \u001b[38;5;28;01mif\u001b[39;00m \u001b[38;5;28mhasattr\u001b[39m(\u001b[38;5;28mself\u001b[39m.raw, \u001b[33m\"\u001b[39m\u001b[33mstream\u001b[39m\u001b[33m\"\u001b[39m):\n\u001b[32m    819\u001b[39m     \u001b[38;5;28;01mtry\u001b[39;00m:\n\u001b[32m--> \u001b[39m\u001b[32m820\u001b[39m         \u001b[38;5;28;01myield from\u001b[39;00m \u001b[38;5;28mself\u001b[39m.raw.stream(chunk_size, decode_content=\u001b[38;5;28;01mTrue\u001b[39;00m)\n\u001b[32m    821\u001b[39m     \u001b[38;5;28;01mexcept\u001b[39;00m ProtocolError \u001b[38;5;28;01mas\u001b[39;00m e:\n\u001b[32m    822\u001b[39m         \u001b[38;5;28;01mraise\u001b[39;00m ChunkedEncodingError(e)\n",
      "\u001b[36mFile \u001b[39m\u001b[32mc:\\Users\\rapha\\project\\005-eliza\\.venv\\Lib\\site-packages\\urllib3\\response.py:1066\u001b[39m, in \u001b[36mHTTPResponse.stream\u001b[39m\u001b[34m(self, amt, decode_content)\u001b[39m\n\u001b[32m   1064\u001b[39m \u001b[38;5;28;01melse\u001b[39;00m:\n\u001b[32m   1065\u001b[39m     \u001b[38;5;28;01mwhile\u001b[39;00m \u001b[38;5;129;01mnot\u001b[39;00m is_fp_closed(\u001b[38;5;28mself\u001b[39m._fp) \u001b[38;5;129;01mor\u001b[39;00m \u001b[38;5;28mlen\u001b[39m(\u001b[38;5;28mself\u001b[39m._decoded_buffer) > \u001b[32m0\u001b[39m:\n\u001b[32m-> \u001b[39m\u001b[32m1066\u001b[39m         data = \u001b[38;5;28;43mself\u001b[39;49m\u001b[43m.\u001b[49m\u001b[43mread\u001b[49m\u001b[43m(\u001b[49m\u001b[43mamt\u001b[49m\u001b[43m=\u001b[49m\u001b[43mamt\u001b[49m\u001b[43m,\u001b[49m\u001b[43m \u001b[49m\u001b[43mdecode_content\u001b[49m\u001b[43m=\u001b[49m\u001b[43mdecode_content\u001b[49m\u001b[43m)\u001b[49m\n\u001b[32m   1068\u001b[39m         \u001b[38;5;28;01mif\u001b[39;00m data:\n\u001b[32m   1069\u001b[39m             \u001b[38;5;28;01myield\u001b[39;00m data\n",
      "\u001b[36mFile \u001b[39m\u001b[32mc:\\Users\\rapha\\project\\005-eliza\\.venv\\Lib\\site-packages\\urllib3\\response.py:955\u001b[39m, in \u001b[36mHTTPResponse.read\u001b[39m\u001b[34m(self, amt, decode_content, cache_content)\u001b[39m\n\u001b[32m    952\u001b[39m     \u001b[38;5;28;01mif\u001b[39;00m \u001b[38;5;28mlen\u001b[39m(\u001b[38;5;28mself\u001b[39m._decoded_buffer) >= amt:\n\u001b[32m    953\u001b[39m         \u001b[38;5;28;01mreturn\u001b[39;00m \u001b[38;5;28mself\u001b[39m._decoded_buffer.get(amt)\n\u001b[32m--> \u001b[39m\u001b[32m955\u001b[39m data = \u001b[38;5;28;43mself\u001b[39;49m\u001b[43m.\u001b[49m\u001b[43m_raw_read\u001b[49m\u001b[43m(\u001b[49m\u001b[43mamt\u001b[49m\u001b[43m)\u001b[49m\n\u001b[32m    957\u001b[39m flush_decoder = amt \u001b[38;5;129;01mis\u001b[39;00m \u001b[38;5;28;01mNone\u001b[39;00m \u001b[38;5;129;01mor\u001b[39;00m (amt != \u001b[32m0\u001b[39m \u001b[38;5;129;01mand\u001b[39;00m \u001b[38;5;129;01mnot\u001b[39;00m data)\n\u001b[32m    959\u001b[39m \u001b[38;5;28;01mif\u001b[39;00m \u001b[38;5;129;01mnot\u001b[39;00m data \u001b[38;5;129;01mand\u001b[39;00m \u001b[38;5;28mlen\u001b[39m(\u001b[38;5;28mself\u001b[39m._decoded_buffer) == \u001b[32m0\u001b[39m:\n",
      "\u001b[36mFile \u001b[39m\u001b[32mc:\\Users\\rapha\\project\\005-eliza\\.venv\\Lib\\site-packages\\urllib3\\response.py:879\u001b[39m, in \u001b[36mHTTPResponse._raw_read\u001b[39m\u001b[34m(self, amt, read1)\u001b[39m\n\u001b[32m    876\u001b[39m fp_closed = \u001b[38;5;28mgetattr\u001b[39m(\u001b[38;5;28mself\u001b[39m._fp, \u001b[33m\"\u001b[39m\u001b[33mclosed\u001b[39m\u001b[33m\"\u001b[39m, \u001b[38;5;28;01mFalse\u001b[39;00m)\n\u001b[32m    878\u001b[39m \u001b[38;5;28;01mwith\u001b[39;00m \u001b[38;5;28mself\u001b[39m._error_catcher():\n\u001b[32m--> \u001b[39m\u001b[32m879\u001b[39m     data = \u001b[38;5;28;43mself\u001b[39;49m\u001b[43m.\u001b[49m\u001b[43m_fp_read\u001b[49m\u001b[43m(\u001b[49m\u001b[43mamt\u001b[49m\u001b[43m,\u001b[49m\u001b[43m \u001b[49m\u001b[43mread1\u001b[49m\u001b[43m=\u001b[49m\u001b[43mread1\u001b[49m\u001b[43m)\u001b[49m \u001b[38;5;28;01mif\u001b[39;00m \u001b[38;5;129;01mnot\u001b[39;00m fp_closed \u001b[38;5;28;01melse\u001b[39;00m \u001b[33mb\u001b[39m\u001b[33m\"\u001b[39m\u001b[33m\"\u001b[39m\n\u001b[32m    880\u001b[39m     \u001b[38;5;28;01mif\u001b[39;00m amt \u001b[38;5;129;01mis\u001b[39;00m \u001b[38;5;129;01mnot\u001b[39;00m \u001b[38;5;28;01mNone\u001b[39;00m \u001b[38;5;129;01mand\u001b[39;00m amt != \u001b[32m0\u001b[39m \u001b[38;5;129;01mand\u001b[39;00m \u001b[38;5;129;01mnot\u001b[39;00m data:\n\u001b[32m    881\u001b[39m         \u001b[38;5;66;03m# Platform-specific: Buggy versions of Python.\u001b[39;00m\n\u001b[32m    882\u001b[39m         \u001b[38;5;66;03m# Close the connection when no data is returned\u001b[39;00m\n\u001b[32m   (...)\u001b[39m\u001b[32m    887\u001b[39m         \u001b[38;5;66;03m# not properly close the connection in all cases. There is\u001b[39;00m\n\u001b[32m    888\u001b[39m         \u001b[38;5;66;03m# no harm in redundantly calling close.\u001b[39;00m\n\u001b[32m    889\u001b[39m         \u001b[38;5;28mself\u001b[39m._fp.close()\n",
      "\u001b[36mFile \u001b[39m\u001b[32mc:\\Users\\rapha\\project\\005-eliza\\.venv\\Lib\\site-packages\\urllib3\\response.py:862\u001b[39m, in \u001b[36mHTTPResponse._fp_read\u001b[39m\u001b[34m(self, amt, read1)\u001b[39m\n\u001b[32m    859\u001b[39m     \u001b[38;5;28;01mreturn\u001b[39;00m \u001b[38;5;28mself\u001b[39m._fp.read1(amt) \u001b[38;5;28;01mif\u001b[39;00m amt \u001b[38;5;129;01mis\u001b[39;00m \u001b[38;5;129;01mnot\u001b[39;00m \u001b[38;5;28;01mNone\u001b[39;00m \u001b[38;5;28;01melse\u001b[39;00m \u001b[38;5;28mself\u001b[39m._fp.read1()\n\u001b[32m    860\u001b[39m \u001b[38;5;28;01melse\u001b[39;00m:\n\u001b[32m    861\u001b[39m     \u001b[38;5;66;03m# StringIO doesn't like amt=None\u001b[39;00m\n\u001b[32m--> \u001b[39m\u001b[32m862\u001b[39m     \u001b[38;5;28;01mreturn\u001b[39;00m \u001b[38;5;28;43mself\u001b[39;49m\u001b[43m.\u001b[49m\u001b[43m_fp\u001b[49m\u001b[43m.\u001b[49m\u001b[43mread\u001b[49m\u001b[43m(\u001b[49m\u001b[43mamt\u001b[49m\u001b[43m)\u001b[49m \u001b[38;5;28;01mif\u001b[39;00m amt \u001b[38;5;129;01mis\u001b[39;00m \u001b[38;5;129;01mnot\u001b[39;00m \u001b[38;5;28;01mNone\u001b[39;00m \u001b[38;5;28;01melse\u001b[39;00m \u001b[38;5;28mself\u001b[39m._fp.read()\n",
      "\u001b[36mFile \u001b[39m\u001b[32mC:\\ProgramData\\anaconda3\\Lib\\http\\client.py:479\u001b[39m, in \u001b[36mHTTPResponse.read\u001b[39m\u001b[34m(self, amt)\u001b[39m\n\u001b[32m    476\u001b[39m \u001b[38;5;28;01mif\u001b[39;00m \u001b[38;5;28mself\u001b[39m.length \u001b[38;5;129;01mis\u001b[39;00m \u001b[38;5;129;01mnot\u001b[39;00m \u001b[38;5;28;01mNone\u001b[39;00m \u001b[38;5;129;01mand\u001b[39;00m amt > \u001b[38;5;28mself\u001b[39m.length:\n\u001b[32m    477\u001b[39m     \u001b[38;5;66;03m# clip the read to the \"end of response\"\u001b[39;00m\n\u001b[32m    478\u001b[39m     amt = \u001b[38;5;28mself\u001b[39m.length\n\u001b[32m--> \u001b[39m\u001b[32m479\u001b[39m s = \u001b[38;5;28;43mself\u001b[39;49m\u001b[43m.\u001b[49m\u001b[43mfp\u001b[49m\u001b[43m.\u001b[49m\u001b[43mread\u001b[49m\u001b[43m(\u001b[49m\u001b[43mamt\u001b[49m\u001b[43m)\u001b[49m\n\u001b[32m    480\u001b[39m \u001b[38;5;28;01mif\u001b[39;00m \u001b[38;5;129;01mnot\u001b[39;00m s \u001b[38;5;129;01mand\u001b[39;00m amt:\n\u001b[32m    481\u001b[39m     \u001b[38;5;66;03m# Ideally, we would raise IncompleteRead if the content-length\u001b[39;00m\n\u001b[32m    482\u001b[39m     \u001b[38;5;66;03m# wasn't satisfied, but it might break compatibility.\u001b[39;00m\n\u001b[32m    483\u001b[39m     \u001b[38;5;28mself\u001b[39m._close_conn()\n",
      "\u001b[36mFile \u001b[39m\u001b[32mC:\\ProgramData\\anaconda3\\Lib\\socket.py:720\u001b[39m, in \u001b[36mSocketIO.readinto\u001b[39m\u001b[34m(self, b)\u001b[39m\n\u001b[32m    718\u001b[39m \u001b[38;5;28;01mwhile\u001b[39;00m \u001b[38;5;28;01mTrue\u001b[39;00m:\n\u001b[32m    719\u001b[39m     \u001b[38;5;28;01mtry\u001b[39;00m:\n\u001b[32m--> \u001b[39m\u001b[32m720\u001b[39m         \u001b[38;5;28;01mreturn\u001b[39;00m \u001b[38;5;28;43mself\u001b[39;49m\u001b[43m.\u001b[49m\u001b[43m_sock\u001b[49m\u001b[43m.\u001b[49m\u001b[43mrecv_into\u001b[49m\u001b[43m(\u001b[49m\u001b[43mb\u001b[49m\u001b[43m)\u001b[49m\n\u001b[32m    721\u001b[39m     \u001b[38;5;28;01mexcept\u001b[39;00m timeout:\n\u001b[32m    722\u001b[39m         \u001b[38;5;28mself\u001b[39m._timeout_occurred = \u001b[38;5;28;01mTrue\u001b[39;00m\n",
      "\u001b[36mFile \u001b[39m\u001b[32mC:\\ProgramData\\anaconda3\\Lib\\ssl.py:1251\u001b[39m, in \u001b[36mSSLSocket.recv_into\u001b[39m\u001b[34m(self, buffer, nbytes, flags)\u001b[39m\n\u001b[32m   1247\u001b[39m     \u001b[38;5;28;01mif\u001b[39;00m flags != \u001b[32m0\u001b[39m:\n\u001b[32m   1248\u001b[39m         \u001b[38;5;28;01mraise\u001b[39;00m \u001b[38;5;167;01mValueError\u001b[39;00m(\n\u001b[32m   1249\u001b[39m           \u001b[33m\"\u001b[39m\u001b[33mnon-zero flags not allowed in calls to recv_into() on \u001b[39m\u001b[38;5;132;01m%s\u001b[39;00m\u001b[33m\"\u001b[39m %\n\u001b[32m   1250\u001b[39m           \u001b[38;5;28mself\u001b[39m.\u001b[34m__class__\u001b[39m)\n\u001b[32m-> \u001b[39m\u001b[32m1251\u001b[39m     \u001b[38;5;28;01mreturn\u001b[39;00m \u001b[38;5;28;43mself\u001b[39;49m\u001b[43m.\u001b[49m\u001b[43mread\u001b[49m\u001b[43m(\u001b[49m\u001b[43mnbytes\u001b[49m\u001b[43m,\u001b[49m\u001b[43m \u001b[49m\u001b[43mbuffer\u001b[49m\u001b[43m)\u001b[49m\n\u001b[32m   1252\u001b[39m \u001b[38;5;28;01melse\u001b[39;00m:\n\u001b[32m   1253\u001b[39m     \u001b[38;5;28;01mreturn\u001b[39;00m \u001b[38;5;28msuper\u001b[39m().recv_into(buffer, nbytes, flags)\n",
      "\u001b[36mFile \u001b[39m\u001b[32mC:\\ProgramData\\anaconda3\\Lib\\ssl.py:1103\u001b[39m, in \u001b[36mSSLSocket.read\u001b[39m\u001b[34m(self, len, buffer)\u001b[39m\n\u001b[32m   1101\u001b[39m \u001b[38;5;28;01mtry\u001b[39;00m:\n\u001b[32m   1102\u001b[39m     \u001b[38;5;28;01mif\u001b[39;00m buffer \u001b[38;5;129;01mis\u001b[39;00m \u001b[38;5;129;01mnot\u001b[39;00m \u001b[38;5;28;01mNone\u001b[39;00m:\n\u001b[32m-> \u001b[39m\u001b[32m1103\u001b[39m         \u001b[38;5;28;01mreturn\u001b[39;00m \u001b[38;5;28;43mself\u001b[39;49m\u001b[43m.\u001b[49m\u001b[43m_sslobj\u001b[49m\u001b[43m.\u001b[49m\u001b[43mread\u001b[49m\u001b[43m(\u001b[49m\u001b[38;5;28;43mlen\u001b[39;49m\u001b[43m,\u001b[49m\u001b[43m \u001b[49m\u001b[43mbuffer\u001b[49m\u001b[43m)\u001b[49m\n\u001b[32m   1104\u001b[39m     \u001b[38;5;28;01melse\u001b[39;00m:\n\u001b[32m   1105\u001b[39m         \u001b[38;5;28;01mreturn\u001b[39;00m \u001b[38;5;28mself\u001b[39m._sslobj.read(\u001b[38;5;28mlen\u001b[39m)\n",
      "\u001b[31mKeyboardInterrupt\u001b[39m: "
     ]
    }
   ],
   "source": [
    "# Requires !pip install sentence-transformers\n",
    "from sentence_transformers import SentenceTransformer\n",
    "embedding_model = SentenceTransformer(model_name_or_path=\"all-mpnet-base-v2\", \n",
    "                                      device=\"cpu\") # choose the device to load the model to (note: GPU will often be *much* faster than CPU)\n",
    "\n",
    "# Create a list of sentences to turn into numbers\n",
    "sentences = [\n",
    "    \"The Sentences Transformers library provides an easy and open-source way to create embeddings.\",\n",
    "    \"Sentences can be embedded one by one or as a list of strings.\",\n",
    "    \"Embeddings are one of the most powerful concepts in machine learning!\",\n",
    "    \"Learn to use embeddings well and you'll be well on your way to being an AI engineer.\"\n",
    "]\n",
    "\n",
    "# Sentences are encoded/embedded by calling model.encode()\n",
    "embeddings = embedding_model.encode(sentences)\n",
    "embeddings_dict = dict(zip(sentences, embeddings))\n",
    "\n",
    "# See the embeddings\n",
    "for sentence, embedding in embeddings_dict.items():\n",
    "    print(\"Sentence:\", sentence)\n",
    "    print(\"Embedding:\", embedding)\n",
    "    print(\"\")\n",
    "\n",
    "single_sentence = \"Yo! How cool are embeddings?\"\n",
    "single_embedding = embedding_model.encode(single_sentence)\n",
    "print(f\"Sentence: {single_sentence}\")\n",
    "print(f\"Embedding:\\n{single_embedding}\")\n",
    "print(f\"Embedding size: {single_embedding.shape}\")"
   ]
  },
  {
   "cell_type": "code",
   "execution_count": null,
   "metadata": {},
   "outputs": [],
   "source": [
    "# Save embeddings to file\n",
    "text_chunks_and_embeddings_df = pd.DataFrame(pages_and_chunks_over_min_token_len)\n",
    "embeddings_df_save_path = \"text_chunks_and_embeddings_df.csv\"\n",
    "text_chunks_and_embeddings_df.to_csv(embeddings_df_save_path, index=False)\n",
    "\n",
    "text_chunks_and_embedding_df_load = pd.read_csv(embeddings_df_save_path)\n",
    "text_chunks_and_embedding_df_load.head()"
   ]
  },
  {
   "cell_type": "markdown",
   "metadata": {},
   "source": [
    "### Embedding our text chunks\n",
    "\n",
    "BPE tokeniser\n",
    "Unsupervised text tokenizer for Neural Network-based text generation.\n",
    "\n",
    "\n",
    "While humans understand text, machines understand numbers best.\n",
    "\n",
    "An [embedding](https://vickiboykis.com/what_are_embeddings/index.html) is a broad concept.\n",
    "\n",
    "But one of my favourite and simple definitions is \"a useful numerical representation\".\n",
    "\n",
    "The most powerful thing about modern embeddings is that they are *learned* representations.\n",
    "\n",
    "Meaning rather than directly mapping words/tokens/characters to numbers directly (e.g. `{\"a\": 0, \"b\": 1, \"c\": 3...}`), the numerical representation of tokens is learned by going through large corpuses of text and figuring out how different tokens relate to each other.\n",
    "\n",
    "Ideally, embeddings of text will mean that similar meaning texts have similar numerical representation.\n",
    "\n",
    "> **Note:** Most modern NLP models deal with \"tokens\" which can be considered as multiple different sizes and combinations of words and characters rather than always whole words or single characters. For example, the string `\"hello world!\"` gets mapped to the token values `{15339: b'hello', 1917: b' world', 0: b'!'}` using [Byte pair encoding](https://en.wikipedia.org/wiki/Byte_pair_encoding) (or BPE via OpenAI's [`tiktoken`](https://github.com/openai/tiktoken) library). Google has a tokenization library called [SentencePiece](https://github.com/google/sentencepiece).\n",
    "\n",
    "Our goal is to turn each of our chunks into a numerical representation (an embedding vector, where a vector is a sequence of numbers arranged in order).\n",
    "\n",
    "Once our text samples are in embedding vectors, us humans will no longer be able to understand them.\n",
    "\n",
    "However, we don't need to.\n",
    "\n",
    "The embedding vectors are for our computers to understand.\n",
    "\n",
    "We'll use our computers to find patterns in the embeddings and then we can use their text mappings to further our understanding.\n",
    "\n",
    "Enough talking, how about we import a text embedding model and see what an embedding looks like.\n",
    "\n",
    "To do so, we'll use the [`sentence-transformers`](https://www.sbert.net/docs/installation.html) library which contains many pre-trained embedding models.\n",
    "\n",
    "Specifically, we'll get the `all-mpnet-base-v2` model (you can see the model's intended use on the [Hugging Face model card](https://huggingface.co/sentence-transformers/all-mpnet-base-v2#intended-uses)).\n",
    "\n",
    "### Chunking and embedding questions\n",
    "\n",
    "> **Which embedding model should I use?**\n",
    "\n",
    "This depends on many factors. My best advice is to experiment, experiment, experiment! \n",
    "\n",
    "If you want the model to run locally, you'll have to make sure it's feasible to run on your own hardware. \n",
    "\n",
    "A good place to see how different models perform on a wide range of embedding tasks is the [Hugging Face Massive Text Embedding Benchmark (MTEB) Leaderboard](https://huggingface.co/spaces/mteb/leaderboard).\n",
    "\n",
    "> **What other forms of text chunking/splitting are there?**\n",
    "\n",
    "There are a fair few options here too. We've kept it simple with groups of sentences.\n",
    "\n",
    "For more, [Pinecone has a great guide on different kinds of chunking](https://www.pinecone.io/learn/chunking-strategies/) including for different kinds of data such as markdown and LaTeX.\n",
    "\n",
    "Libraries such as [LangChain also have a good amount of in-built text splitting options](https://python.langchain.com/docs/modules/data_connection/document_transformers/).\n",
    "\n",
    "> **What should I think about when creating my embeddings?**\n",
    "\n",
    "Our model turns text inputs up to 384 tokens long in embedding vectors of size 768.\n",
    "\n",
    "Generally, the larger the vector size, the more information that gets encoded into the embedding (however, this is not always the case, as smaller, better models can outperform larger ones).\n",
    "\n",
    "Though with larger vector sizes comes larger storage and compute requirements.\n",
    "\n",
    "Our model is also relatively small (420MB) in size compared to larger models that are available.\n",
    "\n",
    "Larger models may result in better performance but will also require more compute.\n",
    "\n",
    "So some things to think about:\n",
    "* Size of input - If you need to embed longer sequences, choose a model with a larger input capacity.\n",
    "* Size of embedding vector - Larger is generally a better representation but requires more compute/storage.\n",
    "* Size of model - Larger models generally result in better embeddings but require more compute power/time to run.\n",
    "* Open or closed - Open models allow you to run them on your own hardware whereas closed models can be easier to setup but require an API call to get embeddings.\n",
    "\n",
    "> **Where should I store my embeddings?**\n",
    "\n",
    "If you've got a relatively small dataset, for example, under 100,000 examples (this number is rough and only based on first hand experience), `np.array` or `torch.tensor` can work just fine as your dataset.\n",
    "\n",
    "But if you've got a production system and want to work with 100,000+ embeddings, you may want to look into a [vector database]( https://en.wikipedia.org/wiki/Vector_database) (these have become very popular lately and there are many offerings).\n",
    "\n",
    "### Document Ingestion and Embedding Creation Extensions\n",
    "\n",
    "One major extension to the workflow above would to functionize it.\n",
    "\n",
    "Or turn it into a script.\n",
    "\n",
    "As in, take all the functionality we've created and package it into a single process (e.g. go from document -> embeddings file).\n",
    "\n",
    "So you could input a document on one end and have embeddings come out the other end. The hardest part of this is knowing what kind of preprocessing your text may need before it's turned into embeddings. Cleaner text generally means better results.\n"
   ]
  }
 ],
 "metadata": {
  "kernelspec": {
   "display_name": ".venv",
   "language": "python",
   "name": "python3"
  },
  "language_info": {
   "codemirror_mode": {
    "name": "ipython",
    "version": 3
   },
   "file_extension": ".py",
   "mimetype": "text/x-python",
   "name": "python",
   "nbconvert_exporter": "python",
   "pygments_lexer": "ipython3",
   "version": "3.12.7"
  }
 },
 "nbformat": 4,
 "nbformat_minor": 2
}
